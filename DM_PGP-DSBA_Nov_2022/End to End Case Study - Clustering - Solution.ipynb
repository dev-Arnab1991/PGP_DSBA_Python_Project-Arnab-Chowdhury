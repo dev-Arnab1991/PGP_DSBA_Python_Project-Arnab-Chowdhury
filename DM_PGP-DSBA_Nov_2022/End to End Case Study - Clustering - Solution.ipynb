{
 "cells": [
  {
   "cell_type": "markdown",
   "metadata": {},
   "source": [
    "<span style=\"font-family: Arial; font-weight:bold;font-size:1.5em;\"> Problem Statement \n",
    "    \n",
    "The dataset given is about the Health and economic conditions in different States of a country. Group States based on how similar their situation is, so as to provide these groups to the government such that appropriate measures can be taken to escalate their Health and Economic conditions. \n",
    " \n",
    "\n",
    " \n",
    " \n",
    "Data Dictionary for State_wise_Health_income: \n",
    "\n",
    " 1. **States**- names of States  \n",
    " 2. **Health_indeces1**: A composite index rolls several related measures (indicators) into a single score that provides a summary of how the health system is performing in the State.  \n",
    " 3. **Health_indeces2**: A composite index rolls several related measures (indicators) into a single score that provides a summary of how the health system is performing in certain areas of the States.  \n",
    " 4. **Per_capita_income**-Per capita income (PCI) measures the average income earned per person in a given area (city, region, country, etc.) in a specified year. It is calculated by dividing the area's total income by its total population.  \n",
    " 5. **GDP**: GDP provides an economic snapshot of a country/State, used to estimate the size of an economy and growth rate. \n",
    " \n",
    " \n",
    "Dataset for Problem 1: State_wise_Health_income.csv "
   ]
  },
  {
   "cell_type": "markdown",
   "metadata": {},
   "source": [
    "**Import all the required packages**"
   ]
  },
  {
   "cell_type": "code",
   "execution_count": 1,
   "metadata": {
    "ExecuteTime": {
     "end_time": "2021-01-19T13:23:33.736612Z",
     "start_time": "2021-01-19T13:23:19.359046Z"
    }
   },
   "outputs": [],
   "source": [
    "import numpy as np \n",
    "import pandas as pd\n",
    "import os\n",
    "import matplotlib.pyplot as plt\n",
    "import seaborn as sns\n",
    "import warnings\n",
    "warnings.filterwarnings(\"ignore\")"
   ]
  },
  {
   "cell_type": "markdown",
   "metadata": {},
   "source": [
    "**Read the Dataset**\n",
    "    \n"
   ]
  },
  {
   "cell_type": "code",
   "execution_count": 2,
   "metadata": {
    "ExecuteTime": {
     "end_time": "2021-01-19T13:23:33.904338Z",
     "start_time": "2021-01-19T13:23:33.738360Z"
    }
   },
   "outputs": [],
   "source": [
    "df = pd.read_csv('State_wise_Health_income.csv')"
   ]
  },
  {
   "cell_type": "markdown",
   "metadata": {},
   "source": [
    "<span style=\"font-family: Arial; font-weight:bold;font-size:1.5em;\"> Q 1\n",
    "\n",
    "**Check for the significance of the columns in this clustering exercise. Drop the columns which are not significant,if any.**\n"
   ]
  },
  {
   "cell_type": "code",
   "execution_count": 3,
   "metadata": {
    "ExecuteTime": {
     "end_time": "2021-01-19T13:23:33.963923Z",
     "start_time": "2021-01-19T13:23:33.906332Z"
    }
   },
   "outputs": [],
   "source": [
    "dataset = df.copy()"
   ]
  },
  {
   "cell_type": "code",
   "execution_count": 4,
   "metadata": {
    "ExecuteTime": {
     "end_time": "2021-01-19T13:23:34.205657Z",
     "start_time": "2021-01-19T13:23:33.965959Z"
    }
   },
   "outputs": [
    {
     "data": {
      "text/html": [
       "<div>\n",
       "<style scoped>\n",
       "    .dataframe tbody tr th:only-of-type {\n",
       "        vertical-align: middle;\n",
       "    }\n",
       "\n",
       "    .dataframe tbody tr th {\n",
       "        vertical-align: top;\n",
       "    }\n",
       "\n",
       "    .dataframe thead th {\n",
       "        text-align: right;\n",
       "    }\n",
       "</style>\n",
       "<table border=\"1\" class=\"dataframe\">\n",
       "  <thead>\n",
       "    <tr style=\"text-align: right;\">\n",
       "      <th></th>\n",
       "      <th>Unnamed: 0</th>\n",
       "      <th>States</th>\n",
       "      <th>Health_indices1</th>\n",
       "      <th>Health_indices2</th>\n",
       "      <th>Per_capita_income</th>\n",
       "      <th>GDP</th>\n",
       "    </tr>\n",
       "  </thead>\n",
       "  <tbody>\n",
       "    <tr>\n",
       "      <th>0</th>\n",
       "      <td>0</td>\n",
       "      <td>Bachevo</td>\n",
       "      <td>417</td>\n",
       "      <td>66</td>\n",
       "      <td>564</td>\n",
       "      <td>1823</td>\n",
       "    </tr>\n",
       "    <tr>\n",
       "      <th>1</th>\n",
       "      <td>1</td>\n",
       "      <td>Balgarchevo</td>\n",
       "      <td>1485</td>\n",
       "      <td>646</td>\n",
       "      <td>2710</td>\n",
       "      <td>73662</td>\n",
       "    </tr>\n",
       "    <tr>\n",
       "      <th>2</th>\n",
       "      <td>2</td>\n",
       "      <td>Belasitsa</td>\n",
       "      <td>654</td>\n",
       "      <td>299</td>\n",
       "      <td>1104</td>\n",
       "      <td>27318</td>\n",
       "    </tr>\n",
       "    <tr>\n",
       "      <th>3</th>\n",
       "      <td>3</td>\n",
       "      <td>Belo_Pole</td>\n",
       "      <td>192</td>\n",
       "      <td>25</td>\n",
       "      <td>573</td>\n",
       "      <td>250</td>\n",
       "    </tr>\n",
       "    <tr>\n",
       "      <th>4</th>\n",
       "      <td>4</td>\n",
       "      <td>Beslen</td>\n",
       "      <td>43</td>\n",
       "      <td>8</td>\n",
       "      <td>528</td>\n",
       "      <td>22</td>\n",
       "    </tr>\n",
       "  </tbody>\n",
       "</table>\n",
       "</div>"
      ],
      "text/plain": [
       "   Unnamed: 0       States  Health_indices1  Health_indices2  \\\n",
       "0           0      Bachevo              417               66   \n",
       "1           1  Balgarchevo             1485              646   \n",
       "2           2    Belasitsa              654              299   \n",
       "3           3    Belo_Pole              192               25   \n",
       "4           4       Beslen               43                8   \n",
       "\n",
       "   Per_capita_income    GDP  \n",
       "0                564   1823  \n",
       "1               2710  73662  \n",
       "2               1104  27318  \n",
       "3                573    250  \n",
       "4                528     22  "
      ]
     },
     "execution_count": 4,
     "metadata": {},
     "output_type": "execute_result"
    }
   ],
   "source": [
    "dataset.head()"
   ]
  },
  {
   "cell_type": "code",
   "execution_count": 5,
   "metadata": {
    "ExecuteTime": {
     "end_time": "2021-01-19T13:23:34.234555Z",
     "start_time": "2021-01-19T13:23:34.209598Z"
    }
   },
   "outputs": [],
   "source": [
    "dataset = dataset.drop(['Unnamed: 0','States'], axis=1)"
   ]
  },
  {
   "cell_type": "code",
   "execution_count": 6,
   "metadata": {
    "ExecuteTime": {
     "end_time": "2021-01-19T13:23:34.323128Z",
     "start_time": "2021-01-19T13:23:34.237515Z"
    }
   },
   "outputs": [
    {
     "data": {
      "text/html": [
       "<div>\n",
       "<style scoped>\n",
       "    .dataframe tbody tr th:only-of-type {\n",
       "        vertical-align: middle;\n",
       "    }\n",
       "\n",
       "    .dataframe tbody tr th {\n",
       "        vertical-align: top;\n",
       "    }\n",
       "\n",
       "    .dataframe thead th {\n",
       "        text-align: right;\n",
       "    }\n",
       "</style>\n",
       "<table border=\"1\" class=\"dataframe\">\n",
       "  <thead>\n",
       "    <tr style=\"text-align: right;\">\n",
       "      <th></th>\n",
       "      <th>Health_indices1</th>\n",
       "      <th>Health_indices2</th>\n",
       "      <th>Per_capita_income</th>\n",
       "      <th>GDP</th>\n",
       "    </tr>\n",
       "  </thead>\n",
       "  <tbody>\n",
       "    <tr>\n",
       "      <th>0</th>\n",
       "      <td>417</td>\n",
       "      <td>66</td>\n",
       "      <td>564</td>\n",
       "      <td>1823</td>\n",
       "    </tr>\n",
       "    <tr>\n",
       "      <th>1</th>\n",
       "      <td>1485</td>\n",
       "      <td>646</td>\n",
       "      <td>2710</td>\n",
       "      <td>73662</td>\n",
       "    </tr>\n",
       "    <tr>\n",
       "      <th>2</th>\n",
       "      <td>654</td>\n",
       "      <td>299</td>\n",
       "      <td>1104</td>\n",
       "      <td>27318</td>\n",
       "    </tr>\n",
       "    <tr>\n",
       "      <th>3</th>\n",
       "      <td>192</td>\n",
       "      <td>25</td>\n",
       "      <td>573</td>\n",
       "      <td>250</td>\n",
       "    </tr>\n",
       "    <tr>\n",
       "      <th>4</th>\n",
       "      <td>43</td>\n",
       "      <td>8</td>\n",
       "      <td>528</td>\n",
       "      <td>22</td>\n",
       "    </tr>\n",
       "  </tbody>\n",
       "</table>\n",
       "</div>"
      ],
      "text/plain": [
       "   Health_indices1  Health_indices2  Per_capita_income    GDP\n",
       "0              417               66                564   1823\n",
       "1             1485              646               2710  73662\n",
       "2              654              299               1104  27318\n",
       "3              192               25                573    250\n",
       "4               43                8                528     22"
      ]
     },
     "execution_count": 6,
     "metadata": {},
     "output_type": "execute_result"
    }
   ],
   "source": [
    "dataset.head()"
   ]
  },
  {
   "cell_type": "markdown",
   "metadata": {},
   "source": [
    "<span style=\"font-family: Arial; font-weight:bold;font-size:1.5em;\"> Q 2\n",
    "\n",
    "**Check the various data types present in the data,whether there are null values present and the shape of the data. Also, check the basic measures of descriptive statistics of the data.**\n"
   ]
  },
  {
   "cell_type": "code",
   "execution_count": 7,
   "metadata": {
    "ExecuteTime": {
     "end_time": "2021-01-19T13:23:34.410917Z",
     "start_time": "2021-01-19T13:23:34.325085Z"
    }
   },
   "outputs": [
    {
     "name": "stdout",
     "output_type": "stream",
     "text": [
      "<class 'pandas.core.frame.DataFrame'>\n",
      "RangeIndex: 296 entries, 0 to 295\n",
      "Data columns (total 4 columns):\n",
      " #   Column             Non-Null Count  Dtype\n",
      "---  ------             --------------  -----\n",
      " 0   Health_indices1    296 non-null    int64\n",
      " 1   Health_indices2    296 non-null    int64\n",
      " 2   Per_capita_income  296 non-null    int64\n",
      " 3   GDP                296 non-null    int64\n",
      "dtypes: int64(4)\n",
      "memory usage: 9.4 KB\n",
      "None\n"
     ]
    }
   ],
   "source": [
    "print(dataset.info())"
   ]
  },
  {
   "cell_type": "code",
   "execution_count": 8,
   "metadata": {
    "ExecuteTime": {
     "end_time": "2021-01-19T13:23:34.490820Z",
     "start_time": "2021-01-19T13:23:34.413910Z"
    }
   },
   "outputs": [
    {
     "data": {
      "text/plain": [
       "Health_indices1      0\n",
       "Health_indices2      0\n",
       "Per_capita_income    0\n",
       "GDP                  0\n",
       "dtype: int64"
      ]
     },
     "execution_count": 8,
     "metadata": {},
     "output_type": "execute_result"
    }
   ],
   "source": [
    "dataset.isnull().sum()"
   ]
  },
  {
   "cell_type": "code",
   "execution_count": 9,
   "metadata": {
    "ExecuteTime": {
     "end_time": "2021-01-19T13:23:34.588050Z",
     "start_time": "2021-01-19T13:23:34.492810Z"
    }
   },
   "outputs": [
    {
     "data": {
      "text/plain": [
       "(296, 4)"
      ]
     },
     "execution_count": 9,
     "metadata": {},
     "output_type": "execute_result"
    }
   ],
   "source": [
    "dataset.shape"
   ]
  },
  {
   "cell_type": "code",
   "execution_count": 10,
   "metadata": {
    "ExecuteTime": {
     "end_time": "2021-01-19T13:23:34.908324Z",
     "start_time": "2021-01-19T13:23:34.589004Z"
    }
   },
   "outputs": [
    {
     "data": {
      "text/html": [
       "<div>\n",
       "<style scoped>\n",
       "    .dataframe tbody tr th:only-of-type {\n",
       "        vertical-align: middle;\n",
       "    }\n",
       "\n",
       "    .dataframe tbody tr th {\n",
       "        vertical-align: top;\n",
       "    }\n",
       "\n",
       "    .dataframe thead th {\n",
       "        text-align: right;\n",
       "    }\n",
       "</style>\n",
       "<table border=\"1\" class=\"dataframe\">\n",
       "  <thead>\n",
       "    <tr style=\"text-align: right;\">\n",
       "      <th></th>\n",
       "      <th>Health_indices1</th>\n",
       "      <th>Health_indices2</th>\n",
       "      <th>Per_capita_income</th>\n",
       "      <th>GDP</th>\n",
       "    </tr>\n",
       "  </thead>\n",
       "  <tbody>\n",
       "    <tr>\n",
       "      <th>count</th>\n",
       "      <td>296.000000</td>\n",
       "      <td>296.000000</td>\n",
       "      <td>296.000000</td>\n",
       "      <td>296.000000</td>\n",
       "    </tr>\n",
       "    <tr>\n",
       "      <th>mean</th>\n",
       "      <td>2629.195946</td>\n",
       "      <td>693.594595</td>\n",
       "      <td>2159.597973</td>\n",
       "      <td>174717.050676</td>\n",
       "    </tr>\n",
       "    <tr>\n",
       "      <th>std</th>\n",
       "      <td>2041.890970</td>\n",
       "      <td>469.738035</td>\n",
       "      <td>1493.663013</td>\n",
       "      <td>167439.128587</td>\n",
       "    </tr>\n",
       "    <tr>\n",
       "      <th>min</th>\n",
       "      <td>-10.000000</td>\n",
       "      <td>0.000000</td>\n",
       "      <td>500.000000</td>\n",
       "      <td>22.000000</td>\n",
       "    </tr>\n",
       "    <tr>\n",
       "      <th>25%</th>\n",
       "      <td>640.000000</td>\n",
       "      <td>173.500000</td>\n",
       "      <td>746.000000</td>\n",
       "      <td>8679.500000</td>\n",
       "    </tr>\n",
       "    <tr>\n",
       "      <th>50%</th>\n",
       "      <td>2446.500000</td>\n",
       "      <td>810.500000</td>\n",
       "      <td>1869.000000</td>\n",
       "      <td>135748.500000</td>\n",
       "    </tr>\n",
       "    <tr>\n",
       "      <th>75%</th>\n",
       "      <td>4102.750000</td>\n",
       "      <td>1076.000000</td>\n",
       "      <td>3138.750000</td>\n",
       "      <td>314751.250000</td>\n",
       "    </tr>\n",
       "    <tr>\n",
       "      <th>max</th>\n",
       "      <td>10219.000000</td>\n",
       "      <td>1508.000000</td>\n",
       "      <td>7049.000000</td>\n",
       "      <td>728575.000000</td>\n",
       "    </tr>\n",
       "  </tbody>\n",
       "</table>\n",
       "</div>"
      ],
      "text/plain": [
       "       Health_indices1  Health_indices2  Per_capita_income            GDP\n",
       "count       296.000000       296.000000         296.000000     296.000000\n",
       "mean       2629.195946       693.594595        2159.597973  174717.050676\n",
       "std        2041.890970       469.738035        1493.663013  167439.128587\n",
       "min         -10.000000         0.000000         500.000000      22.000000\n",
       "25%         640.000000       173.500000         746.000000    8679.500000\n",
       "50%        2446.500000       810.500000        1869.000000  135748.500000\n",
       "75%        4102.750000      1076.000000        3138.750000  314751.250000\n",
       "max       10219.000000      1508.000000        7049.000000  728575.000000"
      ]
     },
     "execution_count": 10,
     "metadata": {},
     "output_type": "execute_result"
    }
   ],
   "source": [
    "dataset.describe()"
   ]
  },
  {
   "cell_type": "markdown",
   "metadata": {},
   "source": [
    "<span style=\"font-family: Arial; font-weight:bold;font-size:1.5em;\"> Q 3\n",
    "    \n",
    "**Do you think scaling is necessary here. If Yes, scale the data using StandardScaler or ZScore Scaling.**\n"
   ]
  },
  {
   "cell_type": "markdown",
   "metadata": {},
   "source": [
    "Yes, scaling is required in this data set as all features have different weights and to ensure that none of the feature is identified as important only because of the weight, scaling is mandatory for this data set"
   ]
  },
  {
   "cell_type": "code",
   "execution_count": 11,
   "metadata": {
    "ExecuteTime": {
     "end_time": "2021-01-19T13:23:36.327601Z",
     "start_time": "2021-01-19T13:23:36.182289Z"
    }
   },
   "outputs": [
    {
     "data": {
      "text/html": [
       "<div>\n",
       "<style scoped>\n",
       "    .dataframe tbody tr th:only-of-type {\n",
       "        vertical-align: middle;\n",
       "    }\n",
       "\n",
       "    .dataframe tbody tr th {\n",
       "        vertical-align: top;\n",
       "    }\n",
       "\n",
       "    .dataframe thead th {\n",
       "        text-align: right;\n",
       "    }\n",
       "</style>\n",
       "<table border=\"1\" class=\"dataframe\">\n",
       "  <thead>\n",
       "    <tr style=\"text-align: right;\">\n",
       "      <th></th>\n",
       "      <th>Health_indices1</th>\n",
       "      <th>Health_indices2</th>\n",
       "      <th>Per_capita_income</th>\n",
       "      <th>GDP</th>\n",
       "    </tr>\n",
       "  </thead>\n",
       "  <tbody>\n",
       "    <tr>\n",
       "      <th>0</th>\n",
       "      <td>-1.085240</td>\n",
       "      <td>-1.338315</td>\n",
       "      <td>-1.070054</td>\n",
       "      <td>-1.034327</td>\n",
       "    </tr>\n",
       "    <tr>\n",
       "      <th>1</th>\n",
       "      <td>-0.561310</td>\n",
       "      <td>-0.101493</td>\n",
       "      <td>0.369115</td>\n",
       "      <td>-0.604555</td>\n",
       "    </tr>\n",
       "    <tr>\n",
       "      <th>2</th>\n",
       "      <td>-0.968975</td>\n",
       "      <td>-0.841454</td>\n",
       "      <td>-0.707914</td>\n",
       "      <td>-0.881805</td>\n",
       "    </tr>\n",
       "    <tr>\n",
       "      <th>3</th>\n",
       "      <td>-1.195619</td>\n",
       "      <td>-1.425745</td>\n",
       "      <td>-1.064018</td>\n",
       "      <td>-1.043738</td>\n",
       "    </tr>\n",
       "    <tr>\n",
       "      <th>4</th>\n",
       "      <td>-1.268714</td>\n",
       "      <td>-1.461997</td>\n",
       "      <td>-1.094197</td>\n",
       "      <td>-1.045102</td>\n",
       "    </tr>\n",
       "  </tbody>\n",
       "</table>\n",
       "</div>"
      ],
      "text/plain": [
       "   Health_indices1  Health_indices2  Per_capita_income       GDP\n",
       "0        -1.085240        -1.338315          -1.070054 -1.034327\n",
       "1        -0.561310        -0.101493           0.369115 -0.604555\n",
       "2        -0.968975        -0.841454          -0.707914 -0.881805\n",
       "3        -1.195619        -1.425745          -1.064018 -1.043738\n",
       "4        -1.268714        -1.461997          -1.094197 -1.045102"
      ]
     },
     "execution_count": 11,
     "metadata": {},
     "output_type": "execute_result"
    }
   ],
   "source": [
    "## Scaling the data using the ZScore Scaling function\n",
    "\n",
    "from scipy.stats import zscore\n",
    "\n",
    "#apply the scaler to the data:\n",
    "df_scaled =  dataset.apply(zscore)\n",
    "df_scaled.head()"
   ]
  },
  {
   "cell_type": "code",
   "execution_count": 12,
   "metadata": {
    "ExecuteTime": {
     "end_time": "2021-01-19T13:23:38.045549Z",
     "start_time": "2021-01-19T13:23:36.329556Z"
    }
   },
   "outputs": [
    {
     "data": {
      "text/html": [
       "<div>\n",
       "<style scoped>\n",
       "    .dataframe tbody tr th:only-of-type {\n",
       "        vertical-align: middle;\n",
       "    }\n",
       "\n",
       "    .dataframe tbody tr th {\n",
       "        vertical-align: top;\n",
       "    }\n",
       "\n",
       "    .dataframe thead th {\n",
       "        text-align: right;\n",
       "    }\n",
       "</style>\n",
       "<table border=\"1\" class=\"dataframe\">\n",
       "  <thead>\n",
       "    <tr style=\"text-align: right;\">\n",
       "      <th></th>\n",
       "      <th>Health_indices1</th>\n",
       "      <th>Health_indices2</th>\n",
       "      <th>Per_capita_income</th>\n",
       "      <th>GDP</th>\n",
       "    </tr>\n",
       "  </thead>\n",
       "  <tbody>\n",
       "    <tr>\n",
       "      <th>0</th>\n",
       "      <td>-1.085240</td>\n",
       "      <td>-1.338315</td>\n",
       "      <td>-1.070054</td>\n",
       "      <td>-1.034327</td>\n",
       "    </tr>\n",
       "    <tr>\n",
       "      <th>1</th>\n",
       "      <td>-0.561310</td>\n",
       "      <td>-0.101493</td>\n",
       "      <td>0.369115</td>\n",
       "      <td>-0.604555</td>\n",
       "    </tr>\n",
       "    <tr>\n",
       "      <th>2</th>\n",
       "      <td>-0.968975</td>\n",
       "      <td>-0.841454</td>\n",
       "      <td>-0.707914</td>\n",
       "      <td>-0.881805</td>\n",
       "    </tr>\n",
       "    <tr>\n",
       "      <th>3</th>\n",
       "      <td>-1.195619</td>\n",
       "      <td>-1.425745</td>\n",
       "      <td>-1.064018</td>\n",
       "      <td>-1.043738</td>\n",
       "    </tr>\n",
       "    <tr>\n",
       "      <th>4</th>\n",
       "      <td>-1.268714</td>\n",
       "      <td>-1.461997</td>\n",
       "      <td>-1.094197</td>\n",
       "      <td>-1.045102</td>\n",
       "    </tr>\n",
       "  </tbody>\n",
       "</table>\n",
       "</div>"
      ],
      "text/plain": [
       "   Health_indices1  Health_indices2  Per_capita_income       GDP\n",
       "0        -1.085240        -1.338315          -1.070054 -1.034327\n",
       "1        -0.561310        -0.101493           0.369115 -0.604555\n",
       "2        -0.968975        -0.841454          -0.707914 -0.881805\n",
       "3        -1.195619        -1.425745          -1.064018 -1.043738\n",
       "4        -1.268714        -1.461997          -1.094197 -1.045102"
      ]
     },
     "execution_count": 12,
     "metadata": {},
     "output_type": "execute_result"
    }
   ],
   "source": [
    "## Scaling the data using the StandardScaler function\n",
    "\n",
    "from sklearn.preprocessing import StandardScaler\n",
    "X = StandardScaler()\n",
    "\n",
    "#assign scaler to column:\n",
    "df_scaled =  X.fit_transform(dataset)\n",
    "df_scaled = pd.DataFrame(df_scaled,columns=dataset.columns)\n",
    "df_scaled.head()"
   ]
  },
  {
   "cell_type": "markdown",
   "metadata": {},
   "source": [
    "<span style=\"font-family: Arial; font-weight:bold;font-size:1.5em;\"> Q 4\n",
    "\n",
    "**Apply hierarchical clustering to the scaled data using Euclidean distance and 'Ward's' linkage method. Identify the number of optimum clusters using Dendrogram and describe a reason for selecting the number of optimum clusters.**"
   ]
  },
  {
   "cell_type": "code",
   "execution_count": 13,
   "metadata": {
    "ExecuteTime": {
     "end_time": "2021-01-19T13:23:38.328756Z",
     "start_time": "2021-01-19T13:23:38.324797Z"
    }
   },
   "outputs": [],
   "source": [
    "import scipy.cluster.hierarchy as shc"
   ]
  },
  {
   "cell_type": "code",
   "execution_count": 38,
   "metadata": {
    "ExecuteTime": {
     "end_time": "2021-01-19T13:23:46.275045Z",
     "start_time": "2021-01-19T13:23:44.616481Z"
    }
   },
   "outputs": [
    {
     "data": {
      "image/png": "[encoded data removed]",
      "text/plain": [
       "<Figure size 3600x1440 with 1 Axes>"
      ]
     },
     "metadata": {
      "needs_background": "light"
     },
     "output_type": "display_data"
    }
   ],
   "source": [
    "from scipy.cluster.hierarchy import dendrogram, linkage\n",
    "plt.figure(figsize=(50, 20))\n",
    "Z_Final = linkage(df_scaled, 'ward', metric='euclidean')\n",
    "plt.title('Hierarchical Clustering Dendrogram (truncated)')\n",
    "plt.xlabel('sample index or (cluster size)')\n",
    "plt.ylabel('distance')\n",
    "dendrogram(\n",
    "    Z_Final,\n",
    "    truncate_mode='lastp',  # show only the last p merged clusters\n",
    "    p=80,  # show only the last p merged clusters\n",
    "    leaf_rotation=90,\n",
    "    leaf_font_size=12,\n",
    "    color_threshold=10 \n",
    ")\n",
    "plt.show()"
   ]
  },
  {
   "cell_type": "markdown",
   "metadata": {},
   "source": [
    "Government would like know more than “good” and “not so good” states and hence more insight we are able to generate with more than 2 clusters, better it is for the business. \n",
    "Hence let’s consider 4 clusters and plot the clusters to confirm if the derived clusters are providing the required segmentation details. "
   ]
  },
  {
   "cell_type": "markdown",
   "metadata": {},
   "source": [
    "<span style=\"font-family: Arial; font-weight:bold;font-size:1.5em;\"> Q 5\n",
    "\n",
    "**With the optimum clusters apply  agglomerative clustering and predict clusters for the given dataset**"
   ]
  },
  {
   "cell_type": "code",
   "execution_count": 15,
   "metadata": {
    "ExecuteTime": {
     "end_time": "2021-01-19T13:23:46.483329Z",
     "start_time": "2021-01-19T13:23:46.276081Z"
    }
   },
   "outputs": [
    {
     "data": {
      "text/plain": [
       "array([3, 4, 3, 3, 3, 3, 3, 2, 3, 4, 3, 3, 3, 3, 3, 3, 1, 3, 3, 1, 4, 3,\n",
       "       3, 3, 4, 3, 4, 4, 4, 3, 4, 3, 3, 1, 3, 3, 1, 4, 3, 4, 3, 3, 4, 4,\n",
       "       4, 3, 3, 1, 3, 3, 3, 4, 3, 1, 3, 4, 4, 3, 3, 4, 4, 3, 3, 1, 4, 3,\n",
       "       4, 3, 3, 3, 3, 4, 3, 3, 3, 3, 4, 4, 3, 3, 3, 3, 3, 3, 4, 4, 3, 3,\n",
       "       3, 1, 3, 3, 3, 4, 3, 3, 4, 3, 3, 4, 3, 3, 2, 3, 4, 3, 4, 4, 3, 3,\n",
       "       3, 2, 4, 4, 3, 3, 3, 4, 3, 3, 4, 3, 3, 3, 2, 3, 4, 3, 3, 4, 3, 3,\n",
       "       3, 4, 3, 3, 3, 3, 3, 4, 3, 4, 3, 3, 3, 4, 1, 3, 4, 3, 2, 1, 1, 1,\n",
       "       1, 2, 1, 2, 2, 1, 1, 2, 1, 2, 1, 2, 2, 1, 2, 2, 1, 2, 1, 1, 1, 2,\n",
       "       1, 2, 2, 1, 2, 2, 1, 1, 1, 1, 1, 2, 1, 1, 2, 2, 2, 1, 1, 2, 1, 1,\n",
       "       2, 2, 2, 1, 2, 2, 1, 1, 1, 1, 1, 1, 1, 2, 1, 1, 1, 2, 1, 1, 2, 1,\n",
       "       1, 1, 1, 1, 1, 2, 1, 1, 1, 1, 1, 1, 2, 2, 1, 1, 4, 4, 4, 4, 4, 4,\n",
       "       4, 4, 4, 4, 4, 4, 4, 4, 4, 4, 4, 4, 4, 4, 4, 4, 4, 4, 4, 4, 4, 4,\n",
       "       4, 4, 4, 4, 4, 4, 4, 4, 4, 4, 4, 4, 4, 4, 4, 4, 4, 4, 4, 4, 4, 4,\n",
       "       4, 4, 4, 4, 4, 4, 4, 4, 4, 4], dtype=int32)"
      ]
     },
     "execution_count": 15,
     "metadata": {},
     "output_type": "execute_result"
    }
   ],
   "source": [
    "#Method 1\n",
    "\n",
    "clusters_1 = shc.fcluster(shc.linkage(df_scaled, method='ward'), 4, criterion='maxclust')# Here 4 is number of clusters we want\n",
    "clusters_1\n"
   ]
  },
  {
   "cell_type": "code",
   "execution_count": 16,
   "metadata": {
    "ExecuteTime": {
     "end_time": "2021-01-19T13:23:46.563129Z",
     "start_time": "2021-01-19T13:23:46.487314Z"
    }
   },
   "outputs": [
    {
     "data": {
      "text/plain": [
       "array([3, 4, 3, 3, 3, 3, 3, 2, 3, 4, 3, 3, 3, 3, 3, 3, 1, 3, 3, 1, 4, 3,\n",
       "       3, 3, 4, 3, 4, 4, 4, 3, 4, 3, 3, 1, 3, 3, 1, 4, 3, 4, 3, 3, 4, 4,\n",
       "       4, 3, 3, 1, 3, 3, 3, 4, 3, 1, 3, 4, 4, 3, 3, 4, 4, 3, 3, 1, 4, 3,\n",
       "       4, 3, 3, 3, 3, 4, 3, 3, 3, 3, 4, 4, 3, 3, 3, 3, 3, 3, 4, 4, 3, 3,\n",
       "       3, 1, 3, 3, 3, 4, 3, 3, 4, 3, 3, 4, 3, 3, 2, 3, 4, 3, 4, 4, 3, 3,\n",
       "       3, 2, 4, 4, 3, 3, 3, 4, 3, 3, 4, 3, 3, 3, 2, 3, 4, 3, 3, 4, 3, 3,\n",
       "       3, 4, 3, 3, 3, 3, 3, 4, 3, 4, 3, 3, 3, 4, 1, 3, 4, 3, 2, 1, 1, 1,\n",
       "       1, 2, 1, 2, 2, 1, 1, 2, 1, 2, 1, 2, 2, 1, 2, 2, 1, 2, 1, 1, 1, 2,\n",
       "       1, 2, 2, 1, 2, 2, 1, 1, 1, 1, 1, 2, 1, 1, 2, 2, 2, 1, 1, 2, 1, 1,\n",
       "       2, 2, 2, 1, 2, 2, 1, 1, 1, 1, 1, 1, 1, 2, 1, 1, 1, 2, 1, 1, 2, 1,\n",
       "       1, 1, 1, 1, 1, 2, 1, 1, 1, 1, 1, 1, 2, 2, 1, 1, 4, 4, 4, 4, 4, 4,\n",
       "       4, 4, 4, 4, 4, 4, 4, 4, 4, 4, 4, 4, 4, 4, 4, 4, 4, 4, 4, 4, 4, 4,\n",
       "       4, 4, 4, 4, 4, 4, 4, 4, 4, 4, 4, 4, 4, 4, 4, 4, 4, 4, 4, 4, 4, 4,\n",
       "       4, 4, 4, 4, 4, 4, 4, 4, 4, 4], dtype=int32)"
      ]
     },
     "execution_count": 16,
     "metadata": {},
     "output_type": "execute_result"
    }
   ],
   "source": [
    "## Method 2\n",
    "\n",
    "clusters_2 = shc.fcluster(shc.linkage(df_scaled, method='ward'),10 , criterion='distance')# here 10 is the value of color_threshold in the dendrogram\n",
    "clusters_2\n"
   ]
  },
  {
   "cell_type": "markdown",
   "metadata": {},
   "source": [
    "<span style=\"font-family: Arial; font-weight:bold;font-size:1.5em;\"> Q 6\n",
    "\n",
    "**Profile these clusters derived from Hierarchical clustering with respect to the means of each variables used in clustering.**"
   ]
  },
  {
   "cell_type": "code",
   "execution_count": 17,
   "metadata": {
    "ExecuteTime": {
     "end_time": "2021-01-19T13:23:50.204784Z",
     "start_time": "2021-01-19T13:23:50.191818Z"
    }
   },
   "outputs": [
    {
     "data": {
      "text/html": [
       "<div>\n",
       "<style scoped>\n",
       "    .dataframe tbody tr th:only-of-type {\n",
       "        vertical-align: middle;\n",
       "    }\n",
       "\n",
       "    .dataframe tbody tr th {\n",
       "        vertical-align: top;\n",
       "    }\n",
       "\n",
       "    .dataframe thead th {\n",
       "        text-align: right;\n",
       "    }\n",
       "</style>\n",
       "<table border=\"1\" class=\"dataframe\">\n",
       "  <thead>\n",
       "    <tr style=\"text-align: right;\">\n",
       "      <th></th>\n",
       "      <th>Health_indices1</th>\n",
       "      <th>Health_indices2</th>\n",
       "      <th>Per_capita_income</th>\n",
       "      <th>GDP</th>\n",
       "      <th>cluster_1</th>\n",
       "      <th>cluster_2</th>\n",
       "    </tr>\n",
       "  </thead>\n",
       "  <tbody>\n",
       "    <tr>\n",
       "      <th>0</th>\n",
       "      <td>417</td>\n",
       "      <td>66</td>\n",
       "      <td>564</td>\n",
       "      <td>1823</td>\n",
       "      <td>3</td>\n",
       "      <td>3</td>\n",
       "    </tr>\n",
       "    <tr>\n",
       "      <th>1</th>\n",
       "      <td>1485</td>\n",
       "      <td>646</td>\n",
       "      <td>2710</td>\n",
       "      <td>73662</td>\n",
       "      <td>4</td>\n",
       "      <td>4</td>\n",
       "    </tr>\n",
       "    <tr>\n",
       "      <th>2</th>\n",
       "      <td>654</td>\n",
       "      <td>299</td>\n",
       "      <td>1104</td>\n",
       "      <td>27318</td>\n",
       "      <td>3</td>\n",
       "      <td>3</td>\n",
       "    </tr>\n",
       "    <tr>\n",
       "      <th>3</th>\n",
       "      <td>192</td>\n",
       "      <td>25</td>\n",
       "      <td>573</td>\n",
       "      <td>250</td>\n",
       "      <td>3</td>\n",
       "      <td>3</td>\n",
       "    </tr>\n",
       "    <tr>\n",
       "      <th>4</th>\n",
       "      <td>43</td>\n",
       "      <td>8</td>\n",
       "      <td>528</td>\n",
       "      <td>22</td>\n",
       "      <td>3</td>\n",
       "      <td>3</td>\n",
       "    </tr>\n",
       "  </tbody>\n",
       "</table>\n",
       "</div>"
      ],
      "text/plain": [
       "   Health_indices1  Health_indices2  Per_capita_income    GDP  cluster_1  \\\n",
       "0              417               66                564   1823          3   \n",
       "1             1485              646               2710  73662          4   \n",
       "2              654              299               1104  27318          3   \n",
       "3              192               25                573    250          3   \n",
       "4               43                8                528     22          3   \n",
       "\n",
       "   cluster_2  \n",
       "0          3  \n",
       "1          4  \n",
       "2          3  \n",
       "3          3  \n",
       "4          3  "
      ]
     },
     "execution_count": 17,
     "metadata": {},
     "output_type": "execute_result"
    }
   ],
   "source": [
    "dataset['cluster_1']= clusters_1\n",
    "dataset['cluster_2']= clusters_2\n",
    "dataset.head()"
   ]
  },
  {
   "cell_type": "code",
   "execution_count": 18,
   "metadata": {
    "ExecuteTime": {
     "end_time": "2021-01-19T13:23:50.362179Z",
     "start_time": "2021-01-19T13:23:50.205748Z"
    }
   },
   "outputs": [
    {
     "data": {
      "text/html": [
       "<div>\n",
       "<style scoped>\n",
       "    .dataframe tbody tr th:only-of-type {\n",
       "        vertical-align: middle;\n",
       "    }\n",
       "\n",
       "    .dataframe tbody tr th {\n",
       "        vertical-align: top;\n",
       "    }\n",
       "\n",
       "    .dataframe thead th {\n",
       "        text-align: right;\n",
       "    }\n",
       "</style>\n",
       "<table border=\"1\" class=\"dataframe\">\n",
       "  <thead>\n",
       "    <tr style=\"text-align: right;\">\n",
       "      <th></th>\n",
       "      <th>Health_indices1</th>\n",
       "      <th>Health_indices2</th>\n",
       "      <th>Per_capita_income</th>\n",
       "      <th>GDP</th>\n",
       "      <th>cluster count</th>\n",
       "    </tr>\n",
       "    <tr>\n",
       "      <th>cluster_1</th>\n",
       "      <th></th>\n",
       "      <th></th>\n",
       "      <th></th>\n",
       "      <th></th>\n",
       "      <th></th>\n",
       "    </tr>\n",
       "  </thead>\n",
       "  <tbody>\n",
       "    <tr>\n",
       "      <th>1</th>\n",
       "      <td>4796.174603</td>\n",
       "      <td>1129.936508</td>\n",
       "      <td>2419.746032</td>\n",
       "      <td>382809.936508</td>\n",
       "      <td>63</td>\n",
       "    </tr>\n",
       "    <tr>\n",
       "      <th>2</th>\n",
       "      <td>5146.444444</td>\n",
       "      <td>1327.138889</td>\n",
       "      <td>5047.083333</td>\n",
       "      <td>367196.916667</td>\n",
       "      <td>36</td>\n",
       "    </tr>\n",
       "    <tr>\n",
       "      <th>3</th>\n",
       "      <td>401.063158</td>\n",
       "      <td>104.536842</td>\n",
       "      <td>680.673684</td>\n",
       "      <td>5388.768421</td>\n",
       "      <td>95</td>\n",
       "    </tr>\n",
       "    <tr>\n",
       "      <th>4</th>\n",
       "      <td>2477.549020</td>\n",
       "      <td>749.117647</td>\n",
       "      <td>2357.235294</td>\n",
       "      <td>135962.735294</td>\n",
       "      <td>102</td>\n",
       "    </tr>\n",
       "  </tbody>\n",
       "</table>\n",
       "</div>"
      ],
      "text/plain": [
       "           Health_indices1  Health_indices2  Per_capita_income            GDP  \\\n",
       "cluster_1                                                                       \n",
       "1              4796.174603      1129.936508        2419.746032  382809.936508   \n",
       "2              5146.444444      1327.138889        5047.083333  367196.916667   \n",
       "3               401.063158       104.536842         680.673684    5388.768421   \n",
       "4              2477.549020       749.117647        2357.235294  135962.735294   \n",
       "\n",
       "           cluster count  \n",
       "cluster_1                 \n",
       "1                     63  \n",
       "2                     36  \n",
       "3                     95  \n",
       "4                    102  "
      ]
     },
     "execution_count": 18,
     "metadata": {},
     "output_type": "execute_result"
    }
   ],
   "source": [
    "df1 = dataset.drop(['cluster_2'],axis=1)\n",
    "df_clust_1 = df1.groupby('cluster_1').mean()\n",
    "cluster_1_freq = dataset['cluster_1'].value_counts().sort_index()\n",
    "df_clust_1['cluster count'] = cluster_1_freq\n",
    "df_clust_1"
   ]
  },
  {
   "cell_type": "code",
   "execution_count": 19,
   "metadata": {
    "ExecuteTime": {
     "end_time": "2021-01-19T13:23:50.449393Z",
     "start_time": "2021-01-19T13:23:50.368159Z"
    }
   },
   "outputs": [
    {
     "data": {
      "text/html": [
       "<div>\n",
       "<style scoped>\n",
       "    .dataframe tbody tr th:only-of-type {\n",
       "        vertical-align: middle;\n",
       "    }\n",
       "\n",
       "    .dataframe tbody tr th {\n",
       "        vertical-align: top;\n",
       "    }\n",
       "\n",
       "    .dataframe thead th {\n",
       "        text-align: right;\n",
       "    }\n",
       "</style>\n",
       "<table border=\"1\" class=\"dataframe\">\n",
       "  <thead>\n",
       "    <tr style=\"text-align: right;\">\n",
       "      <th></th>\n",
       "      <th>Health_indices1</th>\n",
       "      <th>Health_indices2</th>\n",
       "      <th>Per_capita_income</th>\n",
       "      <th>GDP</th>\n",
       "      <th>cluster count</th>\n",
       "    </tr>\n",
       "    <tr>\n",
       "      <th>cluster_2</th>\n",
       "      <th></th>\n",
       "      <th></th>\n",
       "      <th></th>\n",
       "      <th></th>\n",
       "      <th></th>\n",
       "    </tr>\n",
       "  </thead>\n",
       "  <tbody>\n",
       "    <tr>\n",
       "      <th>1</th>\n",
       "      <td>4796.174603</td>\n",
       "      <td>1129.936508</td>\n",
       "      <td>2419.746032</td>\n",
       "      <td>382809.936508</td>\n",
       "      <td>63</td>\n",
       "    </tr>\n",
       "    <tr>\n",
       "      <th>2</th>\n",
       "      <td>5146.444444</td>\n",
       "      <td>1327.138889</td>\n",
       "      <td>5047.083333</td>\n",
       "      <td>367196.916667</td>\n",
       "      <td>36</td>\n",
       "    </tr>\n",
       "    <tr>\n",
       "      <th>3</th>\n",
       "      <td>401.063158</td>\n",
       "      <td>104.536842</td>\n",
       "      <td>680.673684</td>\n",
       "      <td>5388.768421</td>\n",
       "      <td>95</td>\n",
       "    </tr>\n",
       "    <tr>\n",
       "      <th>4</th>\n",
       "      <td>2477.549020</td>\n",
       "      <td>749.117647</td>\n",
       "      <td>2357.235294</td>\n",
       "      <td>135962.735294</td>\n",
       "      <td>102</td>\n",
       "    </tr>\n",
       "  </tbody>\n",
       "</table>\n",
       "</div>"
      ],
      "text/plain": [
       "           Health_indices1  Health_indices2  Per_capita_income            GDP  \\\n",
       "cluster_2                                                                       \n",
       "1              4796.174603      1129.936508        2419.746032  382809.936508   \n",
       "2              5146.444444      1327.138889        5047.083333  367196.916667   \n",
       "3               401.063158       104.536842         680.673684    5388.768421   \n",
       "4              2477.549020       749.117647        2357.235294  135962.735294   \n",
       "\n",
       "           cluster count  \n",
       "cluster_2                 \n",
       "1                     63  \n",
       "2                     36  \n",
       "3                     95  \n",
       "4                    102  "
      ]
     },
     "execution_count": 19,
     "metadata": {},
     "output_type": "execute_result"
    }
   ],
   "source": [
    "df2 = dataset.drop(['cluster_1'],axis=1)\n",
    "df_clust_2 = df2.groupby('cluster_2').mean()\n",
    "cluster_2_freq = dataset['cluster_2'].value_counts().sort_index()\n",
    "df_clust_2['cluster count'] = cluster_2_freq\n",
    "df_clust_2"
   ]
  },
  {
   "cell_type": "markdown",
   "metadata": {},
   "source": [
    "The clusters derived from above two different methods are the same."
   ]
  },
  {
   "cell_type": "markdown",
   "metadata": {},
   "source": [
    "<span style=\"font-family: Arial; font-weight:bold;font-size:1.5em;\"> Q 7\n",
    "\n",
    "**Apply K-Means clustering on scaled data and determine optimum clusters by applying the elbow curve.**"
   ]
  },
  {
   "cell_type": "code",
   "execution_count": 20,
   "metadata": {
    "ExecuteTime": {
     "end_time": "2021-01-19T13:23:51.266411Z",
     "start_time": "2021-01-19T13:23:50.533626Z"
    }
   },
   "outputs": [],
   "source": [
    "from sklearn.cluster import KMeans\n",
    "wcss = []\n",
    "for i in range(2, 11):\n",
    "    kmeans = KMeans(n_clusters = i, random_state = 42)\n",
    "    kmeans.fit(df_scaled)\n",
    "    # inertia method returns wcss for that model\n",
    "    wcss.append(kmeans.inertia_)"
   ]
  },
  {
   "cell_type": "code",
   "execution_count": 21,
   "metadata": {
    "ExecuteTime": {
     "end_time": "2021-01-19T13:23:51.272406Z",
     "start_time": "2021-01-19T13:23:51.267409Z"
    }
   },
   "outputs": [
    {
     "name": "stdout",
     "output_type": "stream",
     "text": [
      "The WSS value for 2 clusters is 467.3518002848113\n",
      "The WSS value for 3 clusters is 259.2278544455929\n",
      "The WSS value for 4 clusters is 182.454671740563\n",
      "The WSS value for 5 clusters is 149.30635806594063\n",
      "The WSS value for 6 clusters is 116.91437829406928\n",
      "The WSS value for 7 clusters is 90.38643890433259\n",
      "The WSS value for 8 clusters is 79.35379745078147\n",
      "The WSS value for 9 clusters is 71.15860225003033\n",
      "The WSS value for 10 clusters is 63.7503855520213\n"
     ]
    }
   ],
   "source": [
    "# The below code snippet is used to print the WSS values. We have passed it through a loop to make understand the values\n",
    "# of WSS better.\n",
    "\n",
    "for i in range(2,11):\n",
    "    print('The WSS value for',i,'clusters is',wcss[i-2])"
   ]
  },
  {
   "cell_type": "code",
   "execution_count": 22,
   "metadata": {
    "ExecuteTime": {
     "end_time": "2021-01-19T13:23:51.771794Z",
     "start_time": "2021-01-19T13:23:51.274391Z"
    }
   },
   "outputs": [
    {
     "data": {
      "image/png": "[encoded data removed]",
      "text/plain": [
       "<Figure size 720x360 with 1 Axes>"
      ]
     },
     "metadata": {
      "needs_background": "light"
     },
     "output_type": "display_data"
    }
   ],
   "source": [
    "plt.figure(figsize=(10,5))\n",
    "sns.lineplot(range(2, 11), wcss,marker='o',color='red')\n",
    "plt.title('The Elbow Method')\n",
    "plt.xlabel('Number of clusters')\n",
    "plt.ylabel('WCSS')\n",
    "plt.grid()\n",
    "plt.show()"
   ]
  },
  {
   "cell_type": "markdown",
   "metadata": {},
   "source": [
    "K-means clustering technique was used along with elbow curve to define the optimum clusters for this data set. 4 clusters were identified as an optimum number. "
   ]
  },
  {
   "cell_type": "code",
   "execution_count": 23,
   "metadata": {
    "ExecuteTime": {
     "end_time": "2021-01-19T13:23:51.820648Z",
     "start_time": "2021-01-19T13:23:51.773775Z"
    }
   },
   "outputs": [
    {
     "data": {
      "text/plain": [
       "array([0, 2, 0, 0, 0, 0, 0, 1, 0, 2, 0, 0, 0, 0, 0, 0, 3, 0, 0, 3, 2, 0,\n",
       "       0, 0, 2, 0, 0, 2, 2, 0, 0, 0, 0, 3, 0, 0, 3, 2, 0, 2, 0, 0, 2, 2,\n",
       "       2, 0, 0, 2, 0, 0, 0, 2, 0, 3, 0, 2, 2, 0, 0, 2, 2, 0, 0, 3, 2, 0,\n",
       "       2, 0, 0, 0, 0, 2, 0, 0, 0, 0, 2, 2, 0, 0, 0, 0, 0, 0, 0, 2, 0, 0,\n",
       "       0, 3, 0, 0, 0, 0, 0, 0, 2, 0, 0, 2, 0, 0, 1, 0, 2, 0, 2, 2, 0, 0,\n",
       "       0, 1, 2, 2, 0, 0, 0, 2, 0, 0, 2, 0, 0, 0, 1, 0, 2, 0, 0, 2, 0, 0,\n",
       "       0, 0, 0, 0, 0, 0, 0, 2, 0, 2, 0, 0, 0, 2, 3, 0, 2, 0, 1, 3, 3, 3,\n",
       "       3, 1, 3, 1, 1, 3, 3, 1, 3, 1, 3, 1, 1, 3, 1, 1, 3, 1, 3, 3, 3, 1,\n",
       "       3, 1, 1, 3, 1, 1, 3, 3, 3, 2, 3, 1, 3, 3, 1, 1, 1, 3, 3, 1, 3, 3,\n",
       "       1, 1, 1, 3, 1, 1, 3, 3, 2, 3, 3, 3, 3, 1, 3, 3, 3, 1, 3, 3, 1, 3,\n",
       "       3, 3, 3, 3, 2, 1, 3, 3, 3, 3, 3, 3, 1, 1, 3, 3, 2, 2, 2, 2, 2, 2,\n",
       "       2, 2, 0, 2, 2, 2, 2, 2, 2, 2, 2, 2, 2, 2, 2, 2, 2, 2, 2, 2, 2, 2,\n",
       "       2, 2, 2, 2, 2, 2, 2, 2, 2, 2, 2, 2, 2, 2, 2, 2, 2, 2, 2, 2, 2, 2,\n",
       "       2, 2, 2, 2, 2, 2, 2, 2, 2, 2], dtype=int32)"
      ]
     },
     "execution_count": 23,
     "metadata": {},
     "output_type": "execute_result"
    }
   ],
   "source": [
    "k_means = KMeans(n_clusters = 4,random_state=42)\n",
    "k_means.fit(df_scaled)\n",
    "labels_4 = k_means.labels_\n",
    "labels_4"
   ]
  },
  {
   "cell_type": "markdown",
   "metadata": {},
   "source": [
    "Let's try for clusters = 3"
   ]
  },
  {
   "cell_type": "code",
   "execution_count": 24,
   "metadata": {
    "ExecuteTime": {
     "end_time": "2021-01-19T13:23:51.926364Z",
     "start_time": "2021-01-19T13:23:51.823640Z"
    }
   },
   "outputs": [
    {
     "data": {
      "text/plain": [
       "array([0, 2, 0, 0, 0, 0, 0, 1, 0, 2, 0, 0, 0, 0, 0, 0, 1, 0, 0, 1, 2, 0,\n",
       "       0, 0, 2, 0, 0, 2, 2, 0, 0, 0, 0, 1, 0, 0, 1, 2, 0, 2, 0, 0, 2, 2,\n",
       "       2, 0, 0, 2, 0, 0, 0, 2, 0, 1, 0, 2, 2, 0, 0, 2, 2, 0, 0, 1, 2, 0,\n",
       "       2, 0, 0, 0, 0, 2, 0, 0, 0, 0, 2, 2, 0, 0, 0, 0, 0, 0, 0, 2, 0, 0,\n",
       "       0, 1, 0, 0, 0, 0, 0, 0, 2, 0, 0, 2, 0, 0, 1, 0, 2, 0, 2, 2, 0, 0,\n",
       "       0, 1, 2, 2, 0, 0, 0, 2, 0, 0, 2, 0, 0, 0, 1, 0, 2, 0, 0, 2, 0, 0,\n",
       "       0, 0, 0, 0, 0, 0, 0, 2, 0, 2, 0, 0, 0, 2, 1, 0, 2, 0, 1, 1, 1, 1,\n",
       "       1, 1, 1, 1, 1, 1, 1, 1, 1, 1, 1, 1, 1, 1, 1, 1, 1, 1, 1, 1, 1, 1,\n",
       "       1, 1, 1, 1, 1, 1, 1, 1, 1, 2, 1, 1, 1, 1, 1, 1, 1, 1, 1, 1, 1, 1,\n",
       "       1, 1, 1, 1, 1, 1, 1, 1, 2, 1, 1, 1, 1, 1, 1, 1, 1, 1, 1, 1, 1, 1,\n",
       "       1, 1, 1, 1, 2, 1, 1, 1, 1, 1, 1, 1, 1, 1, 1, 1, 2, 2, 2, 2, 2, 2,\n",
       "       2, 2, 0, 2, 2, 2, 2, 2, 2, 2, 2, 2, 2, 2, 2, 2, 2, 2, 2, 2, 2, 2,\n",
       "       2, 2, 2, 2, 2, 2, 2, 2, 2, 2, 2, 2, 2, 2, 2, 2, 2, 2, 2, 2, 2, 2,\n",
       "       2, 2, 2, 2, 2, 2, 2, 2, 2, 2], dtype=int32)"
      ]
     },
     "execution_count": 24,
     "metadata": {},
     "output_type": "execute_result"
    }
   ],
   "source": [
    "k_means = KMeans(n_clusters = 3,random_state=42)\n",
    "k_means.fit(df_scaled)\n",
    "labels_3 = k_means.labels_\n",
    "labels_3"
   ]
  },
  {
   "cell_type": "markdown",
   "metadata": {},
   "source": [
    "Both hierarchical clustering and k-means have provided good segmentation and either one can be used to define strategies. "
   ]
  },
  {
   "cell_type": "markdown",
   "metadata": {},
   "source": [
    "<span style=\"font-family: Arial; font-weight:bold;font-size:1.5em;\"> Q 8\n",
    "\n",
    "**Profile these clusters derived from KMeans clustering with respect to the means of each variables used in clustering.**"
   ]
  },
  {
   "cell_type": "code",
   "execution_count": 25,
   "metadata": {
    "ExecuteTime": {
     "end_time": "2021-01-19T13:23:52.059251Z",
     "start_time": "2021-01-19T13:23:51.927361Z"
    }
   },
   "outputs": [
    {
     "data": {
      "text/html": [
       "<div>\n",
       "<style scoped>\n",
       "    .dataframe tbody tr th:only-of-type {\n",
       "        vertical-align: middle;\n",
       "    }\n",
       "\n",
       "    .dataframe tbody tr th {\n",
       "        vertical-align: top;\n",
       "    }\n",
       "\n",
       "    .dataframe thead th {\n",
       "        text-align: right;\n",
       "    }\n",
       "</style>\n",
       "<table border=\"1\" class=\"dataframe\">\n",
       "  <thead>\n",
       "    <tr style=\"text-align: right;\">\n",
       "      <th></th>\n",
       "      <th>Health_indices1</th>\n",
       "      <th>Health_indices2</th>\n",
       "      <th>Per_capita_income</th>\n",
       "      <th>GDP</th>\n",
       "      <th>cluster_1</th>\n",
       "      <th>cluster_2</th>\n",
       "      <th>kmeans_cluster_4</th>\n",
       "      <th>kmeans_cluster_3</th>\n",
       "    </tr>\n",
       "  </thead>\n",
       "  <tbody>\n",
       "    <tr>\n",
       "      <th>0</th>\n",
       "      <td>417</td>\n",
       "      <td>66</td>\n",
       "      <td>564</td>\n",
       "      <td>1823</td>\n",
       "      <td>3</td>\n",
       "      <td>3</td>\n",
       "      <td>0</td>\n",
       "      <td>0</td>\n",
       "    </tr>\n",
       "    <tr>\n",
       "      <th>1</th>\n",
       "      <td>1485</td>\n",
       "      <td>646</td>\n",
       "      <td>2710</td>\n",
       "      <td>73662</td>\n",
       "      <td>4</td>\n",
       "      <td>4</td>\n",
       "      <td>2</td>\n",
       "      <td>2</td>\n",
       "    </tr>\n",
       "    <tr>\n",
       "      <th>2</th>\n",
       "      <td>654</td>\n",
       "      <td>299</td>\n",
       "      <td>1104</td>\n",
       "      <td>27318</td>\n",
       "      <td>3</td>\n",
       "      <td>3</td>\n",
       "      <td>0</td>\n",
       "      <td>0</td>\n",
       "    </tr>\n",
       "    <tr>\n",
       "      <th>3</th>\n",
       "      <td>192</td>\n",
       "      <td>25</td>\n",
       "      <td>573</td>\n",
       "      <td>250</td>\n",
       "      <td>3</td>\n",
       "      <td>3</td>\n",
       "      <td>0</td>\n",
       "      <td>0</td>\n",
       "    </tr>\n",
       "    <tr>\n",
       "      <th>4</th>\n",
       "      <td>43</td>\n",
       "      <td>8</td>\n",
       "      <td>528</td>\n",
       "      <td>22</td>\n",
       "      <td>3</td>\n",
       "      <td>3</td>\n",
       "      <td>0</td>\n",
       "      <td>0</td>\n",
       "    </tr>\n",
       "  </tbody>\n",
       "</table>\n",
       "</div>"
      ],
      "text/plain": [
       "   Health_indices1  Health_indices2  Per_capita_income    GDP  cluster_1  \\\n",
       "0              417               66                564   1823          3   \n",
       "1             1485              646               2710  73662          4   \n",
       "2              654              299               1104  27318          3   \n",
       "3              192               25                573    250          3   \n",
       "4               43                8                528     22          3   \n",
       "\n",
       "   cluster_2  kmeans_cluster_4  kmeans_cluster_3  \n",
       "0          3                 0                 0  \n",
       "1          4                 2                 2  \n",
       "2          3                 0                 0  \n",
       "3          3                 0                 0  \n",
       "4          3                 0                 0  "
      ]
     },
     "execution_count": 25,
     "metadata": {},
     "output_type": "execute_result"
    }
   ],
   "source": [
    "dataset['kmeans_cluster_4']= labels_4\n",
    "dataset['kmeans_cluster_3']= labels_3\n",
    "dataset.head()"
   ]
  },
  {
   "cell_type": "code",
   "execution_count": 36,
   "metadata": {},
   "outputs": [
    {
     "data": {
      "text/html": [
       "<div>\n",
       "<style scoped>\n",
       "    .dataframe tbody tr th:only-of-type {\n",
       "        vertical-align: middle;\n",
       "    }\n",
       "\n",
       "    .dataframe tbody tr th {\n",
       "        vertical-align: top;\n",
       "    }\n",
       "\n",
       "    .dataframe thead th {\n",
       "        text-align: right;\n",
       "    }\n",
       "</style>\n",
       "<table border=\"1\" class=\"dataframe\">\n",
       "  <thead>\n",
       "    <tr style=\"text-align: right;\">\n",
       "      <th>kmeans_cluster_4</th>\n",
       "      <th>0</th>\n",
       "      <th>1</th>\n",
       "      <th>2</th>\n",
       "      <th>3</th>\n",
       "    </tr>\n",
       "    <tr>\n",
       "      <th>kmeans_cluster_3</th>\n",
       "      <th></th>\n",
       "      <th></th>\n",
       "      <th></th>\n",
       "      <th></th>\n",
       "    </tr>\n",
       "  </thead>\n",
       "  <tbody>\n",
       "    <tr>\n",
       "      <th>0</th>\n",
       "      <td>101</td>\n",
       "      <td>0</td>\n",
       "      <td>0</td>\n",
       "      <td>0</td>\n",
       "    </tr>\n",
       "    <tr>\n",
       "      <th>1</th>\n",
       "      <td>0</td>\n",
       "      <td>36</td>\n",
       "      <td>0</td>\n",
       "      <td>59</td>\n",
       "    </tr>\n",
       "    <tr>\n",
       "      <th>2</th>\n",
       "      <td>0</td>\n",
       "      <td>0</td>\n",
       "      <td>100</td>\n",
       "      <td>0</td>\n",
       "    </tr>\n",
       "  </tbody>\n",
       "</table>\n",
       "</div>"
      ],
      "text/plain": [
       "kmeans_cluster_4    0   1    2   3\n",
       "kmeans_cluster_3                  \n",
       "0                 101   0    0   0\n",
       "1                   0  36    0  59\n",
       "2                   0   0  100   0"
      ]
     },
     "execution_count": 36,
     "metadata": {},
     "output_type": "execute_result"
    }
   ],
   "source": [
    "pd.crosstab(dataset['kmeans_cluster_3'],dataset['kmeans_cluster_4'])"
   ]
  },
  {
   "cell_type": "code",
   "execution_count": 26,
   "metadata": {
    "ExecuteTime": {
     "end_time": "2021-01-19T13:23:52.159503Z",
     "start_time": "2021-01-19T13:23:52.060249Z"
    }
   },
   "outputs": [
    {
     "data": {
      "text/html": [
       "<div>\n",
       "<style scoped>\n",
       "    .dataframe tbody tr th:only-of-type {\n",
       "        vertical-align: middle;\n",
       "    }\n",
       "\n",
       "    .dataframe tbody tr th {\n",
       "        vertical-align: top;\n",
       "    }\n",
       "\n",
       "    .dataframe thead th {\n",
       "        text-align: right;\n",
       "    }\n",
       "</style>\n",
       "<table border=\"1\" class=\"dataframe\">\n",
       "  <thead>\n",
       "    <tr style=\"text-align: right;\">\n",
       "      <th></th>\n",
       "      <th>Health_indices1</th>\n",
       "      <th>Health_indices2</th>\n",
       "      <th>Per_capita_income</th>\n",
       "      <th>GDP</th>\n",
       "      <th>cluster count</th>\n",
       "    </tr>\n",
       "    <tr>\n",
       "      <th>kmeans_cluster_3</th>\n",
       "      <th></th>\n",
       "      <th></th>\n",
       "      <th></th>\n",
       "      <th></th>\n",
       "      <th></th>\n",
       "    </tr>\n",
       "  </thead>\n",
       "  <tbody>\n",
       "    <tr>\n",
       "      <th>0</th>\n",
       "      <td>499.158416</td>\n",
       "      <td>116.356436</td>\n",
       "      <td>693.772277</td>\n",
       "      <td>9428.099010</td>\n",
       "      <td>101</td>\n",
       "    </tr>\n",
       "    <tr>\n",
       "      <th>1</th>\n",
       "      <td>4930.884211</td>\n",
       "      <td>1212.336842</td>\n",
       "      <td>3385.852632</td>\n",
       "      <td>385648.589474</td>\n",
       "      <td>95</td>\n",
       "    </tr>\n",
       "    <tr>\n",
       "      <th>2</th>\n",
       "      <td>2593.930000</td>\n",
       "      <td>783.800000</td>\n",
       "      <td>2475.140000</td>\n",
       "      <td>141273.930000</td>\n",
       "      <td>100</td>\n",
       "    </tr>\n",
       "  </tbody>\n",
       "</table>\n",
       "</div>"
      ],
      "text/plain": [
       "                  Health_indices1  Health_indices2  Per_capita_income  \\\n",
       "kmeans_cluster_3                                                        \n",
       "0                      499.158416       116.356436         693.772277   \n",
       "1                     4930.884211      1212.336842        3385.852632   \n",
       "2                     2593.930000       783.800000        2475.140000   \n",
       "\n",
       "                            GDP  cluster count  \n",
       "kmeans_cluster_3                                \n",
       "0                   9428.099010            101  \n",
       "1                 385648.589474             95  \n",
       "2                 141273.930000            100  "
      ]
     },
     "execution_count": 26,
     "metadata": {},
     "output_type": "execute_result"
    }
   ],
   "source": [
    "df_kmeans_3 = dataset.drop(['cluster_1','cluster_2','kmeans_cluster_4'],axis=1)\n",
    "df_kclust_3 = df_kmeans_3.groupby('kmeans_cluster_3').mean()\n",
    "cluster_3_freq = dataset['kmeans_cluster_3'].value_counts().sort_index()\n",
    "df_kclust_3['cluster count'] = cluster_3_freq\n",
    "df_kclust_3"
   ]
  },
  {
   "cell_type": "code",
   "execution_count": 27,
   "metadata": {
    "ExecuteTime": {
     "end_time": "2021-01-19T13:23:52.260325Z",
     "start_time": "2021-01-19T13:23:52.160465Z"
    }
   },
   "outputs": [
    {
     "data": {
      "text/html": [
       "<div>\n",
       "<style scoped>\n",
       "    .dataframe tbody tr th:only-of-type {\n",
       "        vertical-align: middle;\n",
       "    }\n",
       "\n",
       "    .dataframe tbody tr th {\n",
       "        vertical-align: top;\n",
       "    }\n",
       "\n",
       "    .dataframe thead th {\n",
       "        text-align: right;\n",
       "    }\n",
       "</style>\n",
       "<table border=\"1\" class=\"dataframe\">\n",
       "  <thead>\n",
       "    <tr style=\"text-align: right;\">\n",
       "      <th></th>\n",
       "      <th>Health_indices1</th>\n",
       "      <th>Health_indices2</th>\n",
       "      <th>Per_capita_income</th>\n",
       "      <th>GDP</th>\n",
       "      <th>cluster count</th>\n",
       "    </tr>\n",
       "    <tr>\n",
       "      <th>kmeans_cluster_4</th>\n",
       "      <th></th>\n",
       "      <th></th>\n",
       "      <th></th>\n",
       "      <th></th>\n",
       "      <th></th>\n",
       "    </tr>\n",
       "  </thead>\n",
       "  <tbody>\n",
       "    <tr>\n",
       "      <th>0</th>\n",
       "      <td>499.158416</td>\n",
       "      <td>116.356436</td>\n",
       "      <td>693.772277</td>\n",
       "      <td>9428.099010</td>\n",
       "      <td>101</td>\n",
       "    </tr>\n",
       "    <tr>\n",
       "      <th>1</th>\n",
       "      <td>5146.444444</td>\n",
       "      <td>1327.138889</td>\n",
       "      <td>5047.083333</td>\n",
       "      <td>367196.916667</td>\n",
       "      <td>36</td>\n",
       "    </tr>\n",
       "    <tr>\n",
       "      <th>2</th>\n",
       "      <td>2593.930000</td>\n",
       "      <td>783.800000</td>\n",
       "      <td>2475.140000</td>\n",
       "      <td>141273.930000</td>\n",
       "      <td>100</td>\n",
       "    </tr>\n",
       "    <tr>\n",
       "      <th>3</th>\n",
       "      <td>4799.355932</td>\n",
       "      <td>1142.288136</td>\n",
       "      <td>2372.220339</td>\n",
       "      <td>396907.237288</td>\n",
       "      <td>59</td>\n",
       "    </tr>\n",
       "  </tbody>\n",
       "</table>\n",
       "</div>"
      ],
      "text/plain": [
       "                  Health_indices1  Health_indices2  Per_capita_income  \\\n",
       "kmeans_cluster_4                                                        \n",
       "0                      499.158416       116.356436         693.772277   \n",
       "1                     5146.444444      1327.138889        5047.083333   \n",
       "2                     2593.930000       783.800000        2475.140000   \n",
       "3                     4799.355932      1142.288136        2372.220339   \n",
       "\n",
       "                            GDP  cluster count  \n",
       "kmeans_cluster_4                                \n",
       "0                   9428.099010            101  \n",
       "1                 367196.916667             36  \n",
       "2                 141273.930000            100  \n",
       "3                 396907.237288             59  "
      ]
     },
     "execution_count": 27,
     "metadata": {},
     "output_type": "execute_result"
    }
   ],
   "source": [
    "df_kmeans_4 = dataset.drop(['cluster_1','cluster_2','kmeans_cluster_3'],axis=1)\n",
    "df_kclust_4 = df_kmeans_4.groupby('kmeans_cluster_4').mean()\n",
    "cluster_4_freq = dataset['kmeans_cluster_4'].value_counts().sort_index()\n",
    "df_kclust_4['cluster count'] = cluster_4_freq\n",
    "df_kclust_4"
   ]
  },
  {
   "cell_type": "markdown",
   "metadata": {
    "ExecuteTime": {
     "end_time": "2021-01-06T16:07:47.668357Z",
     "start_time": "2021-01-06T16:07:47.664367Z"
    }
   },
   "source": [
    "Final number of clusters is 4"
   ]
  },
  {
   "cell_type": "markdown",
   "metadata": {},
   "source": [
    "<span style=\"font-family: Arial; font-weight:bold;font-size:1.5em;\"> Q 9\n",
    "\n",
    "**Add the optimum clusters derived from Hierarchical Clustering and KMeans clustering to the original data and export it to a '.csv' file.**"
   ]
  },
  {
   "cell_type": "code",
   "execution_count": 28,
   "metadata": {
    "ExecuteTime": {
     "end_time": "2021-01-19T13:23:52.378954Z",
     "start_time": "2021-01-19T13:23:52.262290Z"
    }
   },
   "outputs": [],
   "source": [
    "df.drop(\"Unnamed: 0\",axis=1,inplace=True)"
   ]
  },
  {
   "cell_type": "code",
   "execution_count": 29,
   "metadata": {
    "ExecuteTime": {
     "end_time": "2021-01-19T13:23:52.463629Z",
     "start_time": "2021-01-19T13:23:52.379952Z"
    }
   },
   "outputs": [
    {
     "data": {
      "text/plain": [
       "(296,)"
      ]
     },
     "execution_count": 29,
     "metadata": {},
     "output_type": "execute_result"
    }
   ],
   "source": [
    "labels_4.shape"
   ]
  },
  {
   "cell_type": "code",
   "execution_count": 30,
   "metadata": {
    "ExecuteTime": {
     "end_time": "2021-01-19T13:23:52.536313Z",
     "start_time": "2021-01-19T13:23:52.465584Z"
    }
   },
   "outputs": [
    {
     "data": {
      "text/plain": [
       "(296, 5)"
      ]
     },
     "execution_count": 30,
     "metadata": {},
     "output_type": "execute_result"
    }
   ],
   "source": [
    "df.shape"
   ]
  },
  {
   "cell_type": "code",
   "execution_count": 31,
   "metadata": {
    "ExecuteTime": {
     "end_time": "2021-01-19T13:23:52.684081Z",
     "start_time": "2021-01-19T13:23:52.538274Z"
    }
   },
   "outputs": [
    {
     "data": {
      "text/html": [
       "<div>\n",
       "<style scoped>\n",
       "    .dataframe tbody tr th:only-of-type {\n",
       "        vertical-align: middle;\n",
       "    }\n",
       "\n",
       "    .dataframe tbody tr th {\n",
       "        vertical-align: top;\n",
       "    }\n",
       "\n",
       "    .dataframe thead th {\n",
       "        text-align: right;\n",
       "    }\n",
       "</style>\n",
       "<table border=\"1\" class=\"dataframe\">\n",
       "  <thead>\n",
       "    <tr style=\"text-align: right;\">\n",
       "      <th></th>\n",
       "      <th>States</th>\n",
       "      <th>Health_indices1</th>\n",
       "      <th>Health_indices2</th>\n",
       "      <th>Per_capita_income</th>\n",
       "      <th>GDP</th>\n",
       "      <th>Hierarchical Clustering Clusters</th>\n",
       "      <th>KMeans Clustering Clusters</th>\n",
       "    </tr>\n",
       "  </thead>\n",
       "  <tbody>\n",
       "    <tr>\n",
       "      <th>0</th>\n",
       "      <td>Bachevo</td>\n",
       "      <td>417</td>\n",
       "      <td>66</td>\n",
       "      <td>564</td>\n",
       "      <td>1823</td>\n",
       "      <td>3</td>\n",
       "      <td>0</td>\n",
       "    </tr>\n",
       "    <tr>\n",
       "      <th>1</th>\n",
       "      <td>Balgarchevo</td>\n",
       "      <td>1485</td>\n",
       "      <td>646</td>\n",
       "      <td>2710</td>\n",
       "      <td>73662</td>\n",
       "      <td>4</td>\n",
       "      <td>2</td>\n",
       "    </tr>\n",
       "    <tr>\n",
       "      <th>2</th>\n",
       "      <td>Belasitsa</td>\n",
       "      <td>654</td>\n",
       "      <td>299</td>\n",
       "      <td>1104</td>\n",
       "      <td>27318</td>\n",
       "      <td>3</td>\n",
       "      <td>0</td>\n",
       "    </tr>\n",
       "    <tr>\n",
       "      <th>3</th>\n",
       "      <td>Belo_Pole</td>\n",
       "      <td>192</td>\n",
       "      <td>25</td>\n",
       "      <td>573</td>\n",
       "      <td>250</td>\n",
       "      <td>3</td>\n",
       "      <td>0</td>\n",
       "    </tr>\n",
       "    <tr>\n",
       "      <th>4</th>\n",
       "      <td>Beslen</td>\n",
       "      <td>43</td>\n",
       "      <td>8</td>\n",
       "      <td>528</td>\n",
       "      <td>22</td>\n",
       "      <td>3</td>\n",
       "      <td>0</td>\n",
       "    </tr>\n",
       "  </tbody>\n",
       "</table>\n",
       "</div>"
      ],
      "text/plain": [
       "        States  Health_indices1  Health_indices2  Per_capita_income    GDP  \\\n",
       "0      Bachevo              417               66                564   1823   \n",
       "1  Balgarchevo             1485              646               2710  73662   \n",
       "2    Belasitsa              654              299               1104  27318   \n",
       "3    Belo_Pole              192               25                573    250   \n",
       "4       Beslen               43                8                528     22   \n",
       "\n",
       "   Hierarchical Clustering Clusters  KMeans Clustering Clusters  \n",
       "0                                 3                           0  \n",
       "1                                 4                           2  \n",
       "2                                 3                           0  \n",
       "3                                 3                           0  \n",
       "4                                 3                           0  "
      ]
     },
     "execution_count": 31,
     "metadata": {},
     "output_type": "execute_result"
    }
   ],
   "source": [
    "df['Hierarchical Clustering Clusters'] = clusters_2\n",
    "df['KMeans Clustering Clusters'] = labels_4\n",
    "df.head()"
   ]
  },
  {
   "cell_type": "code",
   "execution_count": 32,
   "metadata": {
    "ExecuteTime": {
     "end_time": "2021-01-19T13:23:52.844691Z",
     "start_time": "2021-01-19T13:23:52.686043Z"
    }
   },
   "outputs": [],
   "source": [
    "df.to_csv('Clustering.csv')"
   ]
  },
  {
   "cell_type": "code",
   "execution_count": 33,
   "metadata": {},
   "outputs": [],
   "source": [
    "from sklearn.metrics import silhouette_score"
   ]
  },
  {
   "cell_type": "code",
   "execution_count": 34,
   "metadata": {
    "scrolled": true
   },
   "outputs": [
    {
     "data": {
      "text/plain": [
       "0.5335290534127187"
      ]
     },
     "execution_count": 34,
     "metadata": {},
     "output_type": "execute_result"
    }
   ],
   "source": [
    "silhouette_score(df_scaled, labels = labels_3)"
   ]
  },
  {
   "cell_type": "code",
   "execution_count": 35,
   "metadata": {},
   "outputs": [
    {
     "data": {
      "text/plain": [
       "0.552254846560196"
      ]
     },
     "execution_count": 35,
     "metadata": {},
     "output_type": "execute_result"
    }
   ],
   "source": [
    "silhouette_score(df_scaled, labels = labels_4)"
   ]
  },
  {
   "cell_type": "markdown",
   "metadata": {},
   "source": [
    "# END"
   ]
  }
 ],
 "metadata": {
  "kernelspec": {
   "display_name": "Python 3 (ipykernel)",
   "language": "python",
   "name": "python3"
  },
  "language_info": {
   "codemirror_mode": {
    "name": "ipython",
    "version": 3
   },
   "file_extension": ".py",
   "mimetype": "text/x-python",
   "name": "python",
   "nbconvert_exporter": "python",
   "pygments_lexer": "ipython3",
   "version": "3.9.12"
  },
  "toc": {
   "base_numbering": 1,
   "nav_menu": {},
   "number_sections": true,
   "sideBar": true,
   "skip_h1_title": false,
   "title_cell": "Table of Contents",
   "title_sidebar": "Contents",
   "toc_cell": false,
   "toc_position": {},
   "toc_section_display": true,
   "toc_window_display": false
  },
  "varInspector": {
   "cols": {
    "lenName": 16,
    "lenType": 16,
    "lenVar": 40
   },
   "kernels_config": {
    "python": {
     "delete_cmd_postfix": "",
     "delete_cmd_prefix": "del ",
     "library": "var_list.py",
     "varRefreshCmd": "print(var_dic_list())"
    },
    "r": {
     "delete_cmd_postfix": ") ",
     "delete_cmd_prefix": "rm(",
     "library": "var_list.r",
     "varRefreshCmd": "cat(var_dic_list()) "
    }
   },
   "types_to_exclude": [
    "module",
    "function",
    "builtin_function_or_method",
    "instance",
    "_Feature"
   ],
   "window_display": false
  }
 },
 "nbformat": 4,
 "nbformat_minor": 2
}
