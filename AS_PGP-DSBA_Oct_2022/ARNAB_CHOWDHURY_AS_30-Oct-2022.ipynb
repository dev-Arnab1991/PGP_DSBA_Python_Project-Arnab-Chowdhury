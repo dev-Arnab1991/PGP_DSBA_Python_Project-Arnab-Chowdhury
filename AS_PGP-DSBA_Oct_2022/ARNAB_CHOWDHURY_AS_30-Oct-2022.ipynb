{
 "cells": [
  {
   "cell_type": "code",
   "execution_count": 1,
   "id": "574f9ccf",
   "metadata": {},
   "outputs": [],
   "source": [
    "#Importing necessary libraries:\n",
    "import numpy as np\n",
    "import pandas as pd\n",
    "import seaborn as sns\n",
    "import scipy.stats as stats\n",
    "import matplotlib.pyplot as plt\n",
    "import statsmodels.api as sm\n",
    "\n",
    "\n",
    "from scipy.stats import ttest_1samp, ttest_ind\n",
    "from statsmodels.stats.anova import _get_covariance,anova_lm \n",
    "from statsmodels.formula.api import ols\n",
    "from scipy.stats import shapiro\n",
    "from scipy.stats import norm\n",
    "%matplotlib inline"
   ]
  },
  {
   "cell_type": "markdown",
   "id": "955b137d",
   "metadata": {},
   "source": [
    "### #Problem 1 :\n",
    "\n",
    "The Student News Service at Clear Mountain State University (CMSU) has decided to gather data about the undergraduate students that attend CMSU. CMSU creates and distributes a survey of 14 questions and receives responses from 62 undergraduates (stored in the Survey data set)."
   ]
  },
  {
   "cell_type": "markdown",
   "id": "080a33a2",
   "metadata": {},
   "source": [
    "#### #1.1. For this data, construct the following contingency tables (Keep Gender as row variable)"
   ]
  },
  {
   "cell_type": "code",
   "execution_count": 2,
   "id": "9f9d446c",
   "metadata": {},
   "outputs": [],
   "source": [
    "#Importing CSV file to notebook\n",
    "df_survey = pd.read_csv('Survey.csv')"
   ]
  },
  {
   "cell_type": "code",
   "execution_count": 3,
   "id": "beb5cd48",
   "metadata": {},
   "outputs": [
    {
     "data": {
      "text/html": [
       "<div>\n",
       "<style scoped>\n",
       "    .dataframe tbody tr th:only-of-type {\n",
       "        vertical-align: middle;\n",
       "    }\n",
       "\n",
       "    .dataframe tbody tr th {\n",
       "        vertical-align: top;\n",
       "    }\n",
       "\n",
       "    .dataframe thead th {\n",
       "        text-align: right;\n",
       "    }\n",
       "</style>\n",
       "<table border=\"1\" class=\"dataframe\">\n",
       "  <thead>\n",
       "    <tr style=\"text-align: right;\">\n",
       "      <th></th>\n",
       "      <th>ID</th>\n",
       "      <th>Gender</th>\n",
       "      <th>Age</th>\n",
       "      <th>Class</th>\n",
       "      <th>Major</th>\n",
       "      <th>Grad Intention</th>\n",
       "      <th>GPA</th>\n",
       "      <th>Employment</th>\n",
       "      <th>Salary</th>\n",
       "      <th>Social Networking</th>\n",
       "      <th>Satisfaction</th>\n",
       "      <th>Spending</th>\n",
       "      <th>Computer</th>\n",
       "      <th>Text Messages</th>\n",
       "    </tr>\n",
       "  </thead>\n",
       "  <tbody>\n",
       "    <tr>\n",
       "      <th>0</th>\n",
       "      <td>1</td>\n",
       "      <td>Female</td>\n",
       "      <td>20</td>\n",
       "      <td>Junior</td>\n",
       "      <td>Other</td>\n",
       "      <td>Yes</td>\n",
       "      <td>2.9</td>\n",
       "      <td>Full-Time</td>\n",
       "      <td>50.0</td>\n",
       "      <td>1</td>\n",
       "      <td>3</td>\n",
       "      <td>350</td>\n",
       "      <td>Laptop</td>\n",
       "      <td>200</td>\n",
       "    </tr>\n",
       "    <tr>\n",
       "      <th>1</th>\n",
       "      <td>2</td>\n",
       "      <td>Male</td>\n",
       "      <td>23</td>\n",
       "      <td>Senior</td>\n",
       "      <td>Management</td>\n",
       "      <td>Yes</td>\n",
       "      <td>3.6</td>\n",
       "      <td>Part-Time</td>\n",
       "      <td>25.0</td>\n",
       "      <td>1</td>\n",
       "      <td>4</td>\n",
       "      <td>360</td>\n",
       "      <td>Laptop</td>\n",
       "      <td>50</td>\n",
       "    </tr>\n",
       "    <tr>\n",
       "      <th>2</th>\n",
       "      <td>3</td>\n",
       "      <td>Male</td>\n",
       "      <td>21</td>\n",
       "      <td>Junior</td>\n",
       "      <td>Other</td>\n",
       "      <td>Yes</td>\n",
       "      <td>2.5</td>\n",
       "      <td>Part-Time</td>\n",
       "      <td>45.0</td>\n",
       "      <td>2</td>\n",
       "      <td>4</td>\n",
       "      <td>600</td>\n",
       "      <td>Laptop</td>\n",
       "      <td>200</td>\n",
       "    </tr>\n",
       "    <tr>\n",
       "      <th>3</th>\n",
       "      <td>4</td>\n",
       "      <td>Male</td>\n",
       "      <td>21</td>\n",
       "      <td>Junior</td>\n",
       "      <td>CIS</td>\n",
       "      <td>Yes</td>\n",
       "      <td>2.5</td>\n",
       "      <td>Full-Time</td>\n",
       "      <td>40.0</td>\n",
       "      <td>4</td>\n",
       "      <td>6</td>\n",
       "      <td>600</td>\n",
       "      <td>Laptop</td>\n",
       "      <td>250</td>\n",
       "    </tr>\n",
       "    <tr>\n",
       "      <th>4</th>\n",
       "      <td>5</td>\n",
       "      <td>Male</td>\n",
       "      <td>23</td>\n",
       "      <td>Senior</td>\n",
       "      <td>Other</td>\n",
       "      <td>Undecided</td>\n",
       "      <td>2.8</td>\n",
       "      <td>Unemployed</td>\n",
       "      <td>40.0</td>\n",
       "      <td>2</td>\n",
       "      <td>4</td>\n",
       "      <td>500</td>\n",
       "      <td>Laptop</td>\n",
       "      <td>100</td>\n",
       "    </tr>\n",
       "  </tbody>\n",
       "</table>\n",
       "</div>"
      ],
      "text/plain": [
       "   ID  Gender  Age   Class       Major Grad Intention  GPA  Employment  \\\n",
       "0   1  Female   20  Junior       Other            Yes  2.9   Full-Time   \n",
       "1   2    Male   23  Senior  Management            Yes  3.6   Part-Time   \n",
       "2   3    Male   21  Junior       Other            Yes  2.5   Part-Time   \n",
       "3   4    Male   21  Junior         CIS            Yes  2.5   Full-Time   \n",
       "4   5    Male   23  Senior       Other      Undecided  2.8  Unemployed   \n",
       "\n",
       "   Salary  Social Networking  Satisfaction  Spending Computer  Text Messages  \n",
       "0    50.0                  1             3       350   Laptop            200  \n",
       "1    25.0                  1             4       360   Laptop             50  \n",
       "2    45.0                  2             4       600   Laptop            200  \n",
       "3    40.0                  4             6       600   Laptop            250  \n",
       "4    40.0                  2             4       500   Laptop            100  "
      ]
     },
     "execution_count": 3,
     "metadata": {},
     "output_type": "execute_result"
    }
   ],
   "source": [
    "#Basic view of the dataset\n",
    "df_survey.head()"
   ]
  },
  {
   "cell_type": "code",
   "execution_count": 4,
   "id": "0fbcd037",
   "metadata": {},
   "outputs": [
    {
     "data": {
      "text/plain": [
       "ID                   0\n",
       "Gender               0\n",
       "Age                  0\n",
       "Class                0\n",
       "Major                0\n",
       "Grad Intention       0\n",
       "GPA                  0\n",
       "Employment           0\n",
       "Salary               0\n",
       "Social Networking    0\n",
       "Satisfaction         0\n",
       "Spending             0\n",
       "Computer             0\n",
       "Text Messages        0\n",
       "dtype: int64"
      ]
     },
     "execution_count": 4,
     "metadata": {},
     "output_type": "execute_result"
    }
   ],
   "source": [
    "#Null Checks :\n",
    "df_survey.isnull().sum()"
   ]
  },
  {
   "cell_type": "markdown",
   "id": "b7d1398b",
   "metadata": {},
   "source": [
    "#### 1.1.1. Gender and Major"
   ]
  },
  {
   "cell_type": "code",
   "execution_count": 5,
   "id": "64b1e7d0",
   "metadata": {},
   "outputs": [
    {
     "data": {
      "text/html": [
       "<div>\n",
       "<style scoped>\n",
       "    .dataframe tbody tr th:only-of-type {\n",
       "        vertical-align: middle;\n",
       "    }\n",
       "\n",
       "    .dataframe tbody tr th {\n",
       "        vertical-align: top;\n",
       "    }\n",
       "\n",
       "    .dataframe thead th {\n",
       "        text-align: right;\n",
       "    }\n",
       "</style>\n",
       "<table border=\"1\" class=\"dataframe\">\n",
       "  <thead>\n",
       "    <tr style=\"text-align: right;\">\n",
       "      <th>Major</th>\n",
       "      <th>Accounting</th>\n",
       "      <th>CIS</th>\n",
       "      <th>Economics/Finance</th>\n",
       "      <th>International Business</th>\n",
       "      <th>Management</th>\n",
       "      <th>Other</th>\n",
       "      <th>Retailing/Marketing</th>\n",
       "      <th>Undecided</th>\n",
       "    </tr>\n",
       "    <tr>\n",
       "      <th>Gender</th>\n",
       "      <th></th>\n",
       "      <th></th>\n",
       "      <th></th>\n",
       "      <th></th>\n",
       "      <th></th>\n",
       "      <th></th>\n",
       "      <th></th>\n",
       "      <th></th>\n",
       "    </tr>\n",
       "  </thead>\n",
       "  <tbody>\n",
       "    <tr>\n",
       "      <th>Female</th>\n",
       "      <td>3</td>\n",
       "      <td>3</td>\n",
       "      <td>7</td>\n",
       "      <td>4</td>\n",
       "      <td>4</td>\n",
       "      <td>3</td>\n",
       "      <td>9</td>\n",
       "      <td>0</td>\n",
       "    </tr>\n",
       "    <tr>\n",
       "      <th>Male</th>\n",
       "      <td>4</td>\n",
       "      <td>1</td>\n",
       "      <td>4</td>\n",
       "      <td>2</td>\n",
       "      <td>6</td>\n",
       "      <td>4</td>\n",
       "      <td>5</td>\n",
       "      <td>3</td>\n",
       "    </tr>\n",
       "  </tbody>\n",
       "</table>\n",
       "</div>"
      ],
      "text/plain": [
       "Major   Accounting  CIS  Economics/Finance  International Business  \\\n",
       "Gender                                                               \n",
       "Female           3    3                  7                       4   \n",
       "Male             4    1                  4                       2   \n",
       "\n",
       "Major   Management  Other  Retailing/Marketing  Undecided  \n",
       "Gender                                                     \n",
       "Female           4      3                    9          0  \n",
       "Male             6      4                    5          3  "
      ]
     },
     "execution_count": 5,
     "metadata": {},
     "output_type": "execute_result"
    }
   ],
   "source": [
    "#contingency table(s) for Gender and Major :\n",
    "ct=pd.crosstab(df_survey['Gender'],df_survey['Major'])\n",
    "ct"
   ]
  },
  {
   "cell_type": "markdown",
   "id": "6091356e",
   "metadata": {},
   "source": [
    "#### 1.1.2. Gender and Grad Intention"
   ]
  },
  {
   "cell_type": "code",
   "execution_count": 6,
   "id": "6d8da690",
   "metadata": {},
   "outputs": [
    {
     "data": {
      "text/html": [
       "<div>\n",
       "<style scoped>\n",
       "    .dataframe tbody tr th:only-of-type {\n",
       "        vertical-align: middle;\n",
       "    }\n",
       "\n",
       "    .dataframe tbody tr th {\n",
       "        vertical-align: top;\n",
       "    }\n",
       "\n",
       "    .dataframe thead th {\n",
       "        text-align: right;\n",
       "    }\n",
       "</style>\n",
       "<table border=\"1\" class=\"dataframe\">\n",
       "  <thead>\n",
       "    <tr style=\"text-align: right;\">\n",
       "      <th>Grad Intention</th>\n",
       "      <th>No</th>\n",
       "      <th>Undecided</th>\n",
       "      <th>Yes</th>\n",
       "    </tr>\n",
       "    <tr>\n",
       "      <th>Gender</th>\n",
       "      <th></th>\n",
       "      <th></th>\n",
       "      <th></th>\n",
       "    </tr>\n",
       "  </thead>\n",
       "  <tbody>\n",
       "    <tr>\n",
       "      <th>Female</th>\n",
       "      <td>9</td>\n",
       "      <td>13</td>\n",
       "      <td>11</td>\n",
       "    </tr>\n",
       "    <tr>\n",
       "      <th>Male</th>\n",
       "      <td>3</td>\n",
       "      <td>9</td>\n",
       "      <td>17</td>\n",
       "    </tr>\n",
       "  </tbody>\n",
       "</table>\n",
       "</div>"
      ],
      "text/plain": [
       "Grad Intention  No  Undecided  Yes\n",
       "Gender                            \n",
       "Female           9         13   11\n",
       "Male             3          9   17"
      ]
     },
     "execution_count": 6,
     "metadata": {},
     "output_type": "execute_result"
    }
   ],
   "source": [
    "#contingency table(s) for Gender and Grad Intention :\n",
    "ct_1=pd.crosstab(df_survey['Gender'],df_survey['Grad Intention'])\n",
    "ct_1"
   ]
  },
  {
   "cell_type": "markdown",
   "id": "be88516b",
   "metadata": {},
   "source": [
    "#### 1.1.3. Gender and Employment"
   ]
  },
  {
   "cell_type": "code",
   "execution_count": 7,
   "id": "5c053752",
   "metadata": {},
   "outputs": [
    {
     "data": {
      "text/html": [
       "<div>\n",
       "<style scoped>\n",
       "    .dataframe tbody tr th:only-of-type {\n",
       "        vertical-align: middle;\n",
       "    }\n",
       "\n",
       "    .dataframe tbody tr th {\n",
       "        vertical-align: top;\n",
       "    }\n",
       "\n",
       "    .dataframe thead th {\n",
       "        text-align: right;\n",
       "    }\n",
       "</style>\n",
       "<table border=\"1\" class=\"dataframe\">\n",
       "  <thead>\n",
       "    <tr style=\"text-align: right;\">\n",
       "      <th>Employment</th>\n",
       "      <th>Full-Time</th>\n",
       "      <th>Part-Time</th>\n",
       "      <th>Unemployed</th>\n",
       "    </tr>\n",
       "    <tr>\n",
       "      <th>Gender</th>\n",
       "      <th></th>\n",
       "      <th></th>\n",
       "      <th></th>\n",
       "    </tr>\n",
       "  </thead>\n",
       "  <tbody>\n",
       "    <tr>\n",
       "      <th>Female</th>\n",
       "      <td>3</td>\n",
       "      <td>24</td>\n",
       "      <td>6</td>\n",
       "    </tr>\n",
       "    <tr>\n",
       "      <th>Male</th>\n",
       "      <td>7</td>\n",
       "      <td>19</td>\n",
       "      <td>3</td>\n",
       "    </tr>\n",
       "  </tbody>\n",
       "</table>\n",
       "</div>"
      ],
      "text/plain": [
       "Employment  Full-Time  Part-Time  Unemployed\n",
       "Gender                                      \n",
       "Female              3         24           6\n",
       "Male                7         19           3"
      ]
     },
     "execution_count": 7,
     "metadata": {},
     "output_type": "execute_result"
    }
   ],
   "source": [
    "#contingency table(s) for Gender and Employment :\n",
    "ct_2=pd.crosstab(df_survey['Gender'],df_survey['Employment'])\n",
    "ct_2"
   ]
  },
  {
   "cell_type": "markdown",
   "id": "dc40edce",
   "metadata": {},
   "source": [
    "#### 1.1.4. Gender and Computer"
   ]
  },
  {
   "cell_type": "code",
   "execution_count": 8,
   "id": "3893e198",
   "metadata": {},
   "outputs": [
    {
     "data": {
      "text/html": [
       "<div>\n",
       "<style scoped>\n",
       "    .dataframe tbody tr th:only-of-type {\n",
       "        vertical-align: middle;\n",
       "    }\n",
       "\n",
       "    .dataframe tbody tr th {\n",
       "        vertical-align: top;\n",
       "    }\n",
       "\n",
       "    .dataframe thead th {\n",
       "        text-align: right;\n",
       "    }\n",
       "</style>\n",
       "<table border=\"1\" class=\"dataframe\">\n",
       "  <thead>\n",
       "    <tr style=\"text-align: right;\">\n",
       "      <th>Computer</th>\n",
       "      <th>Desktop</th>\n",
       "      <th>Laptop</th>\n",
       "      <th>Tablet</th>\n",
       "    </tr>\n",
       "    <tr>\n",
       "      <th>Gender</th>\n",
       "      <th></th>\n",
       "      <th></th>\n",
       "      <th></th>\n",
       "    </tr>\n",
       "  </thead>\n",
       "  <tbody>\n",
       "    <tr>\n",
       "      <th>Female</th>\n",
       "      <td>2</td>\n",
       "      <td>29</td>\n",
       "      <td>2</td>\n",
       "    </tr>\n",
       "    <tr>\n",
       "      <th>Male</th>\n",
       "      <td>3</td>\n",
       "      <td>26</td>\n",
       "      <td>0</td>\n",
       "    </tr>\n",
       "  </tbody>\n",
       "</table>\n",
       "</div>"
      ],
      "text/plain": [
       "Computer  Desktop  Laptop  Tablet\n",
       "Gender                           \n",
       "Female          2      29       2\n",
       "Male            3      26       0"
      ]
     },
     "execution_count": 8,
     "metadata": {},
     "output_type": "execute_result"
    }
   ],
   "source": [
    "#contingency table(s) for Gender and Computer :\n",
    "ct_3=pd.crosstab(df_survey['Gender'],df_survey['Computer'])\n",
    "ct_3"
   ]
  },
  {
   "cell_type": "markdown",
   "id": "77a3ddde",
   "metadata": {},
   "source": [
    "#### #1.2. Assume that the sample is representative of the population of CMSU. Based on the data, answer the following question:\n",
    "#### 1.2.1. What is the probability that a randomly selected CMSU student will be male?"
   ]
  },
  {
   "cell_type": "code",
   "execution_count": 9,
   "id": "d2b56d60",
   "metadata": {},
   "outputs": [
    {
     "data": {
      "text/plain": [
       "Female    33\n",
       "Male      29\n",
       "Name: Gender, dtype: int64"
      ]
     },
     "execution_count": 9,
     "metadata": {},
     "output_type": "execute_result"
    }
   ],
   "source": [
    "#Value counts for Gender\n",
    "df_survey.Gender.value_counts()"
   ]
  },
  {
   "cell_type": "code",
   "execution_count": 10,
   "id": "c9baf5aa",
   "metadata": {},
   "outputs": [
    {
     "name": "stdout",
     "output_type": "stream",
     "text": [
      "Total no. of students : 62\n",
      "Probability that a randomly selected CMSU student will be male =  46.774193548387096 %\n"
     ]
    }
   ],
   "source": [
    "total=len(df_survey['Gender'])\n",
    "print('Total no. of students :',total)\n",
    "print (\"Probability that a randomly selected CMSU student will be male = \",(29/total)*100,'%' )"
   ]
  },
  {
   "cell_type": "markdown",
   "id": "71ffe366",
   "metadata": {},
   "source": [
    "#### 1.2.2. What is the probability that a randomly selected CMSU student will be female?"
   ]
  },
  {
   "cell_type": "code",
   "execution_count": 11,
   "id": "803d86d9",
   "metadata": {},
   "outputs": [
    {
     "name": "stdout",
     "output_type": "stream",
     "text": [
      "Total no. of students : 62\n",
      "Probability that a randomly selected CMSU student will be male =  53.2258064516129 %\n"
     ]
    }
   ],
   "source": [
    "print('Total no. of students :',total)\n",
    "print (\"Probability that a randomly selected CMSU student will be male = \",(33/total)*100,'%' )"
   ]
  },
  {
   "cell_type": "markdown",
   "id": "2be3b89e",
   "metadata": {},
   "source": [
    "#### #1.3. Assume that the sample is representative of the population of CMSU. Based on the data, answer the following question:\n",
    "\n",
    "#### 1.3.1. Find the conditional probability of different majors among the male students in CMSU."
   ]
  },
  {
   "cell_type": "code",
   "execution_count": 12,
   "id": "2cfaa041",
   "metadata": {},
   "outputs": [],
   "source": [
    "#Crosstab for Gender vs. Major\n",
    "survey_data = pd.crosstab(index=df_survey['Gender'], columns=df_survey['Major'], margins=True, normalize='index',dropna=True)"
   ]
  },
  {
   "cell_type": "code",
   "execution_count": 13,
   "id": "34d1f1f3",
   "metadata": {},
   "outputs": [
    {
     "name": "stdout",
     "output_type": "stream",
     "text": [
      "Probability of Males opting for Accounting. is : 13.793103448275861 %\n",
      "Probability of Males opting for CIS. is : 3.4482758620689653 %\n",
      "Probability of Males opting for Economics/Finance.. is : 13.793103448275861 %\n",
      "Probability of Males opting for InternationalBusiness. is : 6.896551724137931 %\n",
      "Probability of Males opting for Management. is : 20.689655172413794 %\n",
      "Probability of Males opting for Other. is : 13.793103448275861 %\n",
      "Probability of Males opting for Retailing/Marketing. is : 17.24137931034483 %\n",
      "Probability of Males opting for Undecided. is : 10.344827586206897 %\n"
     ]
    }
   ],
   "source": [
    "print('Probability of Males opting for Accounting. is :',((survey_data.iloc[1, 0])*100),'%')\n",
    "print('Probability of Males opting for CIS. is :',((survey_data.iloc[1, 1])*100),'%')\n",
    "print('Probability of Males opting for Economics/Finance.. is :',((survey_data.iloc[1, 2])*100),'%')\n",
    "print('Probability of Males opting for InternationalBusiness. is :',((survey_data.iloc[1, 3])*100),'%')\n",
    "print('Probability of Males opting for Management. is :',((survey_data.iloc[1, 4])*100),'%')\n",
    "print('Probability of Males opting for Other. is :',((survey_data.iloc[1, 5])*100),'%')\n",
    "print('Probability of Males opting for Retailing/Marketing. is :',((survey_data.iloc[1, 6])*100),'%')\n",
    "print('Probability of Males opting for Undecided. is :',((survey_data.iloc[1, 7])*100),'%')"
   ]
  },
  {
   "cell_type": "markdown",
   "id": "b92b3243",
   "metadata": {},
   "source": [
    "#### 1.3.2 Find the conditional probability of different majors among the female students of CMSU."
   ]
  },
  {
   "cell_type": "code",
   "execution_count": 14,
   "id": "a0f7c8a5",
   "metadata": {},
   "outputs": [
    {
     "name": "stdout",
     "output_type": "stream",
     "text": [
      "Probability of Females  opting for Accounting. is : 9.090909090909092 %\n",
      "Probability of Females  opting for CIS. is : 9.090909090909092 %\n",
      "Probability of Females  opting for Economics/Finance.. is : 21.21212121212121 %\n",
      "Probability of Females  opting for InternationalBusiness. is : 12.121212121212121 %\n",
      "Probability of Females  opting for Management. is : 12.121212121212121 %\n",
      "Probability of Females  opting for Other. is : 9.090909090909092 %\n",
      "Probability of Females  opting for Retailing/Marketing. is : 27.27272727272727 %\n",
      "Probability of Females  opting for Undecided. is : 0.0 %\n"
     ]
    }
   ],
   "source": [
    "print('Probability of Females  opting for Accounting. is :',((survey_data.iloc[0, 0])*100),'%')\n",
    "print('Probability of Females  opting for CIS. is :',((survey_data.iloc[0, 1])*100),'%')\n",
    "print('Probability of Females  opting for Economics/Finance.. is :',((survey_data.iloc[0, 2])*100),'%')\n",
    "print('Probability of Females  opting for InternationalBusiness. is :',((survey_data.iloc[0, 3])*100),'%')\n",
    "print('Probability of Females  opting for Management. is :',((survey_data.iloc[0, 4])*100),'%')\n",
    "print('Probability of Females  opting for Other. is :',((survey_data.iloc[0, 5])*100),'%')\n",
    "print('Probability of Females  opting for Retailing/Marketing. is :',((survey_data.iloc[0, 6])*100),'%')\n",
    "print('Probability of Females  opting for Undecided. is :',((survey_data.iloc[0, 7])*100),'%')"
   ]
  },
  {
   "cell_type": "markdown",
   "id": "79c5eae6",
   "metadata": {},
   "source": [
    "#### 1.4.1. Find the probability That a randomly chosen student is a male and intends to graduate."
   ]
  },
  {
   "cell_type": "code",
   "execution_count": 15,
   "id": "acf2f745",
   "metadata": {},
   "outputs": [
    {
     "data": {
      "text/html": [
       "<div>\n",
       "<style scoped>\n",
       "    .dataframe tbody tr th:only-of-type {\n",
       "        vertical-align: middle;\n",
       "    }\n",
       "\n",
       "    .dataframe tbody tr th {\n",
       "        vertical-align: top;\n",
       "    }\n",
       "\n",
       "    .dataframe thead th {\n",
       "        text-align: right;\n",
       "    }\n",
       "</style>\n",
       "<table border=\"1\" class=\"dataframe\">\n",
       "  <thead>\n",
       "    <tr style=\"text-align: right;\">\n",
       "      <th>Grad Intention</th>\n",
       "      <th>No</th>\n",
       "      <th>Undecided</th>\n",
       "      <th>Yes</th>\n",
       "    </tr>\n",
       "    <tr>\n",
       "      <th>Gender</th>\n",
       "      <th></th>\n",
       "      <th></th>\n",
       "      <th></th>\n",
       "    </tr>\n",
       "  </thead>\n",
       "  <tbody>\n",
       "    <tr>\n",
       "      <th>Female</th>\n",
       "      <td>0.272727</td>\n",
       "      <td>0.393939</td>\n",
       "      <td>0.333333</td>\n",
       "    </tr>\n",
       "    <tr>\n",
       "      <th>Male</th>\n",
       "      <td>0.103448</td>\n",
       "      <td>0.310345</td>\n",
       "      <td>0.586207</td>\n",
       "    </tr>\n",
       "    <tr>\n",
       "      <th>All</th>\n",
       "      <td>0.193548</td>\n",
       "      <td>0.354839</td>\n",
       "      <td>0.451613</td>\n",
       "    </tr>\n",
       "  </tbody>\n",
       "</table>\n",
       "</div>"
      ],
      "text/plain": [
       "Grad Intention        No  Undecided       Yes\n",
       "Gender                                       \n",
       "Female          0.272727   0.393939  0.333333\n",
       "Male            0.103448   0.310345  0.586207\n",
       "All             0.193548   0.354839  0.451613"
      ]
     },
     "execution_count": 15,
     "metadata": {},
     "output_type": "execute_result"
    }
   ],
   "source": [
    "#Crosstab for Gender vs. Grad Intention\n",
    "tab=pd.crosstab(index=df_survey['Gender'], columns=df_survey['Grad Intention'], margins=True, normalize='index',dropna=True)\n",
    "tab"
   ]
  },
  {
   "cell_type": "code",
   "execution_count": 16,
   "id": "50cb63c9",
   "metadata": {},
   "outputs": [
    {
     "name": "stdout",
     "output_type": "stream",
     "text": [
      "The probability That a randomly chosen student is a male and intends to graduate. is : 58.620689655172406 %\n"
     ]
    }
   ],
   "source": [
    "print('The probability That a randomly chosen student is a male and intends to graduate. is :',(tab.iloc[1,2])*100,'%')"
   ]
  },
  {
   "cell_type": "markdown",
   "id": "ddc674d9",
   "metadata": {},
   "source": [
    "#### 1.4.2 Find the probability that a randomly selected student is a female and does NOT have a laptop."
   ]
  },
  {
   "cell_type": "code",
   "execution_count": 17,
   "id": "ad3d71ab",
   "metadata": {},
   "outputs": [],
   "source": [
    "#Crosstab for Gender vs. Computer\n",
    "tab1=pd.crosstab(index=df_survey['Gender'], columns=df_survey['Computer'], margins=True, normalize='index',dropna=True)"
   ]
  },
  {
   "cell_type": "code",
   "execution_count": 18,
   "id": "b9daf618",
   "metadata": {},
   "outputs": [
    {
     "name": "stdout",
     "output_type": "stream",
     "text": [
      "The probability that a randomly selected student is a female and does NOT have a laptop. is : 12.121212121212121 %\n"
     ]
    }
   ],
   "source": [
    "print('The probability that a randomly selected student is a female and does NOT have a laptop. is :',(1-tab1.iloc[0,1])*100,'%')"
   ]
  },
  {
   "cell_type": "markdown",
   "id": "7e188111",
   "metadata": {},
   "source": [
    "#### #1.5. Assume that the sample is representative of the population of CMSU. Based on the data, answer the following question:\n",
    "\n",
    "#### 1.5.1. Find the probability that a randomly chosen student is a male or has full-time employment?"
   ]
  },
  {
   "cell_type": "code",
   "execution_count": 19,
   "id": "4fecbe35",
   "metadata": {},
   "outputs": [
    {
     "name": "stdout",
     "output_type": "stream",
     "text": [
      "Total no. of employeed people : 62\n"
     ]
    }
   ],
   "source": [
    "Total_Emp=(df_survey['Employment']).value_counts().sum()\n",
    "print('Total no. of employeed people :',Total_Emp)"
   ]
  },
  {
   "cell_type": "code",
   "execution_count": 20,
   "id": "3c9b4a63",
   "metadata": {},
   "outputs": [
    {
     "name": "stdout",
     "output_type": "stream",
     "text": [
      "Total no. of Males : 29\n"
     ]
    }
   ],
   "source": [
    "Total_no_of_males = (df_survey['Gender'] =='Male').sum()\n",
    "print('Total no. of Males :',Total_no_of_males)"
   ]
  },
  {
   "cell_type": "code",
   "execution_count": 21,
   "id": "2a5a71d2",
   "metadata": {},
   "outputs": [
    {
     "name": "stdout",
     "output_type": "stream",
     "text": [
      "Probability of male students : 46.774193548387096 %\n"
     ]
    }
   ],
   "source": [
    "prob_of_male_student = Total_no_of_males/Total_Emp\n",
    "print('Probability of male students :',prob_of_male_student*100,'%')"
   ]
  },
  {
   "cell_type": "code",
   "execution_count": 22,
   "id": "d9545908",
   "metadata": {},
   "outputs": [
    {
     "name": "stdout",
     "output_type": "stream",
     "text": [
      "Total no. of fulltime employees : 10\n"
     ]
    }
   ],
   "source": [
    "Total_no_of_fulltime_emp = (df_survey['Employment'] =='Full-Time').sum()\n",
    "print('Total no. of fulltime employees :',Total_no_of_fulltime_emp)"
   ]
  },
  {
   "cell_type": "code",
   "execution_count": 23,
   "id": "f0de8235",
   "metadata": {},
   "outputs": [
    {
     "name": "stdout",
     "output_type": "stream",
     "text": [
      "Probability of fulltime employees : 16.129032258064516 %\n"
     ]
    }
   ],
   "source": [
    "prob_of_fulltime_emp = Total_no_of_fulltime_emp/Total_Emp\n",
    "print('Probability of fulltime employees :',prob_of_fulltime_emp*100,'%')"
   ]
  },
  {
   "cell_type": "code",
   "execution_count": 24,
   "id": "90289689",
   "metadata": {},
   "outputs": [
    {
     "name": "stdout",
     "output_type": "stream",
     "text": [
      "Total no. of fulltime employees : 7\n"
     ]
    }
   ],
   "source": [
    "Total_no_of_male_fulltime_emp = ((df_survey['Employment'] =='Full-Time') & (df_survey['Gender'] =='Male')).sum()\n",
    "print('Total no. of fulltime employees :',Total_no_of_male_fulltime_emp)"
   ]
  },
  {
   "cell_type": "code",
   "execution_count": 25,
   "id": "3551a716",
   "metadata": {},
   "outputs": [
    {
     "name": "stdout",
     "output_type": "stream",
     "text": [
      "Probability of male fulltime employees : 11.29032258064516 %\n"
     ]
    }
   ],
   "source": [
    "prob_of_male_fulltime_emp = Total_no_of_male_fulltime_emp/Total_Emp\n",
    "print('Probability of male fulltime employees :',prob_of_male_fulltime_emp*100,'%')"
   ]
  },
  {
   "cell_type": "code",
   "execution_count": 26,
   "id": "39cb1a93",
   "metadata": {},
   "outputs": [
    {
     "name": "stdout",
     "output_type": "stream",
     "text": [
      " The probability that a randomly chosen student is either a male or has full-time employment 51.61290322580645 %\n"
     ]
    }
   ],
   "source": [
    "prob = (prob_of_male_student+prob_of_fulltime_emp)-prob_of_male_fulltime_emp\n",
    "print(' The probability that a randomly chosen student is either a male or has full-time employment', prob*100 ,'%')"
   ]
  },
  {
   "cell_type": "markdown",
   "id": "8680a4cc",
   "metadata": {},
   "source": [
    "#### 1.5.2. Find the conditional probability that given a female student is randomly chosen, she is majoring in international business or management."
   ]
  },
  {
   "cell_type": "code",
   "execution_count": 27,
   "id": "d2b28c50",
   "metadata": {},
   "outputs": [
    {
     "name": "stdout",
     "output_type": "stream",
     "text": [
      "Total Female count : 33\n"
     ]
    }
   ],
   "source": [
    "Total_female = (df_survey['Gender']=='Female').sum()\n",
    "print('Total Female count :', Total_female)"
   ]
  },
  {
   "cell_type": "code",
   "execution_count": 28,
   "id": "5f577c10",
   "metadata": {},
   "outputs": [
    {
     "name": "stdout",
     "output_type": "stream",
     "text": [
      "The conditional probability that given a female student is randomly chosen, she is majoring in international business or management : 24.242424242424242 %\n"
     ]
    }
   ],
   "source": [
    "Total_no_of_female_IB_emp = ((df_survey['Gender']=='Female') & (df_survey['Major'] == 'International Business')).sum()\n",
    "Total_no_of_female_MGNT_emp = ((df_survey['Gender']=='Female') & (df_survey['Major'] == 'Management')).sum()\n",
    "Total_female_IB_MGNT = Total_no_of_female_IB_emp + Total_no_of_female_MGNT_emp\n",
    "prob=Total_female_IB_MGNT/Total_female\n",
    "\n",
    "print('The conditional probability that given a female student is randomly chosen, she is majoring in international business or management :',prob*100,'%')"
   ]
  },
  {
   "cell_type": "markdown",
   "id": "af737150",
   "metadata": {},
   "source": [
    "#### #1.6.  Construct a contingency table of Gender and Intent to Graduate at 2 levels (Yes/No). The Undecided students are not considered now and the table is a 2x2 table. Do you think the graduate intention and being female are independent events?"
   ]
  },
  {
   "cell_type": "code",
   "execution_count": 29,
   "id": "529c35c6",
   "metadata": {},
   "outputs": [
    {
     "data": {
      "text/html": [
       "<div>\n",
       "<style scoped>\n",
       "    .dataframe tbody tr th:only-of-type {\n",
       "        vertical-align: middle;\n",
       "    }\n",
       "\n",
       "    .dataframe tbody tr th {\n",
       "        vertical-align: top;\n",
       "    }\n",
       "\n",
       "    .dataframe thead th {\n",
       "        text-align: right;\n",
       "    }\n",
       "</style>\n",
       "<table border=\"1\" class=\"dataframe\">\n",
       "  <thead>\n",
       "    <tr style=\"text-align: right;\">\n",
       "      <th>Grad Intention</th>\n",
       "      <th>No</th>\n",
       "      <th>Yes</th>\n",
       "      <th>All</th>\n",
       "    </tr>\n",
       "    <tr>\n",
       "      <th>Gender</th>\n",
       "      <th></th>\n",
       "      <th></th>\n",
       "      <th></th>\n",
       "    </tr>\n",
       "  </thead>\n",
       "  <tbody>\n",
       "    <tr>\n",
       "      <th>Female</th>\n",
       "      <td>9</td>\n",
       "      <td>11</td>\n",
       "      <td>20</td>\n",
       "    </tr>\n",
       "    <tr>\n",
       "      <th>Male</th>\n",
       "      <td>3</td>\n",
       "      <td>17</td>\n",
       "      <td>20</td>\n",
       "    </tr>\n",
       "    <tr>\n",
       "      <th>All</th>\n",
       "      <td>12</td>\n",
       "      <td>28</td>\n",
       "      <td>40</td>\n",
       "    </tr>\n",
       "  </tbody>\n",
       "</table>\n",
       "</div>"
      ],
      "text/plain": [
       "Grad Intention  No  Yes  All\n",
       "Gender                      \n",
       "Female           9   11   20\n",
       "Male             3   17   20\n",
       "All             12   28   40"
      ]
     },
     "execution_count": 29,
     "metadata": {},
     "output_type": "execute_result"
    }
   ],
   "source": [
    "df_final = df_survey.drop(df_survey[df_survey['Grad Intention'] == 'Undecided'].index)\n",
    "tab4=pd.crosstab(df_final[\"Gender\"], df_final[\"Grad Intention\"],margins =True)\n",
    "tab4"
   ]
  },
  {
   "cell_type": "markdown",
   "id": "3b88cb47",
   "metadata": {},
   "source": [
    "**Two events are considered as 'independent events', if the probability of an occurring event doesn't change with the other event i.e if the probabilities of those events are equal or at least close to equal, then we can say that those events are 'independent events'."
   ]
  },
  {
   "cell_type": "code",
   "execution_count": 30,
   "id": "92929599",
   "metadata": {},
   "outputs": [
    {
     "name": "stdout",
     "output_type": "stream",
     "text": [
      "The probability that a randomly selected Student being Female is : 50.0 %\n"
     ]
    }
   ],
   "source": [
    " print('The probability that a randomly selected Student being Female is :',(20/40)*100,'%')"
   ]
  },
  {
   "cell_type": "code",
   "execution_count": 31,
   "id": "a19630c9",
   "metadata": {},
   "outputs": [
    {
     "name": "stdout",
     "output_type": "stream",
     "text": [
      "The probability that a randomly selected student is female and intends to graduate 55.00000000000001 %\n"
     ]
    }
   ],
   "source": [
    "print('The probability that a randomly selected student is female and intends to graduate',(11/20)*100,'%' )"
   ]
  },
  {
   "cell_type": "markdown",
   "id": "2f8daf0a",
   "metadata": {},
   "source": [
    "##### #probability value for the graduate intention and being female are not equal, They are not independent events."
   ]
  },
  {
   "cell_type": "markdown",
   "id": "13ea567f",
   "metadata": {},
   "source": [
    "#### #1.7. Note that there are four numerical (continuous) variables in the data set, GPA, Salary, Spending, and Text Messages. Answer the following questions based on the data\n",
    "\n",
    "#### 1.7.1. If a student is chosen randomly, what is the probability that his/her GPA is less than 3?"
   ]
  },
  {
   "cell_type": "code",
   "execution_count": 32,
   "id": "6e722dd8",
   "metadata": {},
   "outputs": [
    {
     "name": "stdout",
     "output_type": "stream",
     "text": [
      "The probability that his/her GPA is less than 3 is 27.419354838709676 %\n"
     ]
    }
   ],
   "source": [
    "stud_less_3 = (df_survey['GPA'] < 3).sum()\n",
    "prob_stud_less_3 =stud_less_3/Total_Emp\n",
    "print('The probability that his/her GPA is less than 3 is', (prob_stud_less_3)*100, '%')"
   ]
  },
  {
   "cell_type": "markdown",
   "id": "7793a07b",
   "metadata": {},
   "source": [
    "#### 1.7.2. Find the conditional probability that a randomly selected male earns 50 or more. Find the conditional probability that a randomly selected female earns 50 or more."
   ]
  },
  {
   "cell_type": "code",
   "execution_count": 33,
   "id": "a8b3b346",
   "metadata": {},
   "outputs": [
    {
     "data": {
      "text/html": [
       "<div>\n",
       "<style scoped>\n",
       "    .dataframe tbody tr th:only-of-type {\n",
       "        vertical-align: middle;\n",
       "    }\n",
       "\n",
       "    .dataframe tbody tr th {\n",
       "        vertical-align: top;\n",
       "    }\n",
       "\n",
       "    .dataframe thead th {\n",
       "        text-align: right;\n",
       "    }\n",
       "</style>\n",
       "<table border=\"1\" class=\"dataframe\">\n",
       "  <thead>\n",
       "    <tr style=\"text-align: right;\">\n",
       "      <th>Salary</th>\n",
       "      <th>False</th>\n",
       "      <th>True</th>\n",
       "    </tr>\n",
       "    <tr>\n",
       "      <th>Gender</th>\n",
       "      <th></th>\n",
       "      <th></th>\n",
       "    </tr>\n",
       "  </thead>\n",
       "  <tbody>\n",
       "    <tr>\n",
       "      <th>False</th>\n",
       "      <td>0.454545</td>\n",
       "      <td>0.545455</td>\n",
       "    </tr>\n",
       "    <tr>\n",
       "      <th>True</th>\n",
       "      <td>0.517241</td>\n",
       "      <td>0.482759</td>\n",
       "    </tr>\n",
       "  </tbody>\n",
       "</table>\n",
       "</div>"
      ],
      "text/plain": [
       "Salary     False      True\n",
       "Gender                    \n",
       "False   0.454545  0.545455\n",
       "True    0.517241  0.482759"
      ]
     },
     "execution_count": 33,
     "metadata": {},
     "output_type": "execute_result"
    }
   ],
   "source": [
    "tab2 = pd.crosstab((df_survey['Gender']=='Male'), (df_survey['Salary'] >= 50), normalize ='index')\n",
    "tab2"
   ]
  },
  {
   "cell_type": "code",
   "execution_count": 34,
   "id": "b75bab73",
   "metadata": {},
   "outputs": [
    {
     "name": "stdout",
     "output_type": "stream",
     "text": [
      "the conditional probability that a randomly selected male earns 50 or more is : 48.275862068965516 %\n"
     ]
    }
   ],
   "source": [
    "print('the conditional probability that a randomly selected male earns 50 or more is :',(tab2.iloc[1,1])*100,'%')"
   ]
  },
  {
   "cell_type": "code",
   "execution_count": 35,
   "id": "653984d5",
   "metadata": {},
   "outputs": [
    {
     "data": {
      "text/html": [
       "<div>\n",
       "<style scoped>\n",
       "    .dataframe tbody tr th:only-of-type {\n",
       "        vertical-align: middle;\n",
       "    }\n",
       "\n",
       "    .dataframe tbody tr th {\n",
       "        vertical-align: top;\n",
       "    }\n",
       "\n",
       "    .dataframe thead th {\n",
       "        text-align: right;\n",
       "    }\n",
       "</style>\n",
       "<table border=\"1\" class=\"dataframe\">\n",
       "  <thead>\n",
       "    <tr style=\"text-align: right;\">\n",
       "      <th>Salary</th>\n",
       "      <th>False</th>\n",
       "      <th>True</th>\n",
       "    </tr>\n",
       "    <tr>\n",
       "      <th>Gender</th>\n",
       "      <th></th>\n",
       "      <th></th>\n",
       "    </tr>\n",
       "  </thead>\n",
       "  <tbody>\n",
       "    <tr>\n",
       "      <th>False</th>\n",
       "      <td>0.517241</td>\n",
       "      <td>0.482759</td>\n",
       "    </tr>\n",
       "    <tr>\n",
       "      <th>True</th>\n",
       "      <td>0.454545</td>\n",
       "      <td>0.545455</td>\n",
       "    </tr>\n",
       "  </tbody>\n",
       "</table>\n",
       "</div>"
      ],
      "text/plain": [
       "Salary     False      True\n",
       "Gender                    \n",
       "False   0.517241  0.482759\n",
       "True    0.454545  0.545455"
      ]
     },
     "execution_count": 35,
     "metadata": {},
     "output_type": "execute_result"
    }
   ],
   "source": [
    "tab3 = pd.crosstab((df_survey['Gender']=='Female'), (df_survey['Salary'] >= 50), normalize ='index')\n",
    "tab3"
   ]
  },
  {
   "cell_type": "code",
   "execution_count": 36,
   "id": "9d37b9a3",
   "metadata": {},
   "outputs": [
    {
     "name": "stdout",
     "output_type": "stream",
     "text": [
      "the conditional probability that a randomly selected female earns 50 or more is : 54.54545454545454 %\n"
     ]
    }
   ],
   "source": [
    "print('the conditional probability that a randomly selected female earns 50 or more is :',(tab3.iloc[1,1])*100,'%')"
   ]
  },
  {
   "cell_type": "markdown",
   "id": "1b075a9c",
   "metadata": {},
   "source": [
    "#### #1.8. Note that there are four numerical (continuous) variables in the data set, GPA, Salary, Spending, and Text Messages. For each of them comment whether they follow a normal distribution. Write a note summarizing your conclusions."
   ]
  },
  {
   "cell_type": "markdown",
   "id": "2a3222be",
   "metadata": {},
   "source": [
    "#Null Hypotheses(H0):(P-value>0.05): Sample follows the normal distributions.\n",
    "\n",
    "#Alternative Hypotheses(HA):(P-value<0.05): Sample does not follows the normal distributions."
   ]
  },
  {
   "cell_type": "code",
   "execution_count": 37,
   "id": "c144719c",
   "metadata": {},
   "outputs": [
    {
     "name": "stderr",
     "output_type": "stream",
     "text": [
      "C:\\Users\\ARNAB-PC\\anaconda3\\lib\\site-packages\\seaborn\\distributions.py:2619: FutureWarning: `distplot` is a deprecated function and will be removed in a future version. Please adapt your code to use either `displot` (a figure-level function with similar flexibility) or `histplot` (an axes-level function for histograms).\n",
      "  warnings.warn(msg, FutureWarning)\n"
     ]
    },
    {
     "name": "stdout",
     "output_type": "stream",
     "text": [
      "*Skew value for GPA is : -0.3146000894506981\n",
      "**Kurtosis value for GPA is : -0.5040435381579838\n"
     ]
    },
    {
     "data": {
      "image/png": "[encoded data removed]",
      "text/plain": [
       "<Figure size 432x288 with 2 Axes>"
      ]
     },
     "metadata": {
      "needs_background": "light"
     },
     "output_type": "display_data"
    }
   ],
   "source": [
    "#Distplot & probability plot for GPA :\n",
    "fig, ax = plt.subplots(1,2)\n",
    "sns.distplot(df_survey['GPA'],kde=True, ax=ax[0]);\n",
    "stats.probplot(df_survey['GPA'],plot=ax[1]);\n",
    "fig.tight_layout()\n",
    "\n",
    "print('*Skew value for GPA is :', df_survey['GPA'].skew())\n",
    "print('**Kurtosis value for GPA is :', df_survey['GPA'].kurtosis())"
   ]
  },
  {
   "cell_type": "code",
   "execution_count": 38,
   "id": "6067feb3",
   "metadata": {},
   "outputs": [
    {
     "name": "stdout",
     "output_type": "stream",
     "text": [
      "stat=0.9685, p=0.1120\n",
      "GPA follows Normal Distribution.\n"
     ]
    }
   ],
   "source": [
    "stat, p = shapiro(df_survey['GPA'])\n",
    "print('stat=%.4f, p=%.4f' % (stat, p))\n",
    "if p > 0.05:\n",
    "    print(\"GPA follows Normal Distribution.\")\n",
    "else:\n",
    "    print(\"GPA does not follow Normal Distribution.\")"
   ]
  },
  {
   "cell_type": "code",
   "execution_count": 39,
   "id": "aa9023d0",
   "metadata": {},
   "outputs": [
    {
     "name": "stderr",
     "output_type": "stream",
     "text": [
      "C:\\Users\\ARNAB-PC\\anaconda3\\lib\\site-packages\\seaborn\\distributions.py:2619: FutureWarning: `distplot` is a deprecated function and will be removed in a future version. Please adapt your code to use either `displot` (a figure-level function with similar flexibility) or `histplot` (an axes-level function for histograms).\n",
      "  warnings.warn(msg, FutureWarning)\n"
     ]
    },
    {
     "name": "stdout",
     "output_type": "stream",
     "text": [
      "*Skew value for Salary is : 0.5347008436225946\n",
      "**Kurtosis value for Salary is : 0.4242636177584149\n"
     ]
    },
    {
     "data": {
      "image/png": "[encoded data removed]",
      "text/plain": [
       "<Figure size 432x288 with 2 Axes>"
      ]
     },
     "metadata": {
      "needs_background": "light"
     },
     "output_type": "display_data"
    }
   ],
   "source": [
    "#Distplot & probability plot for Salary :\n",
    "fig, ax = plt.subplots(1,2)\n",
    "sns.distplot(df_survey['Salary'],kde=True, ax=ax[0]);\n",
    "stats.probplot(df_survey['Salary'],plot=ax[1]);\n",
    "fig.tight_layout()\n",
    "\n",
    "print('*Skew value for Salary is :', df_survey['Salary'].skew())\n",
    "print('**Kurtosis value for Salary is :', df_survey['Salary'].kurtosis())"
   ]
  },
  {
   "cell_type": "code",
   "execution_count": 40,
   "id": "eda3ce78",
   "metadata": {},
   "outputs": [
    {
     "name": "stdout",
     "output_type": "stream",
     "text": [
      "stat=0.9566, p=0.0280\n",
      "Salary does not follow Normal Distribution.\n"
     ]
    }
   ],
   "source": [
    "stat, p = shapiro(df_survey['Salary'])\n",
    "print('stat=%.4f, p=%.4f' % (stat, p))\n",
    "if p > 0.05:\n",
    "    print(\"Salary follows Normal Distribution.\")\n",
    "else:\n",
    "    print(\"Salary does not follow Normal Distribution.\")"
   ]
  },
  {
   "cell_type": "code",
   "execution_count": 41,
   "id": "cb364f5a",
   "metadata": {},
   "outputs": [
    {
     "name": "stderr",
     "output_type": "stream",
     "text": [
      "C:\\Users\\ARNAB-PC\\anaconda3\\lib\\site-packages\\seaborn\\distributions.py:2619: FutureWarning: `distplot` is a deprecated function and will be removed in a future version. Please adapt your code to use either `displot` (a figure-level function with similar flexibility) or `histplot` (an axes-level function for histograms).\n",
      "  warnings.warn(msg, FutureWarning)\n"
     ]
    },
    {
     "name": "stdout",
     "output_type": "stream",
     "text": [
      "*Skew value for Spending is : 1.5859147414045331\n",
      "**Kurtosis value for Spending is : 4.559914423727916\n"
     ]
    },
    {
     "data": {
      "image/png": "[encoded data removed]",
      "text/plain": [
       "<Figure size 432x288 with 2 Axes>"
      ]
     },
     "metadata": {
      "needs_background": "light"
     },
     "output_type": "display_data"
    }
   ],
   "source": [
    "#Distplot & probability plot for Spending :\n",
    "fig, ax = plt.subplots(1,2)\n",
    "sns.distplot(df_survey['Spending'],kde=True, ax=ax[0]);\n",
    "stats.probplot(df_survey['Spending'],plot=ax[1]);\n",
    "fig.tight_layout()\n",
    "\n",
    "print('*Skew value for Spending is :', df_survey['Spending'].skew())\n",
    "print('**Kurtosis value for Spending is :', df_survey['Spending'].kurtosis())"
   ]
  },
  {
   "cell_type": "code",
   "execution_count": 42,
   "id": "ee882201",
   "metadata": {},
   "outputs": [
    {
     "name": "stdout",
     "output_type": "stream",
     "text": [
      "stat=0.8777, p=0.0000\n",
      "Spending does not follow Normal Distribution.\n"
     ]
    }
   ],
   "source": [
    "stat, p = shapiro(df_survey['Spending'])\n",
    "print('stat=%.4f, p=%.4f' % (stat, p))\n",
    "if p > 0.05:\n",
    "    print(\"Spending follows Normal Distribution.\")\n",
    "else:\n",
    "    print(\"Spending does not follow Normal Distribution.\")"
   ]
  },
  {
   "cell_type": "code",
   "execution_count": 43,
   "id": "3d03456d",
   "metadata": {},
   "outputs": [
    {
     "name": "stderr",
     "output_type": "stream",
     "text": [
      "C:\\Users\\ARNAB-PC\\anaconda3\\lib\\site-packages\\seaborn\\distributions.py:2619: FutureWarning: `distplot` is a deprecated function and will be removed in a future version. Please adapt your code to use either `displot` (a figure-level function with similar flexibility) or `histplot` (an axes-level function for histograms).\n",
      "  warnings.warn(msg, FutureWarning)\n"
     ]
    },
    {
     "name": "stdout",
     "output_type": "stream",
     "text": [
      "*Skew value for Text Messages is : 1.2958079731054333\n",
      "**Kurtosis value for Text Messages is : 1.1356852071694052\n"
     ]
    },
    {
     "data": {
      "image/png": "[encoded data removed]",
      "text/plain": [
       "<Figure size 432x288 with 2 Axes>"
      ]
     },
     "metadata": {
      "needs_background": "light"
     },
     "output_type": "display_data"
    }
   ],
   "source": [
    "#Distplot & probability plot for Text Messages :\n",
    "fig, ax = plt.subplots(1,2)\n",
    "sns.distplot(df_survey['Text Messages'],kde=True, ax=ax[0]);\n",
    "stats.probplot(df_survey['Text Messages'],plot=ax[1]);\n",
    "fig.tight_layout()\n",
    "\n",
    "print('*Skew value for Text Messages is :', df_survey['Text Messages'].skew())\n",
    "print('**Kurtosis value for Text Messages is :', df_survey['Text Messages'].kurtosis())"
   ]
  },
  {
   "cell_type": "code",
   "execution_count": 44,
   "id": "6c104589",
   "metadata": {},
   "outputs": [
    {
     "name": "stdout",
     "output_type": "stream",
     "text": [
      "stat=0.8594, p=0.0000\n",
      "Text Messages does not follow Normal Distribution.\n"
     ]
    }
   ],
   "source": [
    "stat, p = shapiro(df_survey['Text Messages'])\n",
    "print('stat=%.4f, p=%.4f' % (stat, p))\n",
    "if p > 0.05:\n",
    "    print(\"Text Messages follows Normal Distribution.\")\n",
    "else:\n",
    "    print(\"Text Messages does not follow Normal Distribution.\")"
   ]
  },
  {
   "cell_type": "markdown",
   "id": "7c33f491",
   "metadata": {},
   "source": [
    "#### #This criterion is linked to a Learning Outcome1.8.2 Write a note summarizing your conclusions"
   ]
  },
  {
   "cell_type": "markdown",
   "id": "cd9b297b",
   "metadata": {},
   "source": [
    "GPA follows Normal Distribution.\n",
    "\n",
    "Salary does not follow Normal Distribution.\n",
    "\n",
    "Spending does not follow Normal Distribution.\n",
    "\n",
    "Text Messages does not follow Normal Distribution."
   ]
  },
  {
   "cell_type": "markdown",
   "id": "c3082efd",
   "metadata": {},
   "source": [
    "### #Problem 2 :\n",
    "\n",
    "An important quality characteristic used by the manufacturers of ABC asphalt shingles is the amount of moisture the shingles contain when they are packaged. Customers may feel that they have purchased a product lacking in quality if they find moisture and wet shingles inside the packaging.   In some cases, excessive moisture can cause the granules attached to the shingles for texture and coloring purposes to fall off the shingles resulting in appearance problems. To monitor the amount of moisture present, the company conducts moisture tests. A shingle is weighed and then dried. The shingle is then reweighed, and based on the amount of moisture taken out of the product, the pounds of moisture per 100 square feet is calculated. The company would like to show that the mean moisture content is less than 0.35 pounds per 100 square feet.\n",
    "\n",
    "The file (A & B shingles.csv) includes 36 measurements (in pounds per 100 square feet) for A shingles and 31 for B shingles."
   ]
  },
  {
   "cell_type": "code",
   "execution_count": 45,
   "id": "41582de5",
   "metadata": {},
   "outputs": [],
   "source": [
    "#Importing CSV file to notebook\n",
    "df_AB_Shingles = pd.read_csv('A & B shingles.csv')"
   ]
  },
  {
   "cell_type": "code",
   "execution_count": 46,
   "id": "a75c3ec5",
   "metadata": {},
   "outputs": [
    {
     "data": {
      "text/html": [
       "<div>\n",
       "<style scoped>\n",
       "    .dataframe tbody tr th:only-of-type {\n",
       "        vertical-align: middle;\n",
       "    }\n",
       "\n",
       "    .dataframe tbody tr th {\n",
       "        vertical-align: top;\n",
       "    }\n",
       "\n",
       "    .dataframe thead th {\n",
       "        text-align: right;\n",
       "    }\n",
       "</style>\n",
       "<table border=\"1\" class=\"dataframe\">\n",
       "  <thead>\n",
       "    <tr style=\"text-align: right;\">\n",
       "      <th></th>\n",
       "      <th>0</th>\n",
       "      <th>1</th>\n",
       "      <th>2</th>\n",
       "      <th>3</th>\n",
       "      <th>4</th>\n",
       "      <th>5</th>\n",
       "      <th>6</th>\n",
       "      <th>7</th>\n",
       "      <th>8</th>\n",
       "      <th>9</th>\n",
       "      <th>10</th>\n",
       "      <th>11</th>\n",
       "      <th>12</th>\n",
       "      <th>13</th>\n",
       "      <th>14</th>\n",
       "      <th>15</th>\n",
       "      <th>16</th>\n",
       "      <th>17</th>\n",
       "      <th>18</th>\n",
       "      <th>19</th>\n",
       "    </tr>\n",
       "  </thead>\n",
       "  <tbody>\n",
       "    <tr>\n",
       "      <th>A</th>\n",
       "      <td>0.44</td>\n",
       "      <td>0.61</td>\n",
       "      <td>0.47</td>\n",
       "      <td>0.30</td>\n",
       "      <td>0.15</td>\n",
       "      <td>0.24</td>\n",
       "      <td>0.16</td>\n",
       "      <td>0.20</td>\n",
       "      <td>0.20</td>\n",
       "      <td>0.20</td>\n",
       "      <td>0.26</td>\n",
       "      <td>0.14</td>\n",
       "      <td>0.33</td>\n",
       "      <td>0.13</td>\n",
       "      <td>0.72</td>\n",
       "      <td>0.51</td>\n",
       "      <td>0.28</td>\n",
       "      <td>0.39</td>\n",
       "      <td>0.39</td>\n",
       "      <td>0.25</td>\n",
       "    </tr>\n",
       "    <tr>\n",
       "      <th>B</th>\n",
       "      <td>0.14</td>\n",
       "      <td>0.15</td>\n",
       "      <td>0.31</td>\n",
       "      <td>0.16</td>\n",
       "      <td>0.37</td>\n",
       "      <td>0.18</td>\n",
       "      <td>0.42</td>\n",
       "      <td>0.58</td>\n",
       "      <td>0.25</td>\n",
       "      <td>0.41</td>\n",
       "      <td>0.17</td>\n",
       "      <td>0.13</td>\n",
       "      <td>0.23</td>\n",
       "      <td>0.11</td>\n",
       "      <td>0.10</td>\n",
       "      <td>0.19</td>\n",
       "      <td>0.22</td>\n",
       "      <td>0.44</td>\n",
       "      <td>0.11</td>\n",
       "      <td>0.11</td>\n",
       "    </tr>\n",
       "  </tbody>\n",
       "</table>\n",
       "</div>"
      ],
      "text/plain": [
       "     0     1     2     3     4     5     6     7     8     9     10    11  \\\n",
       "A  0.44  0.61  0.47  0.30  0.15  0.24  0.16  0.20  0.20  0.20  0.26  0.14   \n",
       "B  0.14  0.15  0.31  0.16  0.37  0.18  0.42  0.58  0.25  0.41  0.17  0.13   \n",
       "\n",
       "     12    13    14    15    16    17    18    19  \n",
       "A  0.33  0.13  0.72  0.51  0.28  0.39  0.39  0.25  \n",
       "B  0.23  0.11  0.10  0.19  0.22  0.44  0.11  0.11  "
      ]
     },
     "execution_count": 46,
     "metadata": {},
     "output_type": "execute_result"
    }
   ],
   "source": [
    "df_AB_Shingles.head(20).T"
   ]
  },
  {
   "cell_type": "code",
   "execution_count": 47,
   "id": "b420527c",
   "metadata": {},
   "outputs": [
    {
     "data": {
      "text/html": [
       "<div>\n",
       "<style scoped>\n",
       "    .dataframe tbody tr th:only-of-type {\n",
       "        vertical-align: middle;\n",
       "    }\n",
       "\n",
       "    .dataframe tbody tr th {\n",
       "        vertical-align: top;\n",
       "    }\n",
       "\n",
       "    .dataframe thead th {\n",
       "        text-align: right;\n",
       "    }\n",
       "</style>\n",
       "<table border=\"1\" class=\"dataframe\">\n",
       "  <thead>\n",
       "    <tr style=\"text-align: right;\">\n",
       "      <th></th>\n",
       "      <th>count</th>\n",
       "      <th>mean</th>\n",
       "      <th>std</th>\n",
       "      <th>min</th>\n",
       "      <th>25%</th>\n",
       "      <th>50%</th>\n",
       "      <th>75%</th>\n",
       "      <th>max</th>\n",
       "    </tr>\n",
       "  </thead>\n",
       "  <tbody>\n",
       "    <tr>\n",
       "      <th>A</th>\n",
       "      <td>36.0</td>\n",
       "      <td>0.316667</td>\n",
       "      <td>0.135731</td>\n",
       "      <td>0.13</td>\n",
       "      <td>0.2075</td>\n",
       "      <td>0.29</td>\n",
       "      <td>0.3925</td>\n",
       "      <td>0.72</td>\n",
       "    </tr>\n",
       "    <tr>\n",
       "      <th>B</th>\n",
       "      <td>31.0</td>\n",
       "      <td>0.273548</td>\n",
       "      <td>0.137296</td>\n",
       "      <td>0.10</td>\n",
       "      <td>0.1600</td>\n",
       "      <td>0.23</td>\n",
       "      <td>0.4000</td>\n",
       "      <td>0.58</td>\n",
       "    </tr>\n",
       "  </tbody>\n",
       "</table>\n",
       "</div>"
      ],
      "text/plain": [
       "   count      mean       std   min     25%   50%     75%   max\n",
       "A   36.0  0.316667  0.135731  0.13  0.2075  0.29  0.3925  0.72\n",
       "B   31.0  0.273548  0.137296  0.10  0.1600  0.23  0.4000  0.58"
      ]
     },
     "execution_count": 47,
     "metadata": {},
     "output_type": "execute_result"
    }
   ],
   "source": [
    "df_AB_Shingles.describe().T"
   ]
  },
  {
   "cell_type": "code",
   "execution_count": 48,
   "id": "90801e24",
   "metadata": {},
   "outputs": [
    {
     "data": {
      "text/plain": [
       "A    0\n",
       "B    5\n",
       "dtype: int64"
      ]
     },
     "execution_count": 48,
     "metadata": {},
     "output_type": "execute_result"
    }
   ],
   "source": [
    "df_AB_Shingles.isnull().sum()"
   ]
  },
  {
   "cell_type": "markdown",
   "id": "f1812876",
   "metadata": {},
   "source": [
    "#### 2.1 Do you think there is evidence that means moisture contents in both types of shingles are within the permissible limits? State your conclusions clearly showing all steps."
   ]
  },
  {
   "cell_type": "markdown",
   "id": "3c0abf75",
   "metadata": {},
   "source": [
    "#The null hypothesis states that the moisture content of sample A and sample B is greater or than equal to the permissible limit, 𝜇 ≥ 0.35, and the alternative hypothesis states that the moisture content of sample A and sample B is less than permissible limit, 𝜇 < 0.35.\n",
    "\n",
    "Null Hypotheses(HA): 𝜇 ≥ 0.35\n",
    "\n",
    "Alternative Hypotheses(HA): 𝜇 < 0.35"
   ]
  },
  {
   "cell_type": "markdown",
   "id": "232e1ad1",
   "metadata": {},
   "source": [
    "##Here we need to consider significance level(α) = 0.05 as given in the question."
   ]
  },
  {
   "cell_type": "code",
   "execution_count": 49,
   "id": "3c98163b",
   "metadata": {},
   "outputs": [
    {
     "name": "stdout",
     "output_type": "stream",
     "text": [
      "*t_stat value for sample A : -1.4735046253382782\n"
     ]
    }
   ],
   "source": [
    "t_statistic, p_value = ttest_1samp(df_AB_Shingles['A'],0.35,nan_policy='omit')\n",
    "print('*t_stat value for sample A :',t_statistic)"
   ]
  },
  {
   "cell_type": "code",
   "execution_count": 50,
   "id": "7b6e005c",
   "metadata": {},
   "outputs": [
    {
     "name": "stdout",
     "output_type": "stream",
     "text": [
      "**One-sample t-test p-value= 0.07477633144907513\n",
      "We have enough evidence to reject the alternative hypothesis in favour of null hypothesis,\n",
      "Hence, can conclude that the moisture content is greater than permissible limit in sample A.\n"
     ]
    }
   ],
   "source": [
    "print (\"**One-sample t-test p-value=\", p_value/2)\n",
    "\n",
    "alpha_level = 0.05\n",
    "\n",
    "if (p_value/2) < alpha_level:\n",
    "    print('We have enough evidence to reject the null hypothesis in favour of alternative hypothesis,\\nHence, can conclude that the moisture content is less than permissible limit in sample A.')\n",
    "else:\n",
    "    print('We have enough evidence to reject the alternative hypothesis in favour of null hypothesis,\\nHence, can conclude that the moisture content is greater than permissible limit in sample A.')"
   ]
  },
  {
   "cell_type": "code",
   "execution_count": 51,
   "id": "7b9d8e3e",
   "metadata": {},
   "outputs": [
    {
     "name": "stdout",
     "output_type": "stream",
     "text": [
      "*t_stat value for sample B : -3.1003313069986995\n"
     ]
    }
   ],
   "source": [
    "t_statistic, p_value = ttest_1samp(df_AB_Shingles['B'],0.35,nan_policy='omit')\n",
    "print('*t_stat value for sample B :',t_statistic)"
   ]
  },
  {
   "cell_type": "code",
   "execution_count": 52,
   "id": "0fbed067",
   "metadata": {},
   "outputs": [
    {
     "name": "stdout",
     "output_type": "stream",
     "text": [
      "**one-sample t-test p-value= 0.0020904774003191826\n",
      "We have enough evidence to reject the null hypothesis in favour of alternative hypothesis,\n",
      "Hence, can conclude that the moisture content is less than permissible limit in sample B.\n"
     ]
    }
   ],
   "source": [
    "print (\"**one-sample t-test p-value=\", p_value/2)\n",
    "\n",
    "alpha_level = 0.05\n",
    "\n",
    "if (p_value/2) < alpha_level:\n",
    "    print('We have enough evidence to reject the null hypothesis in favour of alternative hypothesis,\\nHence, can conclude that the moisture content is less than permissible limit in sample B.')\n",
    "else:\n",
    "    print('We have enough evidence to reject the alternative hypothesis in favour of null hypothesis,\\nHence, can conclude that the moisture content is greater than permissible limit in sample B.')"
   ]
  },
  {
   "cell_type": "markdown",
   "id": "d42f9fbd",
   "metadata": {},
   "source": [
    "#### 2.2 Do you think that the population mean for shingles A and B are equal? Form the hypothesis and conduct the test of the hypothesis. What assumption do you need to check before the test for equality of means is performed?"
   ]
  },
  {
   "cell_type": "markdown",
   "id": "5a6efdc6",
   "metadata": {},
   "source": [
    "#We have two samples and the sizes for both samples are not the same. The sample size is , n > 30. So we use the t distribution and the t-test statistic for two sample test."
   ]
  },
  {
   "cell_type": "markdown",
   "id": "fb7fcd96",
   "metadata": {},
   "source": [
    "To check the population mean(s) for shingles A and B whether the mean for shingles A and Shingles B are the same, the null hypothesis states that the mean of shingle A to mean of shingle B are the same, μa equals μb. The alternative hypothesis states that the mean are different, μa is not equal to μb.\n",
    "\n",
    "We can frame the Hypotheses as :\n",
    "\n",
    "Null Hypotheses(H0): μa = μb \n",
    "\n",
    "Alternative Hypotheses(HA): μa ≠  μb"
   ]
  },
  {
   "cell_type": "code",
   "execution_count": 53,
   "id": "2fbddbc3",
   "metadata": {},
   "outputs": [
    {
     "name": "stdout",
     "output_type": "stream",
     "text": [
      "*t_stat value: 1.2896282719661123\n"
     ]
    }
   ],
   "source": [
    "t_statistic, p_value  = ttest_ind(df_AB_Shingles['A'],df_AB_Shingles['B'],nan_policy='omit')\n",
    "print('*t_stat value:',t_statistic)    "
   ]
  },
  {
   "cell_type": "code",
   "execution_count": 54,
   "id": "07e9b5b3",
   "metadata": {},
   "outputs": [
    {
     "name": "stdout",
     "output_type": "stream",
     "text": [
      "*Two-sample t-test p-value= 0.2017496571835306\n",
      "**We have enough evidence to reject the alternative hypothesis in favour of null hypothesis.\n",
      "***We conclude that mean for shingles A and singles B are same.\n"
     ]
    }
   ],
   "source": [
    "print (\"*Two-sample t-test p-value=\", p_value)\n",
    "\n",
    "alpha_level = 0.05\n",
    "\n",
    "if p_value < alpha_level:\n",
    "    print('**We have enough evidence to reject the null hypothesis in favour of alternative hypothesis.')\n",
    "    print('***We conclude that mean for shingles A and singles B are not same.')\n",
    "else:\n",
    "    print('**We have enough evidence to reject the alternative hypothesis in favour of null hypothesis.')\n",
    "    print('***We conclude that mean for shingles A and singles B are same.')"
   ]
  },
  {
   "cell_type": "markdown",
   "id": "4d23dc09",
   "metadata": {},
   "source": [
    "### #Problem 3:\n",
    "\n",
    "Salary is hypothesized to depend on educational qualification and occupation. To understand the dependency, the salaries of 40 individuals [SalaryData.csv] are collected and each person’s educational qualification and occupation are noted. Educational qualification is at three levels, High school graduate, Bachelor's, and Doctorate. Occupation is at four levels, Administrative and clerical, Sales, Professional or specialty, and Executive or managerial. A different number of observations are in each level of education – occupation combination.\n",
    "\n",
    " [Assume that the data follows a normal distribution. In reality, the normality assumption may not always hold if the sample size is small.]"
   ]
  },
  {
   "cell_type": "code",
   "execution_count": 55,
   "id": "d31f60df",
   "metadata": {},
   "outputs": [],
   "source": [
    "#Importing CSV file to notebook\n",
    "df_Salary = pd.read_csv('SalaryData.csv')"
   ]
  },
  {
   "cell_type": "code",
   "execution_count": 56,
   "id": "48fef18c",
   "metadata": {},
   "outputs": [
    {
     "data": {
      "text/html": [
       "<div>\n",
       "<style scoped>\n",
       "    .dataframe tbody tr th:only-of-type {\n",
       "        vertical-align: middle;\n",
       "    }\n",
       "\n",
       "    .dataframe tbody tr th {\n",
       "        vertical-align: top;\n",
       "    }\n",
       "\n",
       "    .dataframe thead th {\n",
       "        text-align: right;\n",
       "    }\n",
       "</style>\n",
       "<table border=\"1\" class=\"dataframe\">\n",
       "  <thead>\n",
       "    <tr style=\"text-align: right;\">\n",
       "      <th></th>\n",
       "      <th>Education</th>\n",
       "      <th>Occupation</th>\n",
       "      <th>Salary</th>\n",
       "    </tr>\n",
       "  </thead>\n",
       "  <tbody>\n",
       "    <tr>\n",
       "      <th>0</th>\n",
       "      <td>Doctorate</td>\n",
       "      <td>Adm-clerical</td>\n",
       "      <td>153197</td>\n",
       "    </tr>\n",
       "    <tr>\n",
       "      <th>1</th>\n",
       "      <td>Doctorate</td>\n",
       "      <td>Adm-clerical</td>\n",
       "      <td>115945</td>\n",
       "    </tr>\n",
       "    <tr>\n",
       "      <th>2</th>\n",
       "      <td>Doctorate</td>\n",
       "      <td>Adm-clerical</td>\n",
       "      <td>175935</td>\n",
       "    </tr>\n",
       "    <tr>\n",
       "      <th>3</th>\n",
       "      <td>Doctorate</td>\n",
       "      <td>Adm-clerical</td>\n",
       "      <td>220754</td>\n",
       "    </tr>\n",
       "    <tr>\n",
       "      <th>4</th>\n",
       "      <td>Doctorate</td>\n",
       "      <td>Sales</td>\n",
       "      <td>170769</td>\n",
       "    </tr>\n",
       "  </tbody>\n",
       "</table>\n",
       "</div>"
      ],
      "text/plain": [
       "    Education     Occupation  Salary\n",
       "0   Doctorate   Adm-clerical  153197\n",
       "1   Doctorate   Adm-clerical  115945\n",
       "2   Doctorate   Adm-clerical  175935\n",
       "3   Doctorate   Adm-clerical  220754\n",
       "4   Doctorate          Sales  170769"
      ]
     },
     "execution_count": 56,
     "metadata": {},
     "output_type": "execute_result"
    }
   ],
   "source": [
    "#Basic view of salary dataframe\n",
    "df_Salary.head()"
   ]
  },
  {
   "cell_type": "code",
   "execution_count": 57,
   "id": "3fc7653e",
   "metadata": {},
   "outputs": [
    {
     "data": {
      "text/html": [
       "<div>\n",
       "<style scoped>\n",
       "    .dataframe tbody tr th:only-of-type {\n",
       "        vertical-align: middle;\n",
       "    }\n",
       "\n",
       "    .dataframe tbody tr th {\n",
       "        vertical-align: top;\n",
       "    }\n",
       "\n",
       "    .dataframe thead th {\n",
       "        text-align: right;\n",
       "    }\n",
       "</style>\n",
       "<table border=\"1\" class=\"dataframe\">\n",
       "  <thead>\n",
       "    <tr style=\"text-align: right;\">\n",
       "      <th></th>\n",
       "      <th>count</th>\n",
       "      <th>mean</th>\n",
       "      <th>std</th>\n",
       "      <th>min</th>\n",
       "      <th>25%</th>\n",
       "      <th>50%</th>\n",
       "      <th>75%</th>\n",
       "      <th>max</th>\n",
       "    </tr>\n",
       "  </thead>\n",
       "  <tbody>\n",
       "    <tr>\n",
       "      <th>Salary</th>\n",
       "      <td>40.0</td>\n",
       "      <td>162186.875</td>\n",
       "      <td>64860.407506</td>\n",
       "      <td>50103.0</td>\n",
       "      <td>99897.5</td>\n",
       "      <td>169100.0</td>\n",
       "      <td>214440.75</td>\n",
       "      <td>260151.0</td>\n",
       "    </tr>\n",
       "  </tbody>\n",
       "</table>\n",
       "</div>"
      ],
      "text/plain": [
       "        count        mean           std      min      25%       50%  \\\n",
       "Salary   40.0  162186.875  64860.407506  50103.0  99897.5  169100.0   \n",
       "\n",
       "              75%       max  \n",
       "Salary  214440.75  260151.0  "
      ]
     },
     "execution_count": 57,
     "metadata": {},
     "output_type": "execute_result"
    }
   ],
   "source": [
    "df_Salary.describe().T"
   ]
  },
  {
   "cell_type": "code",
   "execution_count": 58,
   "id": "4c091fd5",
   "metadata": {},
   "outputs": [
    {
     "data": {
      "text/plain": [
       "Education     0\n",
       "Occupation    0\n",
       "Salary        0\n",
       "dtype: int64"
      ]
     },
     "execution_count": 58,
     "metadata": {},
     "output_type": "execute_result"
    }
   ],
   "source": [
    "#Null Check\n",
    "df_Salary.isnull().sum()"
   ]
  },
  {
   "cell_type": "markdown",
   "id": "cea1f424",
   "metadata": {},
   "source": [
    "#### 1.State the null and the alternate hypothesis for conducting one-way ANOVA for both Education and Occupation individually."
   ]
  },
  {
   "cell_type": "markdown",
   "id": "31c794de",
   "metadata": {},
   "source": [
    "#Null Hypotheses(H0): The mean salary is the same with respect to all the 4 categories of Education.\n",
    "\n",
    "#Alternative Hypotheses(HA): The mean salary is different in at least one category of Education."
   ]
  },
  {
   "cell_type": "markdown",
   "id": "8cd7e3f9",
   "metadata": {},
   "source": [
    "#Null Hypotheses(H0): The mean salary is the same with respect to all the 4 categories of occupation.\n",
    "\n",
    "#Alternative Hypotheses(HA): The mean salary is different in at least one category of occupation."
   ]
  },
  {
   "cell_type": "markdown",
   "id": "3cc9280c",
   "metadata": {},
   "source": [
    "#### 2.Perform a one-way ANOVA on Salary with respect to Education. State whether the null hypothesis is accepted or rejected based on the ANOVA results."
   ]
  },
  {
   "cell_type": "code",
   "execution_count": 59,
   "id": "df46a3e8",
   "metadata": {},
   "outputs": [
    {
     "name": "stdout",
     "output_type": "stream",
     "text": [
      "                df        sum_sq       mean_sq         F        PR(>F)\n",
      "C(Education)   2.0  1.026955e+11  5.134773e+10  30.95628  1.257709e-08\n",
      "Residual      37.0  6.137256e+10  1.658718e+09       NaN           NaN\n"
     ]
    }
   ],
   "source": [
    "print(anova_lm(ols('Salary ~ C(Education)', df_Salary).fit()))"
   ]
  },
  {
   "cell_type": "markdown",
   "id": "473c97ec",
   "metadata": {},
   "source": [
    "##### #Since the p-value is less than the significance level (0.05), we can reject the null hypothesis and conclude that there is a difference in the mean salaries for at-least one category of education."
   ]
  },
  {
   "cell_type": "markdown",
   "id": "ecaf0f29",
   "metadata": {},
   "source": [
    "#### 3.Perform a one-way ANOVA on Salary with respect to Occupation. State whether the Null Hypothesis is accepted or rejected based on the ANOVA results."
   ]
  },
  {
   "cell_type": "code",
   "execution_count": 60,
   "id": "7c14c423",
   "metadata": {},
   "outputs": [
    {
     "name": "stdout",
     "output_type": "stream",
     "text": [
      "                 df        sum_sq       mean_sq         F    PR(>F)\n",
      "C(Occupation)   3.0  1.125878e+10  3.752928e+09  0.884144  0.458508\n",
      "Residual       36.0  1.528092e+11  4.244701e+09       NaN       NaN\n"
     ]
    }
   ],
   "source": [
    "print(anova_lm(ols('Salary ~ C(Occupation)', df_Salary).fit()))"
   ]
  },
  {
   "cell_type": "markdown",
   "id": "3bb3180f",
   "metadata": {},
   "source": [
    "##### #Since the p-value is greater than the significance level (0.05), we can reject the Alternative Hypothesis and conclude that there is no difference in the mean salaries across the 4 categories of occupation."
   ]
  },
  {
   "cell_type": "markdown",
   "id": "7b850e78",
   "metadata": {},
   "source": [
    "#### 4.If the null hypothesis is rejected in either (2) or in (3), find out which class means are significantly different. Interpret the result. (Non-Graded)"
   ]
  },
  {
   "cell_type": "markdown",
   "id": "251e383a",
   "metadata": {},
   "source": [
    "#### 5.Perform a two-way ANOVA based on Salary with respect to both Education and Occupation (along with their interaction Education*Occupation). State the null and alternative hypotheses and state your results. How will you interpret this result?"
   ]
  },
  {
   "cell_type": "markdown",
   "id": "ccab06aa",
   "metadata": {},
   "source": [
    "#Null Hypotheses(H0): The mean salary with respect to each education category and occupation is equal.\n",
    "\n",
    "#Alternative Hypotheses(HA): At least one of the means of salary with respect to each education category and occupation is unequal."
   ]
  },
  {
   "cell_type": "code",
   "execution_count": 61,
   "id": "188321ab",
   "metadata": {},
   "outputs": [
    {
     "name": "stdout",
     "output_type": "stream",
     "text": [
      "                              df        sum_sq       mean_sq          F  \\\n",
      "C(Education)                 2.0  1.026955e+11  5.134773e+10  72.211958   \n",
      "C(Occupation)                3.0  5.519946e+09  1.839982e+09   2.587626   \n",
      "C(Education):C(Occupation)   6.0  3.634909e+10  6.058182e+09   8.519815   \n",
      "Residual                    29.0  2.062102e+10  7.110697e+08        NaN   \n",
      "\n",
      "                                  PR(>F)  \n",
      "C(Education)                5.466264e-12  \n",
      "C(Occupation)               7.211580e-02  \n",
      "C(Education):C(Occupation)  2.232500e-05  \n",
      "Residual                             NaN  \n"
     ]
    }
   ],
   "source": [
    "formula = 'Salary ~ C(Education) + C(Occupation)+ C(Education): C(Occupation)'\n",
    "model = ols(formula, df_Salary).fit()\n",
    "aov_table = anova_lm(model)\n",
    "print(aov_table)"
   ]
  },
  {
   "cell_type": "markdown",
   "id": "11983ca9",
   "metadata": {},
   "source": [
    "##### #Since the p-value is lesser than the significance level(0.05), so we will reject the null hypothesis and conclude that there is significant amount of interaction between the variables(Education and Occupation) and at least one of the means of the salary with respect to each education category and occupation is unequal."
   ]
  },
  {
   "cell_type": "markdown",
   "id": "e59aa539",
   "metadata": {},
   "source": [
    "#### 6.Explain the business implications of performing ANOVA for this particular case study."
   ]
  },
  {
   "cell_type": "markdown",
   "id": "506f5128",
   "metadata": {},
   "source": [
    "#From the ANOVA table we can implies:\n",
    "\n",
    "##From the ANOVA table we can see the p-value for Education is = 5.466264e-12, which is less than 0.05, hence we can reject null-hypothesis and can conclude that the mean salary for different level of education is different. There is a significant effect due to Education.\n",
    "\n",
    "##From the ANOVA table we can see the p-value for Occupation is = 7.211580e-02, which is greater than 0.05, hence we fail to reject null-hypothesis and can conclude that the mean salary for different level of Occupation is same.There is no significant effect due to Occupation.\n",
    "\n",
    "##From the ANOVA table we can see the p-value for Education & Occupation is = 2.232500e-05 , which is less than 0.05, hence we  reject null-hypothesis and can conclude that There is an interaction effect between Education & Occupation."
   ]
  }
 ],
 "metadata": {
  "kernelspec": {
   "display_name": "Python 3 (ipykernel)",
   "language": "python",
   "name": "python3"
  },
  "language_info": {
   "codemirror_mode": {
    "name": "ipython",
    "version": 3
   },
   "file_extension": ".py",
   "mimetype": "text/x-python",
   "name": "python",
   "nbconvert_exporter": "python",
   "pygments_lexer": "ipython3",
   "version": "3.9.12"
  }
 },
 "nbformat": 4,
 "nbformat_minor": 5
}
