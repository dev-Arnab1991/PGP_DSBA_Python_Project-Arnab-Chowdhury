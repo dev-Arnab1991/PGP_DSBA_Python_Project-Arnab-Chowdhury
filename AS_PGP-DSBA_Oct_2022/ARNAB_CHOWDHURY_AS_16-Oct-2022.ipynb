{
 "cells": [
  {
   "cell_type": "code",
   "execution_count": 1,
   "id": "574f9ccf",
   "metadata": {},
   "outputs": [],
   "source": [
    "#Importing necessary libraries:\n",
    "import numpy as np\n",
    "import pandas as pd\n",
    "import seaborn as sns\n",
    "import scipy.stats as stats\n",
    "import matplotlib.pyplot as plt\n",
    "\n",
    "from scipy.stats import ttest_1samp, ttest_ind, ttest_rel\n",
    "from statistics import mean, stdev\n",
    "from scipy.stats import norm\n",
    "%matplotlib inline"
   ]
  },
  {
   "cell_type": "markdown",
   "id": "cf048fbd",
   "metadata": {},
   "source": [
    "## Problem 3:\n",
    "\n",
    "### The breaking strength of gunny bags used for packaging cement is normally distributed with a mean of 5 kg per sq. centimeter and a standard deviation of 1.5 kg per sq. centimeter. The quality team of the cement company wants to know the following about the packaging material to better understand wastage or pilferage within the supply chain; Answer the questions below based on the given information; (Provide an appropriate visual representation of your answers, without which marks will be deducted)"
   ]
  },
  {
   "cell_type": "markdown",
   "id": "4d4e1582",
   "metadata": {},
   "source": [
    "#### #The breaking strength of gunny bags used for packaging cement is normally distributed with μ = 5 and Sigma = 1.5."
   ]
  },
  {
   "cell_type": "code",
   "execution_count": null,
   "id": "5a77b7e6",
   "metadata": {},
   "outputs": [],
   "source": [
    "mu = 5\n",
    "sigma = 1.5"
   ]
  },
  {
   "cell_type": "markdown",
   "id": "5d26e67c",
   "metadata": {},
   "source": [
    "#### 3.1 What proportion of the gunny bags have a breaking strength less than 3.17 kg per sq cm?"
   ]
  },
  {
   "cell_type": "code",
   "execution_count": null,
   "id": "5f924779",
   "metadata": {},
   "outputs": [],
   "source": [
    "z1 = (3.17-5)/1.5"
   ]
  },
  {
   "cell_type": "code",
   "execution_count": null,
   "id": "08aef476",
   "metadata": {},
   "outputs": [],
   "source": [
    "print('#The proportion of the gunny bags have a breaking strength less than 3.17 kg./sq. cm. is :',stats.norm.cdf(z1))"
   ]
  },
  {
   "cell_type": "code",
   "execution_count": null,
   "id": "aa947207",
   "metadata": {},
   "outputs": [],
   "source": [
    "x1 = 3.17\n",
    "x2 = 11\n",
    "x_2 = np.arange(x2,11, 0.001) # range of x in spec\n",
    "x_1 = np.arange(-1,x1, 0.001)\n",
    "x_all = np.arange(-1,11, 0.001) # entire range of x, both in and out of spec\n",
    "y_1 = norm.pdf(x_1,mu,sigma)\n",
    "y_2 = norm.pdf(x_2,mu,sigma)\n",
    "y_all = norm.pdf(x_all,mu,sigma)\n",
    "\n",
    "# build the plot\n",
    "fig, ax = plt.subplots(figsize=(9,6))\n",
    "ax.plot(x_all,y_all)\n",
    "ax.fill_between(x_1,y_1,0, alpha=0.5, color='b')\n",
    "ax.fill_between(x_2,y_2,0, alpha=0.5, color='b')\n",
    "ax.fill_between(x_all,y_all,0, alpha=0.1)\n",
    "ax.set_xlim([-1,11])\n",
    "ax.set_xlabel(' breaking strength less than 3.17 kg per sq cm')\n",
    "ax.set_yticklabels([])\n",
    "ax.set_title('Normal Gaussian Curve')\n",
    "plt.show()"
   ]
  },
  {
   "cell_type": "markdown",
   "id": "74371cf7",
   "metadata": {},
   "source": [
    "#### 3.2 What proportion of the gunny bags have a breaking strength at least 3.6 kg per sq cm.?"
   ]
  },
  {
   "cell_type": "code",
   "execution_count": null,
   "id": "44e70574",
   "metadata": {},
   "outputs": [],
   "source": [
    "z2 = (3.6-5)/1.5"
   ]
  },
  {
   "cell_type": "code",
   "execution_count": null,
   "id": "f997543d",
   "metadata": {},
   "outputs": [],
   "source": [
    "print('#The proportion of the gunny bags have a breaking strength at least 3.6 kg./sq. cm. is :',1-stats.norm.cdf(z2))"
   ]
  },
  {
   "cell_type": "code",
   "execution_count": null,
   "id": "ca8d869d",
   "metadata": {},
   "outputs": [],
   "source": [
    "x1 = 3.6\n",
    "x2 = 11\n",
    "x_2 = np.arange(x2,11, 0.001) # range of x in spec\n",
    "x_1 = np.arange(-1,x1, 0.001)\n",
    "x_all = np.arange(-1,11, 0.001) # entire range of x, both in and out of spec\n",
    "y_1 = norm.pdf(x_1,mu,sigma)\n",
    "y_2 = norm.pdf(x_2,mu,sigma)\n",
    "y_all = norm.pdf(x_all,mu,sigma)\n",
    "\n",
    "# build the plot\n",
    "fig, ax = plt.subplots(figsize=(9,6))\n",
    "ax.plot(x_all,y_all)\n",
    "ax.fill_between(x_1,y_1,0, alpha=0.5, color='b')\n",
    "ax.fill_between(x_2,y_2,0, alpha=0.5, color='b')\n",
    "ax.fill_between(x_all,y_all,0, alpha=0.1)\n",
    "ax.set_xlim([-1,11])\n",
    "ax.set_xlabel(' breaking strength less than 3.6 kg per sq cm')\n",
    "ax.set_yticklabels([])\n",
    "ax.set_title('Normal Gaussian Curve')\n",
    "plt.show()"
   ]
  },
  {
   "cell_type": "markdown",
   "id": "8c019b22",
   "metadata": {},
   "source": [
    "#### 3.3 What proportion of the gunny bags have a breaking strength between 5 and 5.5 kg per sq cm.?"
   ]
  },
  {
   "cell_type": "code",
   "execution_count": null,
   "id": "ef90887f",
   "metadata": {},
   "outputs": [],
   "source": [
    "z3 = (5-5)/1.5\n",
    "z4 = (5.5-5)/1.5"
   ]
  },
  {
   "cell_type": "code",
   "execution_count": null,
   "id": "94869624",
   "metadata": {},
   "outputs": [],
   "source": [
    "cdf_value=(stats.norm.cdf(z4)-stats.norm.cdf(z3))\n",
    "print('#The proportion of the gunny bags have a breaking strength between 5 and 5.5 kg./sq. cm. is :',cdf_value)"
   ]
  },
  {
   "cell_type": "code",
   "execution_count": null,
   "id": "7ffa805d",
   "metadata": {},
   "outputs": [],
   "source": [
    "x1 = 5\n",
    "x2 = 5.5\n",
    "x_2 = np.arange(x2,11, 0.001) # range of x in spec\n",
    "x_1 = np.arange(-1,x1, 0.001)\n",
    "x_all = np.arange(-1,11, 0.001) # entire range of x, both in and out of spec\n",
    "y_1 = norm.pdf(x_1,mu,sigma)\n",
    "y_2 = norm.pdf(x_2,mu,sigma)\n",
    "y_all = norm.pdf(x_all,mu,sigma)\n",
    "\n",
    "# build the plot\n",
    "fig, ax = plt.subplots(figsize=(9,6))\n",
    "ax.plot(x_all,y_all)\n",
    "ax.fill_between(x_1,y_1,0, alpha=0.5, color='b')\n",
    "ax.fill_between(x_2,y_2,0, alpha=0.5, color='b')\n",
    "ax.fill_between(x_all,y_all,0, alpha=0.1)\n",
    "ax.set_xlim([-1,11])\n",
    "ax.set_xlabel(' breaking strength between 5 and 5.5 kg per sq cm.')\n",
    "ax.set_yticklabels([])\n",
    "ax.set_title('Normal Gaussian Curve')\n",
    "plt.show()"
   ]
  },
  {
   "cell_type": "markdown",
   "id": "71e18fa5",
   "metadata": {},
   "source": [
    "#### 3.4 What proportion of the gunny bags have a breaking strength NOT between 3 and 7.5 kg per sq cm.?"
   ]
  },
  {
   "cell_type": "code",
   "execution_count": null,
   "id": "04cddf76",
   "metadata": {},
   "outputs": [],
   "source": [
    "z5 = (3-5)/1.5\n",
    "z6 = (7.5-5)/1.5"
   ]
  },
  {
   "cell_type": "code",
   "execution_count": null,
   "id": "fc9fc79d",
   "metadata": {},
   "outputs": [],
   "source": [
    "cdf_value1=(1-(stats.norm.cdf(z6)-stats.norm.cdf(z5)))\n",
    "print('#The proportion of the gunny bags have a breaking strength NOT between 3 and 7.5 kg./sq. cm. is :',cdf_value1)"
   ]
  },
  {
   "cell_type": "code",
   "execution_count": null,
   "id": "3059f6d5",
   "metadata": {},
   "outputs": [],
   "source": [
    "x1 = 3\n",
    "x2 = 7.5\n",
    "x_2 = np.arange(x2,11, 0.001) # range of x in spec\n",
    "x_1 = np.arange(-1,x1, 0.001)\n",
    "x_all = np.arange(-1,11, 0.001) # entire range of x, both in and out of spec\n",
    "y_1 = norm.pdf(x_1,mu,sigma)\n",
    "y_2 = norm.pdf(x_2,mu,sigma)\n",
    "y_all = norm.pdf(x_all,mu,sigma)\n",
    "\n",
    "# build the plot\n",
    "fig, ax = plt.subplots(figsize=(9,6))\n",
    "ax.plot(x_all,y_all)\n",
    "ax.fill_between(x_1,y_1,0, alpha=0.5, color='b')\n",
    "ax.fill_between(x_2,y_2,0, alpha=0.5, color='b')\n",
    "ax.fill_between(x_all,y_all,0, alpha=0.1)\n",
    "ax.set_xlim([-1,11])\n",
    "ax.set_xlabel('breaking strength of gunny bags in kg per cm')\n",
    "ax.set_yticklabels([])\n",
    "ax.set_title('Normal Gaussian Curve')\n",
    "plt.savefig('normal_curve.png', dpi=72, bbox_inches='tight')\n",
    "plt.show()"
   ]
  },
  {
   "cell_type": "markdown",
   "id": "83c3fcec",
   "metadata": {},
   "source": [
    "## Problem 4:\n",
    "### Grades of the final examination in a training course are found to be normally distributed, with a mean of 77 and a standard deviation of 8.5. Based on the given information answer the questions below."
   ]
  },
  {
   "cell_type": "markdown",
   "id": "73cfeedb",
   "metadata": {},
   "source": [
    "#### 4.1 What is the probability that a randomly chosen student gets a grade below 85 on this exam?"
   ]
  },
  {
   "cell_type": "code",
   "execution_count": null,
   "id": "1942d710",
   "metadata": {},
   "outputs": [],
   "source": [
    "#Calculating the z-score value:\n",
    "z = (85-77)/8.5\n",
    "print('Z-score value :',z)"
   ]
  },
  {
   "cell_type": "code",
   "execution_count": null,
   "id": "0384bd21",
   "metadata": {},
   "outputs": [],
   "source": [
    "print('#The probability that a randomly chosen student gets a grade below 85 on this exam is :',stats.norm.cdf(z))"
   ]
  },
  {
   "cell_type": "markdown",
   "id": "f5f9cd4d",
   "metadata": {},
   "source": [
    "#### 4.2 What is the probability that a randomly selected student scores between 65 and 87?"
   ]
  },
  {
   "cell_type": "code",
   "execution_count": null,
   "id": "a208d549",
   "metadata": {},
   "outputs": [],
   "source": [
    "#Calculating the z-score value:\n",
    "z1 = (65-77)/8.5\n",
    "z2 = (87-77)/8.5\n",
    "print('Z-score values are :',z1, 'and', z2)"
   ]
  },
  {
   "cell_type": "code",
   "execution_count": null,
   "id": "2aadffaf",
   "metadata": {},
   "outputs": [],
   "source": [
    "cdf_val=stats.norm.cdf(z2)-stats.norm.cdf(z1)\n",
    "print('#The probability that a randomly selected student scores between 65 and 87 is :',cdf_val)"
   ]
  },
  {
   "cell_type": "markdown",
   "id": "9e13da20",
   "metadata": {},
   "source": [
    "#### 4.3 What should be the passing cut-off so that 75% of the students clear the exam?"
   ]
  },
  {
   "cell_type": "code",
   "execution_count": null,
   "id": "0ab49230",
   "metadata": {},
   "outputs": [],
   "source": [
    "mean = 77\n",
    "sd = 8.5\n",
    "print('#The passing cut-off should be',stats.norm.ppf(0.75,mean,sd),'so that 75% of the students could clear the exam.')"
   ]
  },
  {
   "cell_type": "markdown",
   "id": "980951a3",
   "metadata": {},
   "source": [
    "## Problem 5:\n",
    "### Zingaro stone printing is a company that specializes in printing images or patterns on polished or unpolished stones. However, for the optimum level of printing of the image the stone surface has to have a Brinell's hardness index of at least 150. Recently, Zingaro has received a batch of polished and unpolished stones from its clients. Use the data provided to answer the following (assuming a 5% significance level);"
   ]
  },
  {
   "cell_type": "code",
   "execution_count": null,
   "id": "9a3ea01c",
   "metadata": {},
   "outputs": [],
   "source": [
    "#Load the Zingaro CSV data to notebook :\n",
    "df_Zingaro = pd.read_csv('Zingaro_Company.csv')"
   ]
  },
  {
   "cell_type": "code",
   "execution_count": null,
   "id": "090e2d00",
   "metadata": {},
   "outputs": [],
   "source": [
    "#Basic View of the Data-set :\n",
    "df_Zingaro.head()"
   ]
  },
  {
   "cell_type": "code",
   "execution_count": null,
   "id": "e366b991",
   "metadata": {},
   "outputs": [],
   "source": [
    "df_Zingaro.describe().T"
   ]
  },
  {
   "cell_type": "markdown",
   "id": "9a992426",
   "metadata": {},
   "source": [
    "#### 5.1 Earlier experience of Zingaro with this particular client is favorable as the stone surface was found to be of adequate hardness. However, Zingaro has reason to believe now that the unpolished stones may not be suitable for printing. Do you think Zingaro is justified in thinking so?"
   ]
  },
  {
   "cell_type": "markdown",
   "id": "5260177e",
   "metadata": {},
   "source": [
    "##### #From earlier experience Zingaro assumes that the unpolished stone is not suitable for printing. that means For printing in stone Brinell's hardness index should be atleast 150. \n",
    "\n",
    "Here we need to test the hardness of unpolished stone. As per Zingaros believe unpolished stones may not be suitable for printing, so we can  formulate the hypothesis as, null hypothesis states that the mean hardness of 'Unpolished stones' is more than 150 or same, and the alternative hypothesis states that the mean hardness of 'Unpolished stones' is less than 150.\n",
    "\n",
    "Null hypothesis(H0) : μ >= 150\n",
    "\n",
    "Alternative Hypothesis(HA) : μ < 150"
   ]
  },
  {
   "cell_type": "code",
   "execution_count": null,
   "id": "d3a355d4",
   "metadata": {},
   "outputs": [],
   "source": [
    "print('#Here we have a sample size(n) of :',df_Zingaro.shape[0])"
   ]
  },
  {
   "cell_type": "markdown",
   "id": "a24c7fc2",
   "metadata": {},
   "source": [
    "#### #As we have a data set having sample size is more than '30' we can proceed further with 'Z-test', again this test only concerned about a single population we should go for 'One tailed Z-test '.\n",
    "\n",
    "#### ##This will be a 'Left-tailed Z-test', as we need to conduct the test to the for the values which is less than Brinell's hardness index."
   ]
  },
  {
   "cell_type": "markdown",
   "id": "fcdd967e",
   "metadata": {},
   "source": [
    "#### ###The formula to get the T-Statistics is as follows :(x_bar - mu)/(sigma/np.sqrt(n))"
   ]
  },
  {
   "cell_type": "code",
   "execution_count": null,
   "id": "3fb58769",
   "metadata": {},
   "outputs": [],
   "source": [
    "print('#The Mean(x_bar) value for Unploished column is :',df_Zingaro['Unpolished '].mean())"
   ]
  },
  {
   "cell_type": "code",
   "execution_count": null,
   "id": "130289a4",
   "metadata": {},
   "outputs": [],
   "source": [
    "print('#The Standard deviation(σ) for Unploished column is :',df_Zingaro['Unpolished '].std())"
   ]
  },
  {
   "cell_type": "code",
   "execution_count": null,
   "id": "494b27f0",
   "metadata": {},
   "outputs": [],
   "source": [
    "test_stat = (134.110527 - 150)/(33.041804/np.sqrt(75))\n",
    "print('The Test-statistics is :',test_stat)"
   ]
  },
  {
   "cell_type": "code",
   "execution_count": null,
   "id": "aabd2434",
   "metadata": {},
   "outputs": [],
   "source": [
    "x = np.linspace(-8,8,100)\n",
    "plt.plot(x,norm.pdf(x,0,1))\n",
    "plt.axvline(x=test_stat, c='r')\n",
    "plt.show()"
   ]
  },
  {
   "cell_type": "markdown",
   "id": "42faf3bf",
   "metadata": {},
   "source": [
    "#### As Zingaro din't specified the significance value( α ), so we can consider α = 0.05"
   ]
  },
  {
   "cell_type": "code",
   "execution_count": null,
   "id": "524e910f",
   "metadata": {},
   "outputs": [],
   "source": [
    "Critical_val = norm.ppf(.05)\n",
    "print('The Critical value is :',Critical_val)"
   ]
  },
  {
   "cell_type": "code",
   "execution_count": null,
   "id": "2589f9e5",
   "metadata": {},
   "outputs": [],
   "source": [
    "x = np.linspace(-8,8,100)\n",
    "plt.plot(x,norm.pdf(x,0,1))\n",
    "plt.axvline(x=test_stat, c='r')\n",
    "plt.axvline(x=Critical_val, c='r')\n",
    "x1=np.linspace(Critical_val, 5, 50)\n",
    "#plt.fill_between(x1,norm.pdf(x1,0,1),color='r')\n",
    "plt.annotate('Do not Reject Null Hypothesis.',(0,0.07))\n",
    "plt.annotate('  Reject Null Hypothesis.',(-8,0.07))\n",
    "plt.show()"
   ]
  },
  {
   "cell_type": "markdown",
   "id": "b4d6a3b1",
   "metadata": {},
   "source": [
    "#### #Null hypothesis should be rejected and alternative hypothesis should be accepted. So, Zingaro is justified to think that unpolished stone is not suitable for printing."
   ]
  },
  {
   "cell_type": "markdown",
   "id": "28d3d1fb",
   "metadata": {},
   "source": [
    "#### 5.2 Is the mean hardness of the polished and unpolished stones the same?"
   ]
  },
  {
   "cell_type": "markdown",
   "id": "4b603a0e",
   "metadata": {},
   "source": [
    "#Compearing the mean hardness of the polished and unpolished stones \n",
    "Here we need to test the hardness of unpolished stone with polished stone. As per Zingaros believe unpolished stones may not be suitable for printing, so we can  formulate the hypothesis as, null hypothesis states that the mean hardness of 'Unpolished stones' and 'polished stones' are same, and the alternative hypothesis states that the mean hardness of 'Unpolished stones' and 'polished stones' are different.\n",
    "\n",
    "Null hypothesis(H0) : μp = μu\n",
    "\n",
    "Alternative Hypothesis(HA) : μp ≠ μu\n",
    "\n",
    "#### #Here we need to conduct a Two-tail test as we are compering mean hardness for 'Unpolished stones' and 'polished stones'."
   ]
  },
  {
   "cell_type": "code",
   "execution_count": null,
   "id": "c114c82f",
   "metadata": {},
   "outputs": [],
   "source": [
    "t_statistic, p_value  =  stats.ttest_ind(df_Zingaro['Unpolished '],df_Zingaro['Treated and Polished'])\n",
    "print('t_statistic :', t_statistic)\n",
    "print('P_value :', p_value)"
   ]
  },
  {
   "cell_type": "markdown",
   "id": "4eeb30a4",
   "metadata": {},
   "source": [
    "#### ## As we can see the p_value is less than the level of significance, so we can reject the null hypothesis and hence can conclude that the mean hardness of 'Unpolished stones' and 'polished stones' are different."
   ]
  },
  {
   "cell_type": "markdown",
   "id": "6e0bc797",
   "metadata": {},
   "source": [
    "## Problem 6:\n",
    "\n",
    "### Aquarius health club, one of the largest and most popular cross-fit gyms in the country has been advertising a rigorous program for body conditioning. The program is considered successful if the candidate is able to do more than 5 push-ups, as compared to when he/she enrolled in the program. Using the sample data provided can you conclude whether the program is successful? (Consider the level of Significance as 5%)\n",
    "\n",
    "### Note that this is a problem of the paired-t-test. Since the claim is that the training will make a difference of more than 5, the null and alternative hypotheses must be formed accordingly."
   ]
  },
  {
   "cell_type": "code",
   "execution_count": 2,
   "id": "c4916da2",
   "metadata": {},
   "outputs": [],
   "source": [
    "#Load the Aquarius CSV data to notebook :\n",
    "df_Aquarius = pd.read_csv('Aquarius_gym.csv')"
   ]
  },
  {
   "cell_type": "code",
   "execution_count": 3,
   "id": "4d04c453",
   "metadata": {},
   "outputs": [
    {
     "data": {
      "text/html": [
       "<div>\n",
       "<style scoped>\n",
       "    .dataframe tbody tr th:only-of-type {\n",
       "        vertical-align: middle;\n",
       "    }\n",
       "\n",
       "    .dataframe tbody tr th {\n",
       "        vertical-align: top;\n",
       "    }\n",
       "\n",
       "    .dataframe thead th {\n",
       "        text-align: right;\n",
       "    }\n",
       "</style>\n",
       "<table border=\"1\" class=\"dataframe\">\n",
       "  <thead>\n",
       "    <tr style=\"text-align: right;\">\n",
       "      <th></th>\n",
       "      <th>0</th>\n",
       "      <th>1</th>\n",
       "      <th>2</th>\n",
       "      <th>3</th>\n",
       "      <th>4</th>\n",
       "      <th>5</th>\n",
       "      <th>6</th>\n",
       "      <th>7</th>\n",
       "      <th>8</th>\n",
       "      <th>9</th>\n",
       "      <th>10</th>\n",
       "      <th>11</th>\n",
       "      <th>12</th>\n",
       "      <th>13</th>\n",
       "      <th>14</th>\n",
       "      <th>15</th>\n",
       "      <th>16</th>\n",
       "      <th>17</th>\n",
       "      <th>18</th>\n",
       "      <th>19</th>\n",
       "    </tr>\n",
       "  </thead>\n",
       "  <tbody>\n",
       "    <tr>\n",
       "      <th>Sr no.</th>\n",
       "      <td>1</td>\n",
       "      <td>2</td>\n",
       "      <td>3</td>\n",
       "      <td>4</td>\n",
       "      <td>5</td>\n",
       "      <td>6</td>\n",
       "      <td>7</td>\n",
       "      <td>8</td>\n",
       "      <td>9</td>\n",
       "      <td>10</td>\n",
       "      <td>11</td>\n",
       "      <td>12</td>\n",
       "      <td>13</td>\n",
       "      <td>14</td>\n",
       "      <td>15</td>\n",
       "      <td>16</td>\n",
       "      <td>17</td>\n",
       "      <td>18</td>\n",
       "      <td>19</td>\n",
       "      <td>20</td>\n",
       "    </tr>\n",
       "    <tr>\n",
       "      <th>Before</th>\n",
       "      <td>39</td>\n",
       "      <td>25</td>\n",
       "      <td>39</td>\n",
       "      <td>6</td>\n",
       "      <td>40</td>\n",
       "      <td>27</td>\n",
       "      <td>30</td>\n",
       "      <td>22</td>\n",
       "      <td>21</td>\n",
       "      <td>38</td>\n",
       "      <td>32</td>\n",
       "      <td>31</td>\n",
       "      <td>16</td>\n",
       "      <td>21</td>\n",
       "      <td>32</td>\n",
       "      <td>29</td>\n",
       "      <td>36</td>\n",
       "      <td>22</td>\n",
       "      <td>34</td>\n",
       "      <td>33</td>\n",
       "    </tr>\n",
       "    <tr>\n",
       "      <th>After</th>\n",
       "      <td>44</td>\n",
       "      <td>25</td>\n",
       "      <td>39</td>\n",
       "      <td>13</td>\n",
       "      <td>44</td>\n",
       "      <td>34</td>\n",
       "      <td>34</td>\n",
       "      <td>29</td>\n",
       "      <td>30</td>\n",
       "      <td>46</td>\n",
       "      <td>37</td>\n",
       "      <td>35</td>\n",
       "      <td>24</td>\n",
       "      <td>28</td>\n",
       "      <td>39</td>\n",
       "      <td>39</td>\n",
       "      <td>44</td>\n",
       "      <td>26</td>\n",
       "      <td>40</td>\n",
       "      <td>35</td>\n",
       "    </tr>\n",
       "  </tbody>\n",
       "</table>\n",
       "</div>"
      ],
      "text/plain": [
       "        0   1   2   3   4   5   6   7   8   9   10  11  12  13  14  15  16  \\\n",
       "Sr no.   1   2   3   4   5   6   7   8   9  10  11  12  13  14  15  16  17   \n",
       "Before  39  25  39   6  40  27  30  22  21  38  32  31  16  21  32  29  36   \n",
       "After   44  25  39  13  44  34  34  29  30  46  37  35  24  28  39  39  44   \n",
       "\n",
       "        17  18  19  \n",
       "Sr no.  18  19  20  \n",
       "Before  22  34  33  \n",
       "After   26  40  35  "
      ]
     },
     "execution_count": 3,
     "metadata": {},
     "output_type": "execute_result"
    }
   ],
   "source": [
    "#Basic View of the Data-set :\n",
    "df_Aquarius.head(20).T"
   ]
  },
  {
   "cell_type": "code",
   "execution_count": 4,
   "id": "bca3ee6a",
   "metadata": {},
   "outputs": [
    {
     "data": {
      "text/html": [
       "<div>\n",
       "<style scoped>\n",
       "    .dataframe tbody tr th:only-of-type {\n",
       "        vertical-align: middle;\n",
       "    }\n",
       "\n",
       "    .dataframe tbody tr th {\n",
       "        vertical-align: top;\n",
       "    }\n",
       "\n",
       "    .dataframe thead th {\n",
       "        text-align: right;\n",
       "    }\n",
       "</style>\n",
       "<table border=\"1\" class=\"dataframe\">\n",
       "  <thead>\n",
       "    <tr style=\"text-align: right;\">\n",
       "      <th></th>\n",
       "      <th>Sr no.</th>\n",
       "      <th>Before</th>\n",
       "      <th>After</th>\n",
       "    </tr>\n",
       "  </thead>\n",
       "  <tbody>\n",
       "    <tr>\n",
       "      <th>count</th>\n",
       "      <td>100.000000</td>\n",
       "      <td>100.000000</td>\n",
       "      <td>100.000000</td>\n",
       "    </tr>\n",
       "    <tr>\n",
       "      <th>mean</th>\n",
       "      <td>50.500000</td>\n",
       "      <td>26.940000</td>\n",
       "      <td>32.490000</td>\n",
       "    </tr>\n",
       "    <tr>\n",
       "      <th>std</th>\n",
       "      <td>29.011492</td>\n",
       "      <td>8.806357</td>\n",
       "      <td>8.779562</td>\n",
       "    </tr>\n",
       "    <tr>\n",
       "      <th>min</th>\n",
       "      <td>1.000000</td>\n",
       "      <td>3.000000</td>\n",
       "      <td>10.000000</td>\n",
       "    </tr>\n",
       "    <tr>\n",
       "      <th>25%</th>\n",
       "      <td>25.750000</td>\n",
       "      <td>21.750000</td>\n",
       "      <td>26.000000</td>\n",
       "    </tr>\n",
       "    <tr>\n",
       "      <th>50%</th>\n",
       "      <td>50.500000</td>\n",
       "      <td>28.000000</td>\n",
       "      <td>34.000000</td>\n",
       "    </tr>\n",
       "    <tr>\n",
       "      <th>75%</th>\n",
       "      <td>75.250000</td>\n",
       "      <td>32.250000</td>\n",
       "      <td>39.000000</td>\n",
       "    </tr>\n",
       "    <tr>\n",
       "      <th>max</th>\n",
       "      <td>100.000000</td>\n",
       "      <td>47.000000</td>\n",
       "      <td>51.000000</td>\n",
       "    </tr>\n",
       "  </tbody>\n",
       "</table>\n",
       "</div>"
      ],
      "text/plain": [
       "           Sr no.      Before       After\n",
       "count  100.000000  100.000000  100.000000\n",
       "mean    50.500000   26.940000   32.490000\n",
       "std     29.011492    8.806357    8.779562\n",
       "min      1.000000    3.000000   10.000000\n",
       "25%     25.750000   21.750000   26.000000\n",
       "50%     50.500000   28.000000   34.000000\n",
       "75%     75.250000   32.250000   39.000000\n",
       "max    100.000000   47.000000   51.000000"
      ]
     },
     "execution_count": 4,
     "metadata": {},
     "output_type": "execute_result"
    }
   ],
   "source": [
    "df_Aquarius.describe()"
   ]
  },
  {
   "cell_type": "markdown",
   "id": "edfbe5e7",
   "metadata": {},
   "source": [
    "##### #Let's assume the candidates of Aquarius health club can do more than 5 push-ups.\n",
    "\n",
    "##### A paired t-test is used when we are interested in the difference between two variables for the same subject.\n",
    "\n",
    "Here we need to test the assumption where null hypothesis states that the candidates of Aquarius health club can do more than 5 push-ups. The alternative hypothesis states that the candidates of Aquarius health club fails to do more than 5 push-ups.\n",
    "\n",
    "#### Hence we can frame the hypnothesis of mentioned paired t-test as with mean for before(μb) and mean for after(μa), where its a believe that the program will make a difference (μb > μa)  we need to test the alternate hypothesis as their are no difference. \n",
    "\n",
    "Null hypothesis (H0) : μb - μa >5\n",
    "\n",
    "Alternative Hypothesis (HA) : μb - μa <=5"
   ]
  },
  {
   "cell_type": "markdown",
   "id": "3848a332",
   "metadata": {},
   "source": [
    "##### Here we need to consider significance level(α) = 0.05 as given in the question."
   ]
  },
  {
   "cell_type": "code",
   "execution_count": null,
   "id": "0deb8620",
   "metadata": {},
   "outputs": [],
   "source": [
    "#We use the scipy.stats.ttest_rel to calculate the T-test on TWO-TAILED samples of scores, \n",
    "##This function returns t statistic and two-tailed p value.\n",
    "t_statistic, p_value  =  stats.ttest_rel(df_Aquarius['Before'],df_Aquarius['After'])\n",
    "print('t_statistic :', t_statistic)    "
   ]
  },
  {
   "cell_type": "code",
   "execution_count": null,
   "id": "458c8d86",
   "metadata": {},
   "outputs": [],
   "source": [
    "# p_value < 0.05 => alternative hypothesis:\n",
    "print (\"*Paired two-sample t-test p-value=\", p_value/2)\n",
    "\n",
    "alpha_val = 0.05\n",
    "\n",
    "if (p_value/2) < alpha_val:\n",
    "    print('**We have enough evidence to reject the null hypothesis in favour of alternative hypothesis.') \n",
    "else:\n",
    "    print('**We do not have enough evidence to reject the null hypothesis in favour of alternative hypothesis.') "
   ]
  },
  {
   "cell_type": "markdown",
   "id": "0aa88ad5",
   "metadata": {},
   "source": [
    "#### From the test output, the p-value is less than 0.05. So, we reject the null hypothesis at 5% level of significance. \n",
    "\n",
    "#### #Conclusion : We have enough evidence to reject the null hypothesis in favour of alternative hypothesis,so we can conclude that the claim of  Aquarius health club training  program is unsuccessful, that the candidates of Aquarius health club fails to do more than 5 push-ups."
   ]
  },
  {
   "cell_type": "markdown",
   "id": "4e9ef6fa",
   "metadata": {},
   "source": [
    "## Problem 7:\n",
    "#### Dental implant data: The hardness of metal implant in dental cavities depends on multiple factors, such as the method of implant, the temperature at which the metal is treated, the alloy used as well as on the dentists who may favour one method above another and may work better in his/her favourite method. The response is the variable of interest."
   ]
  },
  {
   "cell_type": "code",
   "execution_count": 6,
   "id": "879efb2d",
   "metadata": {},
   "outputs": [],
   "source": [
    "#Load the  CSV data to notebook :\n",
    "df_Dental = pd.read_excel('Dental_Hardness_data.xlsx')"
   ]
  },
  {
   "cell_type": "code",
   "execution_count": 7,
   "id": "fe65eabe",
   "metadata": {},
   "outputs": [
    {
     "data": {
      "text/html": [
       "<div>\n",
       "<style scoped>\n",
       "    .dataframe tbody tr th:only-of-type {\n",
       "        vertical-align: middle;\n",
       "    }\n",
       "\n",
       "    .dataframe tbody tr th {\n",
       "        vertical-align: top;\n",
       "    }\n",
       "\n",
       "    .dataframe thead th {\n",
       "        text-align: right;\n",
       "    }\n",
       "</style>\n",
       "<table border=\"1\" class=\"dataframe\">\n",
       "  <thead>\n",
       "    <tr style=\"text-align: right;\">\n",
       "      <th></th>\n",
       "      <th>Dentist</th>\n",
       "      <th>Method</th>\n",
       "      <th>Alloy</th>\n",
       "      <th>Temp</th>\n",
       "      <th>Response</th>\n",
       "      <th>Unnamed: 5</th>\n",
       "      <th>Unnamed: 6</th>\n",
       "    </tr>\n",
       "  </thead>\n",
       "  <tbody>\n",
       "    <tr>\n",
       "      <th>count</th>\n",
       "      <td>90.000000</td>\n",
       "      <td>90.000000</td>\n",
       "      <td>90.000000</td>\n",
       "      <td>90.000000</td>\n",
       "      <td>90.000000</td>\n",
       "      <td>0.0</td>\n",
       "      <td>0.0</td>\n",
       "    </tr>\n",
       "    <tr>\n",
       "      <th>mean</th>\n",
       "      <td>3.000000</td>\n",
       "      <td>2.000000</td>\n",
       "      <td>1.500000</td>\n",
       "      <td>1600.000000</td>\n",
       "      <td>741.777778</td>\n",
       "      <td>NaN</td>\n",
       "      <td>NaN</td>\n",
       "    </tr>\n",
       "    <tr>\n",
       "      <th>std</th>\n",
       "      <td>1.422136</td>\n",
       "      <td>0.821071</td>\n",
       "      <td>0.502801</td>\n",
       "      <td>82.107083</td>\n",
       "      <td>145.767845</td>\n",
       "      <td>NaN</td>\n",
       "      <td>NaN</td>\n",
       "    </tr>\n",
       "    <tr>\n",
       "      <th>min</th>\n",
       "      <td>1.000000</td>\n",
       "      <td>1.000000</td>\n",
       "      <td>1.000000</td>\n",
       "      <td>1500.000000</td>\n",
       "      <td>289.000000</td>\n",
       "      <td>NaN</td>\n",
       "      <td>NaN</td>\n",
       "    </tr>\n",
       "    <tr>\n",
       "      <th>25%</th>\n",
       "      <td>2.000000</td>\n",
       "      <td>1.000000</td>\n",
       "      <td>1.000000</td>\n",
       "      <td>1500.000000</td>\n",
       "      <td>698.000000</td>\n",
       "      <td>NaN</td>\n",
       "      <td>NaN</td>\n",
       "    </tr>\n",
       "    <tr>\n",
       "      <th>50%</th>\n",
       "      <td>3.000000</td>\n",
       "      <td>2.000000</td>\n",
       "      <td>1.500000</td>\n",
       "      <td>1600.000000</td>\n",
       "      <td>767.000000</td>\n",
       "      <td>NaN</td>\n",
       "      <td>NaN</td>\n",
       "    </tr>\n",
       "    <tr>\n",
       "      <th>75%</th>\n",
       "      <td>4.000000</td>\n",
       "      <td>3.000000</td>\n",
       "      <td>2.000000</td>\n",
       "      <td>1700.000000</td>\n",
       "      <td>824.000000</td>\n",
       "      <td>NaN</td>\n",
       "      <td>NaN</td>\n",
       "    </tr>\n",
       "    <tr>\n",
       "      <th>max</th>\n",
       "      <td>5.000000</td>\n",
       "      <td>3.000000</td>\n",
       "      <td>2.000000</td>\n",
       "      <td>1700.000000</td>\n",
       "      <td>1115.000000</td>\n",
       "      <td>NaN</td>\n",
       "      <td>NaN</td>\n",
       "    </tr>\n",
       "  </tbody>\n",
       "</table>\n",
       "</div>"
      ],
      "text/plain": [
       "         Dentist     Method      Alloy         Temp     Response  Unnamed: 5  \\\n",
       "count  90.000000  90.000000  90.000000    90.000000    90.000000         0.0   \n",
       "mean    3.000000   2.000000   1.500000  1600.000000   741.777778         NaN   \n",
       "std     1.422136   0.821071   0.502801    82.107083   145.767845         NaN   \n",
       "min     1.000000   1.000000   1.000000  1500.000000   289.000000         NaN   \n",
       "25%     2.000000   1.000000   1.000000  1500.000000   698.000000         NaN   \n",
       "50%     3.000000   2.000000   1.500000  1600.000000   767.000000         NaN   \n",
       "75%     4.000000   3.000000   2.000000  1700.000000   824.000000         NaN   \n",
       "max     5.000000   3.000000   2.000000  1700.000000  1115.000000         NaN   \n",
       "\n",
       "       Unnamed: 6  \n",
       "count         0.0  \n",
       "mean          NaN  \n",
       "std           NaN  \n",
       "min           NaN  \n",
       "25%           NaN  \n",
       "50%           NaN  \n",
       "75%           NaN  \n",
       "max           NaN  "
      ]
     },
     "execution_count": 7,
     "metadata": {},
     "output_type": "execute_result"
    }
   ],
   "source": [
    "df_Dental.describe()"
   ]
  },
  {
   "cell_type": "markdown",
   "id": "31daa20f",
   "metadata": {},
   "source": [
    "#### 7.1 Test whether there is any difference among the dentists on the implant hardness. State the null and alternative hypotheses. Note that both types of alloys cannot be considered together. You must state the null and alternative hypotheses separately for the two types of alloys.?"
   ]
  },
  {
   "cell_type": "markdown",
   "id": "5cd2fa85",
   "metadata": {},
   "source": [
    "We can frame Null Hypotheses as :\n",
    "\n",
    "Null Hypotheses(H0): μa = μb\n",
    "\n",
    "There is no difference :\n",
    "\n",
    "Factor B: H0: μa ≠ μb"
   ]
  },
  {
   "cell_type": "markdown",
   "id": "c06d52ea",
   "metadata": {},
   "source": [
    "#### 7.2 Before the hypotheses may be tested, state the required assumptions. Are the assumptions fulfilled? Comment separately on both alloy types.? "
   ]
  },
  {
   "cell_type": "code",
   "execution_count": null,
   "id": "4d4dfa25",
   "metadata": {},
   "outputs": [],
   "source": []
  },
  {
   "cell_type": "markdown",
   "id": "f559eaf8",
   "metadata": {},
   "source": [
    "#### 7.3 Irrespective of your conclusion in 2, we will continue with the testing procedure. What do you conclude regarding whether implant hardness depends on dentists? Clearly state your conclusion. If the null hypothesis is rejected, is it possible to identify which pairs of dentists differ?"
   ]
  },
  {
   "cell_type": "code",
   "execution_count": null,
   "id": "92431aa9",
   "metadata": {},
   "outputs": [],
   "source": []
  },
  {
   "cell_type": "markdown",
   "id": "730e6293",
   "metadata": {},
   "source": [
    "#### 7.4 Now test whether there is any difference among the methods on the hardness of dental implant, separately for the two types of alloys. What are your conclusions? If the null hypothesis is rejected, is it possible to identify which pairs of methods differ?"
   ]
  },
  {
   "cell_type": "code",
   "execution_count": null,
   "id": "4044b550",
   "metadata": {},
   "outputs": [],
   "source": []
  },
  {
   "cell_type": "markdown",
   "id": "c5409b7d",
   "metadata": {},
   "source": [
    "#### 7.5 Now test whether there is any difference among the temperature levels on the hardness of dental implant, separately for the two types of alloys. What are your conclusions? If the null hypothesis is rejected, is it possible to identify which levels of temperatures differ?"
   ]
  },
  {
   "cell_type": "code",
   "execution_count": null,
   "id": "4ecb9180",
   "metadata": {},
   "outputs": [],
   "source": []
  },
  {
   "cell_type": "markdown",
   "id": "f7d0c84e",
   "metadata": {},
   "source": [
    "#### 7.6 Consider the interaction effect of dentist and method and comment on the interaction plot, separately for the two types of alloys?"
   ]
  },
  {
   "cell_type": "code",
   "execution_count": null,
   "id": "6ac6e180",
   "metadata": {},
   "outputs": [],
   "source": []
  },
  {
   "cell_type": "markdown",
   "id": "a0444fe7",
   "metadata": {},
   "source": [
    "#### 7.7 Now consider the effect of both factors, dentist, and method, separately on each alloy. What do you conclude? Is it possible to identify which dentists are different, which methods are different, and which interaction levels are different?"
   ]
  },
  {
   "cell_type": "code",
   "execution_count": null,
   "id": "12013a91",
   "metadata": {},
   "outputs": [],
   "source": []
  }
 ],
 "metadata": {
  "kernelspec": {
   "display_name": "Python 3 (ipykernel)",
   "language": "python",
   "name": "python3"
  },
  "language_info": {
   "codemirror_mode": {
    "name": "ipython",
    "version": 3
   },
   "file_extension": ".py",
   "mimetype": "text/x-python",
   "name": "python",
   "nbconvert_exporter": "python",
   "pygments_lexer": "ipython3",
   "version": "3.9.12"
  }
 },
 "nbformat": 4,
 "nbformat_minor": 5
}
